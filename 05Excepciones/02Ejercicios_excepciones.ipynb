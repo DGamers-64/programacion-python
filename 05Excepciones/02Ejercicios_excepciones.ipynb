{
 "cells": [
  {
   "cell_type": "markdown",
   "metadata": {},
   "source": [
    "# Ejercicios\n",
    "\n",
    "## Ejercicio 1\n",
    "\n",
    "Crea un programa en Python que tenga definido una lista de 7 posiciones que representan la temperatura máxima de cada día de la semana en una ciudad.\n",
    "\n",
    "Solicita al usuario que introduzca dos posiciones, y calculará la temperatura media entre esos días. Si los valores introducidos no son válidos, por estar fuera de los límites de la lista se capturará la excepción y la media será cero."
   ]
  },
  {
   "cell_type": "code",
   "execution_count": null,
   "metadata": {},
   "outputs": [],
   "source": [
    "def calcularMedia():\n",
    "    lista = [1, 2, 3, 4, 5, 6, 7]\n",
    "    try:\n",
    "        pos1 = int(input(\"posicion 1:\"))\n",
    "        pos2 = int(input(\"posicion 2:\"))\n",
    "        media = (lista[pos1] + lista[pos2]) / 2\n",
    "        print(media)\n",
    "        return\n",
    "    except (IndexError, ValueError):\n",
    "        print(\"posiciones incorrectas\")\n",
    "        media = 0\n",
    "        print(media)\n",
    "        return\n",
    "\n",
    "calcularMedia()"
   ]
  },
  {
   "cell_type": "markdown",
   "metadata": {},
   "source": [
    "## Ejercicio 2\n",
    "Usando control de excepciones, crea un programa que solicite al usuario un número y muestre por pantalla el valor de la raíz cuadrada de ese número. Si el número es negativo se mostrará un mensaje indicando que no es posible calcular la raíz cuadrada de un número negativo."
   ]
  },
  {
   "cell_type": "code",
   "execution_count": 3,
   "metadata": {},
   "outputs": [
    {
     "name": "stdout",
     "output_type": "stream",
     "text": [
      "2.449489742783178\n"
     ]
    }
   ],
   "source": [
    "import math\n",
    "try:\n",
    "    num = int(input(\"numero: \"))\n",
    "    raiz = math.sqrt(num)\n",
    "    print(raiz)\n",
    "except ValueError:\n",
    "    print(\"no es posible mi brother\")"
   ]
  },
  {
   "cell_type": "markdown",
   "metadata": {},
   "source": [
    "## Ejercicio 3\n",
    "Modifica el programa anterior para que el programa siga pidiendo un valor hasta que el usuario introduzca un número positivo."
   ]
  },
  {
   "cell_type": "code",
   "execution_count": 8,
   "metadata": {},
   "outputs": [
    {
     "name": "stdout",
     "output_type": "stream",
     "text": [
      "no es posible mi brother\n",
      "no es posible mi brother\n",
      "no es posible mi brother\n",
      "no es posible mi brother\n",
      "no es posible mi brother\n",
      "15.297058540778355\n"
     ]
    }
   ],
   "source": [
    "import math\n",
    "def calcularRaiz():\n",
    "    funciona = False\n",
    "    while funciona == False:\n",
    "        try:\n",
    "            num = int(input(\"numero: \"))\n",
    "            raiz = math.sqrt(num)\n",
    "            print(raiz)\n",
    "            funciona = True\n",
    "            return\n",
    "        except ValueError:\n",
    "            print(\"no es posible mi brother\")\n",
    "\n",
    "calcularRaiz()"
   ]
  },
  {
   "cell_type": "markdown",
   "metadata": {},
   "source": [
    "## Ejercicio 4\n",
    "\n",
    "Investiga el funcionamiento del método `index()` de las listas. ¿Qué ocurre si el elemento no se encuentra en la lista?\n",
    "\n",
    "Crea una lista con los nombres de los meses del año. Solicita al usuario que introduzca un nombre de mes. Si el nombre se encuentra en la lista, se mostrará el número de mes. Si el nombre no se encuentra en la lista, se mostrará un mensaje indicando que no existe ese mes, y se volverá a solicitar al usuario que introduzca un nombre de mes, hasta que introduzca el nombre de un mes válido."
   ]
  },
  {
   "cell_type": "code",
   "execution_count": 14,
   "metadata": {},
   "outputs": [
    {
     "name": "stdout",
     "output_type": "stream",
     "text": [
      "no existe tio\n",
      "no existe tio\n",
      "1\n"
     ]
    }
   ],
   "source": [
    "meses = ['enero', 'febrero', 'marzo', 'abril', 'mayo', 'junio', 'julio', 'agosto', 'septiembre', 'octubre', 'noviembre', 'diciembre']\n",
    "funciona = False\n",
    "while funciona == False:\n",
    "    try:\n",
    "        mes = input(\"dime un mes: \")\n",
    "        print(meses.index(mes)+1)\n",
    "        funciona = True\n",
    "    except ValueError:\n",
    "        print(\"no existe tio\")\n"
   ]
  },
  {
   "cell_type": "markdown",
   "metadata": {},
   "source": [
    "## Ejercicio 5\n",
    "\n",
    "Volviendo a utilizar el método `index()` de las listas, a partir de una lista con los nombres de las personas que forman un grupo, solicita al usuario que introduzca un nombre y cuenta cuántas veces aparece dicho nombre en la lista."
   ]
  },
  {
   "cell_type": "code",
   "execution_count": 4,
   "metadata": {},
   "outputs": [
    {
     "name": "stdout",
     "output_type": "stream",
     "text": [
      "3\n"
     ]
    }
   ],
   "source": [
    "grupo = ['samu', 'pedro', 'samu', 'daniel', 'daniel', 'samu']\n",
    "nombre = input(\"nombre bro: \")\n",
    "contador = 0\n",
    "i = 0\n",
    "acabou = False\n",
    "while acabou == False:\n",
    "    try:\n",
    "        i = grupo.index(nombre,i)+1\n",
    "        contador += 1\n",
    "    except ValueError:\n",
    "        print(contador)\n",
    "        acabou = True"
   ]
  }
 ],
 "metadata": {
  "kernelspec": {
   "display_name": "Python 3",
   "language": "python",
   "name": "python3"
  },
  "language_info": {
   "codemirror_mode": {
    "name": "ipython",
    "version": 3
   },
   "file_extension": ".py",
   "mimetype": "text/x-python",
   "name": "python",
   "nbconvert_exporter": "python",
   "pygments_lexer": "ipython3",
   "version": "3.12.6"
  }
 },
 "nbformat": 4,
 "nbformat_minor": 2
}
