{
 "cells": [
  {
   "cell_type": "markdown",
   "metadata": {},
   "source": [
    "## Ejercicio 1\n",
    "\n",
    "Crea una función que calcule y devuelva el área de un círculo."
   ]
  },
  {
   "cell_type": "code",
   "execution_count": 6,
   "metadata": {},
   "outputs": [
    {
     "name": "stdout",
     "output_type": "stream",
     "text": [
      "12.56\n"
     ]
    }
   ],
   "source": [
    "def areaCirculo(r):\n",
    "    area = 3.14 * r ** 2\n",
    "    return area\n",
    "\n",
    "area = int(input(\"Dame el radio del círculo\"))\n",
    "printArea = areaCirculo(area)\n",
    "print(printArea)"
   ]
  },
  {
   "cell_type": "markdown",
   "metadata": {},
   "source": [
    "## Ejercicio 1a\n",
    "\n",
    "Crea ahora dos programas principales diferentes en los que se pueda utilizar dicha función. Por ejemplo:\n",
    "\n",
    "- Programa que pida al usuario el radio y le diga el área del círculo\n",
    "- Programa para una empresa que crea posavasos circulares, para calcular el material que le va a hacer falta, pregunta al usuario cuántos posavasos quiere y cuál es su radio y calcula el área total de todos los posavasos. El usuario puede elegir varios tipos de posavasos y diferente cantidad para cada uno de ellos."
   ]
  },
  {
   "cell_type": "code",
   "execution_count": 11,
   "metadata": {},
   "outputs": [
    {
     "name": "stdout",
     "output_type": "stream",
     "text": [
      "9875532\n"
     ]
    }
   ],
   "source": [
    "def areaCirculo(r):\n",
    "    area = 3.14 * r ** 2\n",
    "    return area\n",
    "\n",
    "def calcularAreaPosavasosMultiples(numero, radio):\n",
    "    areaTotal = 0\n",
    "    for i in range(1,numero+1):\n",
    "        areaTotal += areaCirculo(radio)\n",
    "    return areaTotal\n",
    "\n",
    "opcion = \"s\"\n",
    "areaTotalisima = 0\n",
    "while(opcion == 's'):\n",
    "    numero = int(input(\"dime un numero de posavasos\"))\n",
    "    radio = int(input(\"Dame el radio del círculo\"))\n",
    "    areaTotalisima += calcularAreaPosavasosMultiples(numero, radio)\n",
    "    opcion = input(\"quieres seguir? (s/n)\")\n",
    "print(round(areaTotalisima))"
   ]
  },
  {
   "cell_type": "markdown",
   "metadata": {},
   "source": [
    "## Ejercicio 1a\n",
    "\n",
    "Crea ahora dos programas principales diferentes en los que se pueda utilizar dicha función. Por ejemplo:\n",
    "\n",
    "- Programa que pida al usuario el radio y le diga el área del círculo\n",
    "- Programa para una empresa que crea posavasos circulares, para calcular el material que le va a hacer falta, pregunta al usuario cuántos posavasos quiere y cuál es su radio y calcula el área total de todos los posavasos. El usuario puede elegir varios tipos de posavasos y diferente cantidad para cada uno de ellos."
   ]
  },
  {
   "cell_type": "markdown",
   "metadata": {},
   "source": [
    "## Ejercicio 2\n",
    "\n",
    "Crea una función que reciba un número entero y muestre por pantalla un cuadrado de asteriscos con tantos asteriscos como se le haya indicado. Por ejemplo, si se le pasa el valor 3, muestra:\n",
    "```python\n",
    "***\n",
    "***\n",
    "***\n",
    "```"
   ]
  },
  {
   "cell_type": "code",
   "execution_count": 6,
   "metadata": {},
   "outputs": [
    {
     "name": "stdout",
     "output_type": "stream",
     "text": [
      "*****\n",
      "*****\n",
      "*****\n",
      "*****\n",
      "*****\n"
     ]
    }
   ],
   "source": [
    "def imprime(num):\n",
    "    for i in range(0,num):\n",
    "        for j in range(0,num):\n",
    "            print(\"*\", end=\"\")\n",
    "        print()\n",
    "    return\n",
    "\n",
    "imprime(int(input(\"dime un numero\")))"
   ]
  },
  {
   "cell_type": "markdown",
   "metadata": {},
   "source": [
    "## Ejercicio 3\n",
    "\n",
    "Crea una función a la que se le pase la edad de un alumno y devuelva si es o no mayor de edad (como un valor booleano)."
   ]
  },
  {
   "cell_type": "code",
   "execution_count": 15,
   "metadata": {},
   "outputs": [
    {
     "name": "stdout",
     "output_type": "stream",
     "text": [
      "Es mayor de edad\n"
     ]
    }
   ],
   "source": [
    "def comprobarMayorEdad(edad):\n",
    "    if edad >= 18:\n",
    "        return True\n",
    "    return False\n",
    "\n",
    "edad = int(input(\"dime una edad\"))\n",
    "if (comprobarMayorEdad(edad)):\n",
    "    print(\"Es mayor de edad\")\n",
    "else:\n",
    "    print(\"No lo es\")"
   ]
  },
  {
   "cell_type": "markdown",
   "metadata": {},
   "source": [
    "## Ejercicio 4\n",
    "\n",
    "Crea una función que no reciba parámetros y muestre por pantalla el siguiente menú:\n",
    "\n",
    "```\n",
    "    1. Saludar\n",
    "    2. Despedir\n",
    "    3. Salir\n",
    "    Escoge una opción: \n",
    "```\n",
    "\n",
    "Debe devolver el valor escogido por el usuario.\n",
    "\n",
    "El programa principal debe llamar a la función y ejecutar la opción que haya escogido el usuario.\n"
   ]
  },
  {
   "cell_type": "code",
   "execution_count": 13,
   "metadata": {},
   "outputs": [
    {
     "name": "stdout",
     "output_type": "stream",
     "text": [
      "1. Saludar\n",
      "2. Despedir\n",
      "3. Salir\n",
      "adiosss\n"
     ]
    }
   ],
   "source": [
    "def saludo():\n",
    "    print(\"1. Saludar\")\n",
    "    print(\"2. Despedir\")\n",
    "    print(\"3. Salir\")\n",
    "    return int(input(\"escoge una\"))\n",
    "\n",
    "opcion = saludo()\n",
    "match opcion:\n",
    "    case 1:\n",
    "        print(\"Holaa\")\n",
    "    case 2:\n",
    "        print(\"adiosss\")\n",
    "    case 3:\n",
    "        print(\"saliendo...\")\n",
    "    case _:\n",
    "        print(\"opcion invalida\")"
   ]
  },
  {
   "cell_type": "markdown",
   "metadata": {},
   "source": [
    "# Ejercicio 5\n",
    "\n",
    "Crea una función en Python que calcule e imprima el volumen y el área del cono.\n",
    "\n",
    "Modifícala para que sean dos funciones, una que devuelva el volumen y otra el área del cono.\n",
    "\n",
    "**AVANZADO** Modifícala para que sea una función que devuelve dos valores."
   ]
  },
  {
   "cell_type": "code",
   "execution_count": 3,
   "metadata": {},
   "outputs": [
    {
     "name": "stdout",
     "output_type": "stream",
     "text": [
      "volumen: 418.46 area: 652.519\n"
     ]
    }
   ],
   "source": [
    "import math\n",
    "\n",
    "def calcularCono(h, r):\n",
    "    g = math.pi * (r ** 2)\n",
    "    v = 0.333 * g * h\n",
    "    s = math.sqrt(r ** 2 + h ** 2)\n",
    "    m = math.pi * r * s\n",
    "    o = g + m\n",
    "    return v, o\n",
    "\n",
    "def recortarDecimales(num, decimales):\n",
    "    num = str(num)\n",
    "    numNuevo = ''\n",
    "    esDecimal = False\n",
    "    for i in num:\n",
    "        numNuevo += i\n",
    "        if (i == '.'):\n",
    "            esDecimal = True\n",
    "            continue\n",
    "        \n",
    "        if (esDecimal):\n",
    "            decimales -= 1\n",
    "            if(decimales == 0):\n",
    "                break\n",
    "    return float(numNuevo)\n",
    "\n",
    "altura = int(input(\"dime la altura\"))\n",
    "radio = int(input(\"dime el radio\"))\n",
    "\n",
    "v, o = calcularCono(altura, radio)\n",
    "print(\"volumen:\", recortarDecimales(v, 3), \"area:\", recortarDecimales(o, 3))"
   ]
  },
  {
   "cell_type": "markdown",
   "metadata": {},
   "source": [
    "# Ejercicio 6\n",
    "\n",
    "Crea una función en Python que indique si un año es o no bisiesto. Devolverá `True` cuando\n",
    "lo es y `False` en caso contrario. Crea un programa principal que solicite el año al usuario y\n",
    "haga uso de la función."
   ]
  },
  {
   "cell_type": "code",
   "execution_count": 32,
   "metadata": {},
   "outputs": [
    {
     "name": "stdout",
     "output_type": "stream",
     "text": [
      "No lo es\n"
     ]
    }
   ],
   "source": [
    "def esBisiesto(año):\n",
    "    if (año % 4 != 0 or año % 400 != 0 and año % 100 == 0):\n",
    "        return False\n",
    "    else:\n",
    "        return True\n",
    "\n",
    "año = int(input(\"dime un año\"))\n",
    "año = esBisiesto(año)\n",
    "if(año):\n",
    "    print(\"Es bisiesto\")\n",
    "else:\n",
    "    print(\"No lo es\")"
   ]
  },
  {
   "cell_type": "markdown",
   "metadata": {},
   "source": [
    "# Ejercicio 7\n",
    "\n",
    "Utiliza la función anterior para crear un programa que pida al usuario un\n",
    "año mínimo y uno máximo y devuelva los años bisiestos que se encuentren entre ambos.\n",
    "\n",
    "**AVANZADO**: Crea con esto otra función, que haga uso de la del Ejercicio 6, a la que se le pasen los años de inicio y fin. En el caso de que no se le pase ningún año de fin tomará 2023 como valor por defecto.\n"
   ]
  },
  {
   "cell_type": "code",
   "execution_count": 11,
   "metadata": {},
   "outputs": [
    {
     "name": "stdout",
     "output_type": "stream",
     "text": [
      "1904\n",
      "1908\n",
      "1912\n",
      "1916\n",
      "1920\n",
      "1924\n",
      "1928\n",
      "1932\n",
      "1936\n",
      "1940\n",
      "1944\n",
      "1948\n",
      "1952\n",
      "1956\n",
      "1960\n",
      "1964\n",
      "1968\n",
      "1972\n",
      "1976\n",
      "1980\n",
      "1984\n",
      "1988\n",
      "1992\n",
      "1996\n",
      "2000\n",
      "2004\n",
      "2008\n",
      "2012\n",
      "2016\n",
      "2020\n"
     ]
    }
   ],
   "source": [
    "def esBisiesto(año):\n",
    "    if (año % 4 != 0 or año % 400 != 0 and año % 100 == 0):\n",
    "        return False\n",
    "    else:\n",
    "        return True\n",
    "\n",
    "def sonBisiestos(añoMin, añoMax=2023):\n",
    "    for i in range(añoMin, añoMax):\n",
    "        if(esBisiesto(i)):\n",
    "            print(i)\n",
    "\n",
    "añoMin = int(input(\"dime un año\"))\n",
    "añoMax = input(\"dime otro año mayor a este\")\n",
    "\n",
    "if(añoMax != ''):\n",
    "    sonBisiestos(añoMin, int(añoMax))\n",
    "else:\n",
    "    sonBisiestos(añoMin)\n"
   ]
  },
  {
   "cell_type": "markdown",
   "metadata": {},
   "source": [
    "# Ejercicio 8\n",
    "\n",
    "Crea una función en Python que determine si un número es, o no, primo. La función\n",
    "devolverá `True` cuando el número sea primo y `False`, en caso contrario.\n"
   ]
  },
  {
   "cell_type": "code",
   "execution_count": 13,
   "metadata": {},
   "outputs": [
    {
     "name": "stdout",
     "output_type": "stream",
     "text": [
      "True\n"
     ]
    }
   ],
   "source": [
    "def esPrimo(num):\n",
    "    primo = True\n",
    "    for i in range(num-1,1,-1):\n",
    "        resultado = num % i\n",
    "        if(resultado == 0):\n",
    "            primo = False\n",
    "            break\n",
    "    if (primo):\n",
    "        return True\n",
    "    else:\n",
    "        return False\n",
    "\n",
    "num = int(input(\"introduce un numero\"))\n",
    "print(esPrimo(num))\n",
    "    "
   ]
  },
  {
   "cell_type": "markdown",
   "metadata": {},
   "source": [
    "# Ejercicio 9\n",
    "\n",
    "Utiliza la función anterior para crear un programa que pida al usuario un número y devuelva los números primos menores que ese número."
   ]
  },
  {
   "cell_type": "code",
   "execution_count": 15,
   "metadata": {},
   "outputs": [
    {
     "name": "stdout",
     "output_type": "stream",
     "text": [
      "0\n",
      "1\n",
      "2\n",
      "3\n",
      "5\n",
      "7\n",
      "11\n",
      "13\n"
     ]
    }
   ],
   "source": [
    "def esPrimo(num):\n",
    "    primo = True\n",
    "    for i in range(num-1,1,-1):\n",
    "        resultado = num % i\n",
    "        if(resultado == 0):\n",
    "            primo = False\n",
    "            break\n",
    "    if (primo):\n",
    "        return True\n",
    "    else:\n",
    "        return False\n",
    "\n",
    "num = int(input(\"dime un numéro\"))\n",
    "for i in range(num):\n",
    "    if(esPrimo(i)):\n",
    "        print(i)\n",
    "    "
   ]
  },
  {
   "cell_type": "markdown",
   "metadata": {},
   "source": [
    "# Ejercicio 10\n",
    "\n",
    "Crea una función en Python que reciba un número y genere una pirámide como la siguiente\n",
    "(esta sería la generada cuando se recibe el número 5):\n",
    "```python\n",
    "    1\n",
    "   212\n",
    "  32123\n",
    " 4321234\n",
    "543212345\n",
    "```\n",
    "Paso 1\n",
    "```python\n",
    "1\n",
    "21\n",
    "321\n",
    "4321\n",
    "54321\n",
    "```\n",
    "Paso 2\n",
    "```python\n",
    "    1\n",
    "   21\n",
    "  321\n",
    " 4321\n",
    "54321\n",
    "```\n",
    "Paso 3\n",
    "```python\n",
    "    1\n",
    "   212\n",
    "  32123\n",
    " 4321234\n",
    "543212345\n",
    "```"
   ]
  },
  {
   "cell_type": "code",
   "execution_count": 16,
   "metadata": {},
   "outputs": [
    {
     "name": "stdout",
     "output_type": "stream",
     "text": [
      "        1\n",
      "       212\n",
      "      32123\n",
      "     4321234\n",
      "    543212345\n",
      "   65432123456\n",
      "  7654321234567\n",
      " 876543212345678\n"
     ]
    }
   ],
   "source": [
    "def dibujarPiramide(filas):\n",
    "    columnas = 1\n",
    "    contador = filas\n",
    "    for i in range(1, filas+1):\n",
    "        for j in range(0, contador):\n",
    "            print(\" \", end=\"\")\n",
    "        for n in range (i, 0, -1):\n",
    "            print(n, end=\"\")\n",
    "        for n in range (2, i+1):\n",
    "            print(n, end=\"\")\n",
    "        columnas += 2\n",
    "        contador -= 1\n",
    "        print(\"\\n\", end=\"\")\n",
    "    \n",
    "filas = int(input(\"cuantas filas quieres?\"))\n",
    "dibujarPiramide(filas)"
   ]
  }
 ],
 "metadata": {
  "kernelspec": {
   "display_name": "Python 3",
   "language": "python",
   "name": "python3"
  },
  "language_info": {
   "codemirror_mode": {
    "name": "ipython",
    "version": 3
   },
   "file_extension": ".py",
   "mimetype": "text/x-python",
   "name": "python",
   "nbconvert_exporter": "python",
   "pygments_lexer": "ipython3",
<<<<<<< HEAD
   "version": "3.12.6"
=======
   "version": "3.12.3"
>>>>>>> 70218b497648ce45dc915502013e2733bea143ea
  },
  "orig_nbformat": 4
 },
 "nbformat": 4,
 "nbformat_minor": 2
}
