{
 "cells": [
  {
   "cell_type": "code",
   "execution_count": null,
   "metadata": {},
   "outputs": [],
   "source": [
    "def sumar(a: int, b: int) -> int:\n",
    "    return a + b\n",
    "\n",
    "sumar(1, 2)"
   ]
  },
  {
   "cell_type": "code",
   "execution_count": 2,
   "metadata": {},
   "outputs": [
    {
     "data": {
      "text/plain": [
       "'32'"
      ]
     },
     "execution_count": 2,
     "metadata": {},
     "output_type": "execute_result"
    }
   ],
   "source": [
    "def sumar(a: int, b: int) -> int:\n",
    "    return a + b\n",
    "\n",
    "sumar(\"3\", \"2\")"
   ]
  },
  {
   "cell_type": "markdown",
   "metadata": {},
   "source": [
    "## Activación en VSCode\n",
    "\n",
    "Necesitamos dos extensiones:\n",
    "\n",
    "### **Python Type Hint**\n",
    "\n",
    "Para mostrar ayuda emergente de los posibles tipos al escribir los *type hints*.\n",
    "\n",
    "### **Pylance**\n",
    "Entre otras muchas funciones, comprueba que los tipos se corresponden con los que hemos indicado. \n",
    "\n",
    "Debe habilitarse en:\n",
    "\n",
    "`Archivo -> Preferencias -> Configuración -> python.analysis.typeCheckingMode`, dándole valores `Basic` o `Strict`.\n",
    "\n",
    "### Error Lens\n",
    "No es imprescindible, pero sí recomendable para que muestre el error en la misma línea en la que se produce."
   ]
  }
 ],
 "metadata": {
  "kernelspec": {
   "display_name": "Python 3",
   "language": "python",
   "name": "python3"
  },
  "language_info": {
   "codemirror_mode": {
    "name": "ipython",
    "version": 3
   },
   "file_extension": ".py",
   "mimetype": "text/x-python",
   "name": "python",
   "nbconvert_exporter": "python",
   "pygments_lexer": "ipython3",
   "version": "3.10.12"
  }
 },
 "nbformat": 4,
 "nbformat_minor": 2
}
