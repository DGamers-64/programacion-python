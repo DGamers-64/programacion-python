{
 "cells": [
  {
   "cell_type": "markdown",
   "metadata": {},
   "source": [
    "# Ejercicio 1\n",
    "\n",
    "Dos números `a` y `b` se dice que son amigos si la suma de los divisores de `a` (salvo él mismo) coincide con `b` y viceversa. Crea un programa que tenga como entrada dos números enteros mayores que 0 y que indique mediante un mensaje sin son amigos o no. Puedes probar con los números 220 y 284, o 1184 y 1210, que sí son amigos.\n",
    "\n",
    "Utiliza 2 funciones: una para determinar si los números son amigos y otra para devolver la suma de los divisores de un número.\n"
   ]
  },
  {
   "cell_type": "markdown",
   "metadata": {},
   "source": [
    "\n",
    "# Ejercicio 2\n",
    "\n",
    "Crea un programa que pida dos números enteros por teclado y muestre por pantalla el siguiente menú:\n",
    "```python\n",
    "MENÚ\n",
    "    1. Sumar\n",
    "    2. Restar\n",
    "    3. Multiplicar\n",
    "    4. Dividir\n",
    "    5. Salir\n",
    "Elija una opción:\n",
    "```\n",
    "El usuario elegirá el número de la opción que corresponda con la operación matemática elegida, se mostrará el resultado y se volverá a mostrar de nuevo el menú. El programa se ejecutará hasta que el usuarios elija la opción 5 (Salir). Si el usuario introduce una opción no contemplada en el menú, le mostrará un mensaje y de nuevo el menú para que seleccione una opción correcta.\n",
    "\n",
    "Crea una funciones para el menú y cada una de las operaciones a realizar en él."
   ]
  }
 ],
 "metadata": {
  "language_info": {
   "name": "python"
  },
  "orig_nbformat": 4
 },
 "nbformat": 4,
 "nbformat_minor": 2
}
