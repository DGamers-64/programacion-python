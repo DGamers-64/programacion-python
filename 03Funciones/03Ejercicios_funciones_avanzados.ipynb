{
 "cells": [
  {
   "cell_type": "markdown",
   "metadata": {},
   "source": [
    "# Ejercicio 1\n",
    "\n",
    "Dos números `a` y `b` se dice que son amigos si la suma de los divisores de `a` (salvo él mismo) coincide con `b` y viceversa. Crea un programa que tenga como entrada dos números enteros mayores que 0 y que indique mediante un mensaje sin son amigos o no. Puedes probar con los números 220 y 284, o 1184 y 1210, que sí son amigos.\n",
    "\n",
    "Utiliza 2 funciones: una para determinar si los números son amigos y otra para devolver la suma de los divisores de un número.\n"
   ]
  },
  {
   "cell_type": "code",
   "execution_count": 11,
   "metadata": {},
   "outputs": [
    {
     "name": "stdout",
     "output_type": "stream",
     "text": [
      "no lo son :((\n"
     ]
    }
   ],
   "source": [
    "def sumaDivisores(num):\n",
    "    divisores = 0\n",
    "    for i in range(1,num+1):\n",
    "        if num % i == 0:\n",
    "            divisores += i\n",
    "    return divisores\n",
    "\n",
    "def sonAmigos(a, b):\n",
    "    if (sumaDivisores(a) == sumaDivisores(b)):\n",
    "        return True\n",
    "    else:\n",
    "        return False\n",
    "\n",
    "a = int(input(\"dime un numero\"))\n",
    "b = int(input(\"dime otro numero\"))\n",
    "\n",
    "if(sonAmigos(a, b)):\n",
    "    print(\"son amigos!!!\")\n",
    "else:\n",
    "    print(\"no lo son :((\")\n"
   ]
  },
  {
   "cell_type": "markdown",
   "metadata": {},
   "source": [
    "\n",
    "# Ejercicio 2\n",
    "\n",
    "Crea un programa que pida dos números enteros por teclado y muestre por pantalla el siguiente menú:\n",
    "```python\n",
    "MENÚ\n",
    "    1. Sumar\n",
    "    2. Restar\n",
    "    3. Multiplicar\n",
    "    4. Dividir\n",
    "    5. Salir\n",
    "Elija una opción:\n",
    "```\n",
    "El usuario elegirá el número de la opción que corresponda con la operación matemática elegida, se mostrará el resultado y se volverá a mostrar de nuevo el menú. El programa se ejecutará hasta que el usuarios elija la opción 5 (Salir). Si el usuario introduce una opción no contemplada en el menú, le mostrará un mensaje y de nuevo el menú para que seleccione una opción correcta.\n",
    "\n",
    "Crea una funciones para el menú y cada una de las operaciones a realizar en él."
   ]
  },
  {
   "cell_type": "code",
   "execution_count": 2,
   "metadata": {},
   "outputs": [
    {
     "name": "stdout",
     "output_type": "stream",
     "text": [
      "\n",
      "MENÚ\n",
      "    1. Sumar\n",
      "    2. Restar\n",
      "    3. Multiplicar\n",
      "    4. Dividir\n",
      "    5. Salir\n",
      "Elija una opción:\n",
      "3\n",
      "\n",
      "MENÚ\n",
      "    1. Sumar\n",
      "    2. Restar\n",
      "    3. Multiplicar\n",
      "    4. Dividir\n",
      "    5. Salir\n",
      "Elija una opción:\n",
      "1\n",
      "\n",
      "MENÚ\n",
      "    1. Sumar\n",
      "    2. Restar\n",
      "    3. Multiplicar\n",
      "    4. Dividir\n",
      "    5. Salir\n",
      "Elija una opción:\n",
      "20\n",
      "\n",
      "MENÚ\n",
      "    1. Sumar\n",
      "    2. Restar\n",
      "    3. Multiplicar\n",
      "    4. Dividir\n",
      "    5. Salir\n",
      "Elija una opción:\n",
      "5.0\n",
      "\n",
      "MENÚ\n",
      "    1. Sumar\n",
      "    2. Restar\n",
      "    3. Multiplicar\n",
      "    4. Dividir\n",
      "    5. Salir\n",
      "Elija una opción:\n"
     ]
    }
   ],
   "source": [
    "def menu():\n",
    "    x = int(input(\"dime un numero\"))\n",
    "    y = int(input(\"dime otro numero\"))\n",
    "    print('''\n",
    "MENÚ\n",
    "    1. Sumar\n",
    "    2. Restar\n",
    "    3. Multiplicar\n",
    "    4. Dividir\n",
    "    5. Salir\n",
    "Elija una opción:''')\n",
    "\n",
    "    opcion = int(input())\n",
    "    z = operaciones(opcion, x, y)\n",
    "    if(z != 'bye'):\n",
    "        print(z)\n",
    "        return True\n",
    "    else:\n",
    "        return False\n",
    "\n",
    "def operaciones(opcion, x, y):\n",
    "    match opcion:\n",
    "        case 1:\n",
    "            z = x + y\n",
    "        case 2:\n",
    "            z = x - y\n",
    "        case 3:\n",
    "            z = x * y\n",
    "        case 4:\n",
    "            z = x / y\n",
    "        case 5:\n",
    "            z = 'bye'\n",
    "    return z\n",
    "\n",
    "opcion = True\n",
    "while(opcion):\n",
    "    opcion = menu()"
   ]
  }
 ],
 "metadata": {
  "kernelspec": {
   "display_name": "Python 3",
   "language": "python",
   "name": "python3"
  },
  "language_info": {
   "codemirror_mode": {
    "name": "ipython",
    "version": 3
   },
   "file_extension": ".py",
   "mimetype": "text/x-python",
   "name": "python",
   "nbconvert_exporter": "python",
   "pygments_lexer": "ipython3",
   "version": "3.12.6"
  },
  "orig_nbformat": 4
 },
 "nbformat": 4,
 "nbformat_minor": 2
}
