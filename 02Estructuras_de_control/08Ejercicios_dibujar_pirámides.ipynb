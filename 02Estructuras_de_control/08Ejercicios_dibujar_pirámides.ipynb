{
 "cells": [
  {
   "cell_type": "markdown",
   "metadata": {},
   "source": [
    "**¡OJO! Muchos de estos ejercicios son de nivel avanzado**\n",
    "\n",
    "En estos ejercicios se comprobará que los datos introducidos por el usuario sean números positivos mayores que 0. En caso de que no se cumplan estas condiciones, se solicitará de nuevo el número tantas veces como sea necesario hasta que se cumplan las condiciones establecidas.\n",
    "\n",
    "# Ejercicio 1\n",
    "\n",
    "Crea un programa en Python que dibuje un conjunto de asteriscos en varias líneas tal y como se ve a continuación. El número de asteriscos por fila y el número de filas será dado por el usuario.\n",
    "```python\n",
    "**********\n",
    "**********\n",
    "**********\n",
    "**********\n",
    "```\n"
   ]
  },
  {
   "cell_type": "code",
   "execution_count": 7,
   "metadata": {},
   "outputs": [
    {
     "name": "stdout",
     "output_type": "stream",
     "text": [
      "**********\n",
      "**********\n",
      "**********\n",
      "**********\n"
     ]
    }
   ],
   "source": [
    "rows = int(input(\"filas\"))\n",
    "cols = int(input(\"columnas\"))\n",
    "for i in range(1,rows+1):\n",
    "    for j in range(1,cols+1):\n",
    "        print(\"*\", end=\"\")\n",
    "    print(\"\\n\", end=\"\")"
   ]
  },
  {
   "cell_type": "markdown",
   "metadata": {},
   "source": [
    "\n",
    "# Ejercicio 2\n",
    "\n",
    "Crea un programa en Python que dibuje una escalera de asteriscos tal y como se ve a continuación. El número de filas será dado por el usuario.\n",
    "```python\n",
    "*\n",
    "**\n",
    "***\n",
    "****\n",
    "*****\n",
    "```\n"
   ]
  },
  {
   "cell_type": "code",
   "execution_count": 3,
   "metadata": {},
   "outputs": [
    {
     "name": "stdout",
     "output_type": "stream",
     "text": [
      "*\n",
      "**\n",
      "***\n",
      "****\n",
      "*****\n"
     ]
    }
   ],
   "source": [
    "rows = int(input(\"cuantas filas quieres?\"))\n",
    "for i in range(1,rows+1):\n",
    "    for j in range(0,i):\n",
    "        print(\"*\", end=\"\")\n",
    "    print(\"\\n\", end=\"\")\n"
   ]
  },
  {
   "cell_type": "markdown",
   "metadata": {},
   "source": [
    "\n",
    "# Ejercicio 3\n",
    "\n",
    "Crea un programa en Python que dibuje una escalera de asteriscos tal y como se ve a continuación. El número de filas será dado por el usuario.\n",
    "```python\n",
    "*\n",
    "***\n",
    "*****\n",
    "*******\n",
    "*********\n",
    "```\n"
   ]
  },
  {
   "cell_type": "code",
   "execution_count": 5,
   "metadata": {},
   "outputs": [
    {
     "name": "stdout",
     "output_type": "stream",
     "text": [
      "*\n",
      "***\n",
      "*****\n",
      "*******\n",
      "*********\n"
     ]
    }
   ],
   "source": [
    "rows = int(input(\"cuantas filas quieres?\"))\n",
    "cols = 1\n",
    "for i in range(1,rows+1):\n",
    "    for j in range(0,cols):\n",
    "        print(\"*\", end=\"\")\n",
    "    cols += 2\n",
    "    print(\"\\n\", end=\"\")"
   ]
  },
  {
   "cell_type": "markdown",
   "metadata": {},
   "source": [
    "\n",
    "# Ejercicio 4\n",
    "\n",
    "Crea un programa Python que dibuje una pirámide sólida de asteriscos. La altura de la pirámide se pide por teclado. Un ejemplo de ejecución para una pirámide de altura 5 sería:\n",
    "```python\n",
    "        *\n",
    "      ***\n",
    "    *****\n",
    "  *******\n",
    "*********\n",
    "```\n"
   ]
  },
  {
   "cell_type": "code",
   "execution_count": 1,
   "metadata": {},
   "outputs": [
    {
     "name": "stdout",
     "output_type": "stream",
     "text": [
      "          *\n",
      "        ***\n",
      "      *****\n",
      "    *******\n",
      "  *********\n",
      "***********\n"
     ]
    }
   ],
   "source": [
    "filas = int(input(\"cuantas filas quieres?\"))\n",
    "columnas = 1\n",
    "contador = filas\n",
    "\n",
    "for i in range(1, filas+1):\n",
    "    for j in range(0, contador * 2 - 2):\n",
    "        print(\" \", end=\"\")\n",
    "    for n in range (0, columnas):\n",
    "        print(\"*\", end=\"\")\n",
    "    columnas += 2\n",
    "    contador -= 1\n",
    "    print(\"\\n\", end=\"\")"
   ]
  },
  {
   "cell_type": "markdown",
   "metadata": {},
   "source": [
    "\n",
    "# Ejercicio 5\n",
    "\n",
    "Crea un programa en Python que dibuje una escalera de asteriscos tal y como se ve a continuación. El número de filas será dado por el usuario.\n",
    "```python\n",
    "    *\n",
    "   ***\n",
    "  *****\n",
    " *******\n",
    "*********\n",
    "```"
   ]
  },
  {
   "cell_type": "code",
   "execution_count": 6,
   "metadata": {},
   "outputs": [
    {
     "name": "stdout",
     "output_type": "stream",
     "text": [
      "      *\n",
      "     ***\n",
      "    *****\n",
      "   *******\n",
      "  *********\n",
      " ***********\n"
     ]
    }
   ],
   "source": [
    "filas = int(input(\"cuantas filas quieres?\"))\n",
    "columnas = 1\n",
    "contador = filas\n",
    "\n",
    "for i in range(1, filas+1):\n",
    "    for j in range(0, contador):\n",
    "        print(\" \", end=\"\")\n",
    "    for n in range (0, columnas):\n",
    "        print(\"*\", end=\"\")\n",
    "    columnas += 2\n",
    "    contador -= 1\n",
    "    print(\"\\n\", end=\"\")"
   ]
  },
  {
   "cell_type": "markdown",
   "metadata": {},
   "source": [
    "\n",
    "# Ejercicio 6\n",
    "\n",
    "Crea un programa en Python que dibuje una pirámide de asteriscos invertida tal y como se ve a continuación. El número máximo de asteriscos, de la fila más larga será dado por el usuario, en el ejemplo es 5.\n",
    "```python\n",
    "* \n",
    "* * \n",
    "* * * \n",
    "* * * * \n",
    "* * * * * \n",
    "* * * * \n",
    "* * * \n",
    "* * \n",
    "*\n",
    "```\n"
   ]
  },
  {
   "cell_type": "code",
   "execution_count": 16,
   "metadata": {},
   "outputs": [
    {
     "name": "stdout",
     "output_type": "stream",
     "text": [
      "* \n",
      "* * \n",
      "* * * \n",
      "* * * * \n",
      "* * * * * \n",
      "* * * * * * \n",
      "* * * * * \n",
      "* * * * \n",
      "* * * \n",
      "* * \n",
      "* \n"
     ]
    }
   ],
   "source": [
    "asteriscos = int(input(\"cuantos asteriscos habrá en la fila más larga?\"))\n",
    "\n",
    "for i in range(2, asteriscos+2):\n",
    "    for j in range(1, i):\n",
    "        print(\"* \", end=\"\")\n",
    "    print(\"\\n\", end=\"\")\n",
    "\n",
    "for i in range(asteriscos, 1, -1):\n",
    "    for j in range(i, 1, -1):\n",
    "        print(\"* \", end=\"\")\n",
    "    print(\"\\n\", end=\"\")"
   ]
  },
  {
   "cell_type": "markdown",
   "metadata": {},
   "source": [
    "    \n",
    "# Ejercicio 7\n",
    "\n",
    "Crea un programa en Python que dibuje una escalera de números tal y como se ve a continuación. El número de filas será dado por el usuario.\n",
    "```python\n",
    "1\n",
    "222\n",
    "33333\n",
    "4444444\n",
    "555555555\n",
    "```\n"
   ]
  },
  {
   "cell_type": "code",
   "execution_count": 17,
   "metadata": {},
   "outputs": [
    {
     "name": "stdout",
     "output_type": "stream",
     "text": [
      "1\n",
      "222\n",
      "33333\n",
      "4444444\n",
      "555555555\n",
      "66666666666\n",
      "7777777777777\n",
      "888888888888888\n"
     ]
    }
   ],
   "source": [
    "rows = int(input(\"cuantas filas quieres?\"))\n",
    "cols = 1\n",
    "for i in range(1,rows+1):\n",
    "    for j in range(0,cols):\n",
    "        print(i, end=\"\")\n",
    "    cols += 2\n",
    "    print(\"\\n\", end=\"\")"
   ]
  },
  {
   "cell_type": "markdown",
   "metadata": {},
   "source": [
    "\n",
    "# Ejercicio 8\n",
    "\n",
    "Crea un programa en Python que dibuje una escalera de números tal y como se ve a continuación. El número de filas será dado por el usuario.\n",
    "```python\n",
    "    1\n",
    "   212\n",
    "  32123\n",
    " 4321234\n",
    "543212345\n",
    "```\n"
   ]
  },
  {
   "cell_type": "code",
   "execution_count": 32,
   "metadata": {},
   "outputs": [
    {
     "name": "stdout",
     "output_type": "stream",
     "text": [
      "      1\n",
      "     212\n",
      "    32123\n",
      "   4321234\n",
      "  543212345\n",
      " 65432123456\n"
     ]
    }
   ],
   "source": [
    "filas = int(input(\"cuantas filas quieres?\"))\n",
    "columnas = 1\n",
    "contador = filas\n",
    "\n",
    "for i in range(1, filas+1):\n",
    "    for j in range(0, contador):\n",
    "        print(\" \", end=\"\")\n",
    "    for n in range (i, 0, -1):\n",
    "        print(n, end=\"\")\n",
    "    for n in range (1, i+1):\n",
    "        if n != 1:\n",
    "            print(n, end=\"\")\n",
    "    columnas += 2\n",
    "    contador -= 1\n",
    "    print(\"\\n\", end=\"\")"
   ]
  },
  {
   "cell_type": "markdown",
   "metadata": {},
   "source": [
    "    \n",
    "# Ejercicio 9\n",
    "\n",
    "Crea un programa en Python que dibuje una escalera de números tal y como se ve a continuación. El número de filas será dado por el usuario.\n",
    "```python\n",
    "1\n",
    "3 1\n",
    "5 3 1\n",
    "7 5 3 1\n",
    "9 7 5 3 1\n",
    "```\n"
   ]
  },
  {
   "cell_type": "code",
   "execution_count": 41,
   "metadata": {},
   "outputs": [
    {
     "name": "stdout",
     "output_type": "stream",
     "text": [
      "1  \n",
      "3  1  \n",
      "5  3  1  \n",
      "7  5  3  1  \n",
      "9  7  5  3  1  \n"
     ]
    }
   ],
   "source": [
    "rows = int(input(\"cuantas filas quieres?\"))\n",
    "contador = 1\n",
    "\n",
    "for i in range(1,rows+1):\n",
    "    contadorAux = contador\n",
    "    for j in range(1,i+1):\n",
    "        print(contadorAux, \" \", end=\"\")\n",
    "        contadorAux -= 2\n",
    "    contador += 2\n",
    "    print(\"\\n\", end=\"\")"
   ]
  },
  {
   "cell_type": "markdown",
   "metadata": {},
   "source": [
    "\n",
    "# Ejercicio 10\n",
    "\n",
    "Crea un programa en Python que dibuje una escalera de números invertida tal y como se ve a continuación. El número de filas será dado por el usuario.\n",
    "```python\n",
    "5 4 3 2 1 \n",
    "4 3 2 1 \n",
    "3 2 1 \n",
    "2 1 \n",
    "1\n",
    "```"
   ]
  },
  {
   "cell_type": "code",
   "execution_count": 46,
   "metadata": {},
   "outputs": [
    {
     "name": "stdout",
     "output_type": "stream",
     "text": [
      "5  4  3  2  1  \n",
      "4  3  2  1  \n",
      "3  2  1  \n",
      "2  1  \n",
      "1  \n"
     ]
    }
   ],
   "source": [
    "filas = int(input(\"cuantas filas?\"))\n",
    "contador = filas\n",
    "\n",
    "for i in range(1, filas+1):\n",
    "    for j in range(contador, 0, -1):\n",
    "        print(j, \" \", end=\"\")\n",
    "    contador -= 1\n",
    "    print(\"\\n\", end=\"\")"
   ]
  }
 ],
 "metadata": {
  "kernelspec": {
   "display_name": "Python 3",
   "language": "python",
   "name": "python3"
  },
  "language_info": {
   "codemirror_mode": {
    "name": "ipython",
    "version": 3
   },
   "file_extension": ".py",
   "mimetype": "text/x-python",
   "name": "python",
   "nbconvert_exporter": "python",
   "pygments_lexer": "ipython3",
   "version": "3.12.6"
  },
  "orig_nbformat": 4
 },
 "nbformat": 4,
 "nbformat_minor": 2
}
