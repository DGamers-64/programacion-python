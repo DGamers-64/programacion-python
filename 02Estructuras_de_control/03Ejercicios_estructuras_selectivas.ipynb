{
 "cells": [
  {
   "cell_type": "markdown",
   "metadata": {},
   "source": [
    "# Ejercicios estructuras selectivas\n",
    "\n",
    "## Ruta\n",
    "Si acabas de empezar a programar, intenta hacer, como mínimo, los ejercicios del 1 al 8. Después intenta el 9 y el 11.\n",
    "\n",
    "Si ya tienes algo de experiencia programando, puedes empezar en el ejercicio 10.\n",
    "\n",
    "## Ejercicio 1\n",
    "\n",
    "Implementa un programa en Python que pida por teclado un número entero y que indique si es par (si es impar, no muestra nada).\n"
   ]
  },
  {
   "cell_type": "code",
   "execution_count": null,
   "metadata": {},
   "outputs": [],
   "source": [
    "num = int(input(\"di un numero\"))\n",
    "par = num % 2\n",
    "if (par == 0):\n",
    "    print(num, \"es par\")"
   ]
  },
  {
   "cell_type": "markdown",
   "metadata": {},
   "source": [
    "## Ejercicio 2\n",
    "\n",
    "Modifica el programa para que indique si es par o impar."
   ]
  },
  {
   "cell_type": "code",
   "execution_count": null,
   "metadata": {},
   "outputs": [],
   "source": [
    "num = int(input(\"di un numero\"))\n",
    "par = num % 2\n",
    "if (par == 0):\n",
    "    print(num, \"es par\")\n",
    "else:\n",
    "    print(num, \"es impar\")"
   ]
  },
  {
   "cell_type": "markdown",
   "metadata": {},
   "source": [
    "## Ejercicio 3\n",
    "\n",
    "Implementa un programa en Python que pida dos números por teclado y que muestre por pantalla al menor de los dos (suponemos que no pueden ser iguales).\n"
   ]
  },
  {
   "cell_type": "code",
   "execution_count": null,
   "metadata": {},
   "outputs": [],
   "source": [
    "num1 = int(input(\"dime 1 numero\"))\n",
    "num2 = int(input(\"dime otro numero\"))\n",
    "if (num1 > num2):\n",
    "    print(num2)\n",
    "elif (num2 > num1):\n",
    "    print(num1)"
   ]
  },
  {
   "cell_type": "markdown",
   "metadata": {},
   "source": [
    "## Ejercicio 4\n",
    "\n",
    "Implementa un programa en Python que pida un número por teclado y que muestre por pantalla un mensaje indicando si es o no negativo. El 0 no es negativo."
   ]
  },
  {
   "cell_type": "code",
   "execution_count": null,
   "metadata": {},
   "outputs": [],
   "source": [
    "num = int(input(\"dame un numero\"))\n",
    "if(num >= 0):\n",
    "    print(num, \"es positivo\")\n",
    "elif(num < 0):\n",
    "    print(num, \"es negativo\")"
   ]
  },
  {
   "cell_type": "markdown",
   "metadata": {},
   "source": [
    "## Ejercicio 5\n",
    "\n",
    "Implementa un programa en Python que pida tres números por teclado y muestre por pantalla el mayor de los tres.\n",
    "\n",
    "**VERSIÓN AVANZADA**: Busca información sobre la función `max()` e intenta resolverlo con ella (no necesitarás estructuras selectivas). Busca también la función `min()` y muestra el mayor y el menor de ellos."
   ]
  },
  {
   "cell_type": "code",
   "execution_count": null,
   "metadata": {},
   "outputs": [],
   "source": [
    "num1 = int(input(\"dime 1 numero\"))\n",
    "num2 = int(input(\"dime otro numero\"))\n",
    "num3 = int(input(\"dime otro numero mas\"))\n",
    "print(\"el mayor es\", max(num1, num2, num3), \"y el menor es\", min(num1, num2, num3))"
   ]
  },
  {
   "cell_type": "markdown",
   "metadata": {},
   "source": [
    "\n",
    "## Ejercicio 6\n",
    "\n",
    "Modifica el ejercicio 4 para que indique si el número es positivo, negativo o cero."
   ]
  },
  {
   "cell_type": "code",
   "execution_count": null,
   "metadata": {},
   "outputs": [],
   "source": [
    "num = int(input(\"dame un numero\"))\n",
    "if(num > 0):\n",
    "    print(num, \"es positivo\")\n",
    "elif(num < 0):\n",
    "    print(num, \"es negativo\")\n",
    "else:\n",
    "    print(num, \"es cero\")"
   ]
  },
  {
   "cell_type": "markdown",
   "metadata": {},
   "source": [
    "## Ejercicio 7\n",
    "\n",
    "Implementa un programa en Python que pida un número del 1 al 12 por teclado y que muestre por pantalla el nombre del mes correspondiente.\n"
   ]
  },
  {
   "cell_type": "code",
   "execution_count": null,
   "metadata": {},
   "outputs": [],
   "source": [
    "num = int(input(\"dime un numero\"))\n",
    "if (num == 1):\n",
    "    print(\"enero\")\n",
    "elif (num == 2):\n",
    "    print(\"febrero\")\n",
    "elif (num == 3):\n",
    "    print(\"marzo\")\n",
    "elif (num == 4):\n",
    "    print(\"abril\")\n",
    "elif (num == 5):\n",
    "    print(\"mayo\")\n",
    "elif (num == 6):\n",
    "    print(\"junio\")\n",
    "elif (num == 7):\n",
    "    print(\"julio\")\n",
    "elif (num == 8):\n",
    "    print(\"agosto\")\n",
    "elif (num == 9):\n",
    "    print(\"septiembre\")\n",
    "elif (num == 10):\n",
    "    print(\"octubre\")\n",
    "elif (num == 11):\n",
    "    print(\"noviembre\")\n",
    "elif (num == 12):\n",
    "    print(\"diciembre\")"
   ]
  },
  {
   "cell_type": "markdown",
   "metadata": {},
   "source": [
    "## Ejercicio 8\n",
    "\n",
    "Implementa un programa en Python para mostrar por pantalla la calificación de una nota a partir de la puntuación introducida por teclado:\n",
    "\n",
    "- [0,5) Suspenso\n",
    "- [5,6) Aprobado\n",
    "- [6,7) Bien\n",
    "- [7,9) Notable\n",
    "- [9,10] Sobresaliente\n"
   ]
  },
  {
   "cell_type": "code",
   "execution_count": null,
   "metadata": {},
   "outputs": [],
   "source": [
    "num = int(input(\"dime una nota\"))\n",
    "if (num >= 0 and num < 5):\n",
    "    print(\"suspenso\")\n",
    "elif (num >= 5 and num < 6):\n",
    "    print(\"aprobado\")\n",
    "elif (num >= 6 and num < 7):\n",
    "    print(\"bien\")\n",
    "elif (num >= 7 and num < 9):\n",
    "    print(\"notable\")\n",
    "elif (num >= 9 and num <= 10):\n",
    "    print(\"sobresaliente\")"
   ]
  },
  {
   "cell_type": "code",
   "execution_count": 3,
   "metadata": {},
   "outputs": [
    {
     "name": "stdout",
     "output_type": "stream",
     "text": [
      "aprobado\n"
     ]
    }
   ],
   "source": [
    "num = int(input(\"dime una nota\"))\n",
    "match num:\n",
    "    case 0:\n",
    "        print(\"suspenso\")\n",
    "    case 1:\n",
    "        print(\"suspenso\")\n",
    "    case 2:\n",
    "        print(\"suspenso\")\n",
    "    case 3:\n",
    "        print(\"suspenso\")\n",
    "    case 4:\n",
    "        print(\"suspenso\")\n",
    "    case 5:\n",
    "        print(\"aprobado\")\n",
    "    case 6:\n",
    "        print(\"bien\")\n",
    "    case 7:\n",
    "        print(\"notable\")\n",
    "    case 8:\n",
    "        print(\"notable\")\n",
    "    case 9:\n",
    "        print(\"sobresaliente\")\n",
    "    case 10:\n",
    "        print(\"sobresaliente\")"
   ]
  },
  {
   "cell_type": "markdown",
   "metadata": {},
   "source": [
    "## Ejercicio 9\n",
    "\n",
    "Tu ordenador es *fan* de la serie *Game of Thrones* y no admite discusión al respeto, además, es muy purista y solo admite el título original.\n",
    "\n",
    "Crea un programa que pregunte al usuario cuál es su serie favorita y responda lo siguiente, según la contestación del usuario:\n",
    "\n",
    "- Si el usuario contesta “Game of Thrones” el ordenador responderá: `“Por supuesto, Game of Thrones es la mejor serie de la historia!”`\n",
    "- Si el usuario responde “Juego de Tronos” el ordenador responderá: `“No se dice \\<entrada\\>, se dice Game of Thrones”`\n",
    "- En caso contrario, responderá: `“No, la mejor es Game of Thrones!”`\n",
    "\n",
    "**VERSIÓN AVANZADA**: Busca información sobre los métodos `lower()` y `upper()` para poder contestar lo mismo independientemente de cómo el usuario combine mayúsculas y minúsculas."
   ]
  },
  {
   "cell_type": "code",
   "execution_count": null,
   "metadata": {},
   "outputs": [],
   "source": [
    "serie = input(\"cual es tu serie fav?\")\n",
    "if (serie.lower() == \"game of thrones\"):\n",
    "    print(\"Por supuesto, Game of Thrones es la mejor serie de la historia!\")\n",
    "elif (serie.lower() == \"juego de tronos\"):\n",
    "    print(\"No se dice \", serie,\", se dice Game of Thrones\", sep=\"\")\n",
    "else:\n",
    "    print(\"No, la mejor es Game of Thrones!\")"
   ]
  },
  {
   "cell_type": "markdown",
   "metadata": {},
   "source": [
    "## Ejercicio 10\n",
    "\n",
    "Implementa un programa en Python que pida un año por teclado y que indique si es bisiesto o no.\n",
    "\n",
    "Si el año no es divisible entre cuatro, no es bisiesto.\n",
    "- En caso contrario, si el año no es divisible entre 100, es bisiesto.\n",
    "- En caso contrario, si el año no es divisible entre 400, no es bisiesto.\n",
    "- En caso contrario, es bisesto.\n",
    "Emplea la construcción `if-elif-else`.\n",
    "\n",
    "**VERSIÓN AVANZADA**: ¿Serías capaz de hacerlo solamente con un `if-else` y una única condición?\n",
    "\n",
    "|Ano|\tResultado|\n",
    "|-|-|\n",
    "|2000|\tBisiesto|\n",
    "|2015|\tNo bisiesto|\n",
    "|1999|\tNo bisiesto|\n",
    "|1996|\tBisiesto|\n",
    "|1900|\tNo bisiesto|\n"
   ]
  },
  {
   "cell_type": "code",
   "execution_count": null,
   "metadata": {},
   "outputs": [],
   "source": [
    "year = int(input(\"dime un año\"))\n",
    "if (year % 4 != 0 or year % 400 != 0 and year % 100 == 0):\n",
    "    print(year, \"no es bisiesto\")\n",
    "else:\n",
    "    print(year, \"es bisiesto\")"
   ]
  },
  {
   "cell_type": "markdown",
   "metadata": {},
   "source": [
    "# Ejercicios de estructuras selectivas y operadores"
   ]
  },
  {
   "cell_type": "markdown",
   "metadata": {},
   "source": [
    "## Ejercicio 11\n",
    "\n",
    "Había una vez una tierra próspera y feliz. La gente pagaba impuestos, por supuesto, la felicidad tenía límites. Estos impuestos se pagaban una vez al año segundo los siguientes criterios:\n",
    "- Si la persona no cobraba más de 85528 thalers, el impuesto era el 18% de las ganancias menos 556,02 thalers.\n",
    "- Si las ganancias eran mayores, el impuesto era 14839,02 thalers sumados a un 32% del exceso de las ganancias por encima de los 85528 thalers.\n",
    "\n",
    "Debe aceptar un valor real y mostrar el cálculo del impuesto sin decimales. El gobierno de este país nunca devuelve dinero a sus habitantes, por lo que se el valor del impuesto es negativo, deberá indicar 0.\n",
    "\n",
    "|Ganancias|\tImpuesto|\n",
    "|-|-|\n",
    "|10000 thalers|\t1244 thalers|\n",
    "|100000 thalers|\t19470 thalers|\n",
    "|1000 thalers|\t0 thalers|\n",
    "|100 thalers|\t0 thalers|\n"
   ]
  },
  {
   "cell_type": "code",
   "execution_count": 34,
   "metadata": {},
   "outputs": [
    {
     "name": "stdout",
     "output_type": "stream",
     "text": [
      "impuestos: 19470\n"
     ]
    }
   ],
   "source": [
    "thalers = int(input(\"cuantos thalers tienes\"))\n",
    "if (thalers <= 85528):\n",
    "    impuesto = round((thalers * 0.18) - 556.02)\n",
    "    if (impuesto < 0):\n",
    "        print(\"impuestos: 0\")\n",
    "    else:\n",
    "        print(\"impuestos:\", impuesto)\n",
    "else:\n",
    "    impuesto = round(((thalers - 85528) * 0.32) + 14839.02)\n",
    "    if (impuesto < 0):\n",
    "        print(\"impuestos: 0\")\n",
    "    else:\n",
    "        print(\"impuestos:\", impuesto)"
   ]
  },
  {
   "cell_type": "markdown",
   "metadata": {},
   "source": [
    "## Ejercicio 12\n",
    "\n",
    "Crea una calculadora del mundo mágico de Harry Potter, que convirta galeones, sickels y knuts. Debe ofrecer inicialmente un menú en el que se indiquen las siguientes opciones:\n",
    "- Conversión de galeones a sickels.\n",
    "- Conversión de galeones a knuts.\n",
    "- Conversión de sickles a knuts.\n",
    "- Conversión de knuts a galeones, sickles y knuts (mínimo número de monedas posibles).\n",
    "\n",
    "Recuerda que:\n",
    "- 1 galeón = 17 sickles\n",
    "- 1 sickle = 29 knuts\n",
    "\n",
    "**DATOS DE PRUEBA**\n",
    "|Galeones|Sickles|Knuts|\n",
    "|-|-|-|\n",
    "|10 galeones|170 sickles|4930knuts|\n",
    "|45 galeones|765 sickles|22185knuts|\n",
    "\n",
    "Opción 4\n",
    "\n",
    "|knuts|galeones, sicles, knuts|\n",
    "|-|-|\n",
    "|1000 knuts|2 galeones, 0 sickles y 14 knuts|\n",
    "|36786 knuts|74 galeones,  10 sickles y 14 knuts|\n"
   ]
  },
  {
   "cell_type": "code",
   "execution_count": 36,
   "metadata": {},
   "outputs": [
    {
     "name": "stdout",
     "output_type": "stream",
     "text": [
      "tienes 74 galeones, 10 sickels y 14 knuts\n"
     ]
    }
   ],
   "source": [
    "modo = int(input(\"elige una opción:\\n1. conversión de galeones a sickels\\n2. conversión de galeones a knuts\\n3. conversión de sickels a knuts\\n4. conversión de knuts a galeolnes, sickels y knuts (mínimo número de monedas posibles)\"))\n",
    "if (modo == 1):\n",
    "    galeones = int(input(\"cuantos galeones tienes?\"))\n",
    "    sickels = galeones * 17\n",
    "    print(\"tienes\", sickels, \"sickels\")\n",
    "elif (modo == 2):\n",
    "    galeones = int(input(\"cuantos galeones tienes?\"))\n",
    "    knuts = galeones * 17 * 29\n",
    "    print(\"tienes\", knuts, \"knuts\")\n",
    "elif (modo == 3):\n",
    "    sickels = int(input(\"cuantos sickels tienes?\"))\n",
    "    knuts = sickels * 29\n",
    "    print(\"tienes\", knuts, \"knuts\")\n",
    "elif (modo == 4):\n",
    "    knuts = int(input(\"cuantos knuts tienes?\"))\n",
    "    galeones = knuts // 493\n",
    "    sickels = (knuts // 29) % 17\n",
    "    knuts = knuts % 29\n",
    "    print(\"tienes\", galeones, \"galeones,\", sickels, \"sickels y\", knuts, \"knuts\")\n",
    "else:\n",
    "    print(\"no has elegido un modo válido\")"
   ]
  },
  {
   "cell_type": "markdown",
   "metadata": {},
   "source": [
    "## Ejercicio 13\n",
    "\n",
    "Implementa un programa en Python que pida el día, mes y año de una fecha correcta y muestre la fecha del día siguiente. Supón que todos los meses tienen 30 días.\n",
    "\n",
    "**VERSIÓN AVANZADA**: Intenta utilizar la operación módulo."
   ]
  },
  {
   "cell_type": "code",
   "execution_count": 31,
   "metadata": {},
   "outputs": [
    {
     "name": "stdout",
     "output_type": "stream",
     "text": [
      "el el 16 / 12 / 2009\n"
     ]
    }
   ],
   "source": [
    "dia = int(input(\"dia\"))\n",
    "mes = int(input(\"mes\"))\n",
    "year = int(input(\"año\"))\n",
    "if (dia == 30):\n",
    "    if (mes == 12):\n",
    "        year = year + 1\n",
    "        mes = 1\n",
    "        dia = 1\n",
    "        print(\"es el\", dia, \"/\", mes, \"/\", year)\n",
    "    else:\n",
    "        mes = mes + 1\n",
    "        dia = 1\n",
    "        print(\"el el\", dia, \"/\", mes, \"/\", year)\n",
    "else:\n",
    "    dia = dia + 1\n",
    "    print(\"el el\", dia, \"/\", mes, \"/\", year)"
   ]
  },
  {
   "cell_type": "code",
   "execution_count": 33,
   "metadata": {},
   "outputs": [
    {
     "name": "stdout",
     "output_type": "stream",
     "text": [
      "es el 1 / 1 / 2006\n"
     ]
    }
   ],
   "source": [
    "dia = int(input(\"dia\"))\n",
    "mes = int(input(\"mes\"))\n",
    "year = int(input(\"año\"))\n",
    "if (dia % 30 == 0):\n",
    "    if (mes % 12 == 0):\n",
    "        year = year + 1\n",
    "        mes = 1\n",
    "        dia = 1\n",
    "        print(\"es el\", dia, \"/\", mes, \"/\", year)\n",
    "    else:\n",
    "        mes = mes + 1\n",
    "        dia = 1\n",
    "        print(\"el el\", dia, \"/\", mes, \"/\", year)\n",
    "else:\n",
    "    dia = dia + 1\n",
    "    print(\"el el\", dia, \"/\", mes, \"/\", year)"
   ]
  }
 ],
 "metadata": {
  "kernelspec": {
   "display_name": "Python 3",
   "language": "python",
   "name": "python3"
  },
  "language_info": {
   "codemirror_mode": {
    "name": "ipython",
    "version": 3
   },
   "file_extension": ".py",
   "mimetype": "text/x-python",
   "name": "python",
   "nbconvert_exporter": "python",
   "pygments_lexer": "ipython3",
   "version": "3.12.6"
  },
  "orig_nbformat": 4
 },
 "nbformat": 4,
 "nbformat_minor": 2
}
