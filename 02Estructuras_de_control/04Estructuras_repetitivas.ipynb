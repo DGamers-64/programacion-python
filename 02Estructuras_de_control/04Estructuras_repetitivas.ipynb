{
 "cells": [
  {
   "cell_type": "markdown",
   "metadata": {},
   "source": [
    "# Estructuras repetitivas\n",
    "\n",
    "Un bucle, o ciclo, es un conjunto de instrucciones que se repiten un número de veces o mientras se sigue cumpliendo una condición.\n"
   ]
  },
  {
   "cell_type": "markdown",
   "metadata": {},
   "source": [
    "\n",
    "## Bucle `while`\n",
    "\n",
    "Un bucle `while` repite las instrucciones **MIENTRAS** se siga cumpliendo la condición.\n",
    "\n",
    "```\n",
    "    while condicion:\n",
    "        # Sentencias a ejecutar mientras se cumpla la condición\n",
    "```\n",
    "\n",
    "La estructura es igual a la de `if` pero la diferencia semántica es más importante: cuando se cumple la condición, `if` realiza sus sentencias sólo una vez; `while` repite la ejecución mientras la condición se evalúe como `True``."
   ]
  },
  {
   "cell_type": "code",
   "execution_count": null,
   "metadata": {},
   "outputs": [],
   "source": [
    "numero = 0\n",
    "suma = 0\n",
    "while numero >= 0:\n",
    "    numero = int(input(\"Escribe un número para calcular la suma, escribe un número negativo para terminar: \"))\n",
    "    suma += numero\n",
    "print(\"La suma es: \", suma)"
   ]
  },
  {
   "cell_type": "markdown",
   "metadata": {},
   "source": [
    "- Si deseas ejecutar más de una sentencia dentro de un `while`, debes (como con `if`) poner sangría a todas las instrucciones de la misma manera.\n",
    "- Una instrucción o conjunto de instrucciones ejecutadas dentro del `while` se llama el **cuerpo del bucle**.\n",
    "- Si la condición es `False` (igual a cero) la primera vez que se comprueba, el cuerpo no se ejecuta ni una sola vez.\n"
   ]
  },
  {
   "cell_type": "code",
   "execution_count": null,
   "metadata": {},
   "outputs": [],
   "source": [
    "numero = -1\n",
    "suma = 0\n",
    "while numero >= 0:\n",
    "    numero = int(input(\"Escribe un número para calcular la suma, escribe un número negativo para terminar: \"))\n",
    "    suma += numero\n",
    "print(\"La suma es: \", suma)"
   ]
  },
  {
   "cell_type": "markdown",
   "metadata": {},
   "source": [
    "- El cuerpo **debe cambiar el valor de la condición**, si no fuese así, solo tendríamos dos tipos de bucles: aquellos que no se ejecutan ni una sola vez porque su condición es `False` al principio y aquellos que se ejecutan de forma infinita porque su condición es `True` al principio."
   ]
  },
  {
   "cell_type": "code",
   "execution_count": null,
   "metadata": {},
   "outputs": [],
   "source": [
    "numero = 0\n",
    "while numero == 0:\n",
    "    print(numero) # Esto es un bucle infinito"
   ]
  },
  {
   "cell_type": "markdown",
   "metadata": {},
   "source": [
    "## Ejemplo\n",
    "\n",
    "Pedir números al usuario hasta que este introduzca un 0. Contar el número de pares e impares que ha introducido."
   ]
  },
  {
   "cell_type": "markdown",
   "metadata": {},
   "source": [
    "## Bucle `for`\n",
    "\n",
    "El bucle `for` sirve para:\n",
    "- Ejecutar un conjunto de sentencias un número concreto de veces. Normalmente conocido antes de iniciar la ejecución.\n",
    "- Recorrer estructuras de datos, por ejemplo, una cadena."
   ]
  }
 ],
 "metadata": {
  "kernelspec": {
   "display_name": "Python 3",
   "language": "python",
   "name": "python3"
  },
  "language_info": {
   "codemirror_mode": {
    "name": "ipython",
    "version": 3
   },
   "file_extension": ".py",
   "mimetype": "text/x-python",
   "name": "python",
   "nbconvert_exporter": "python",
   "pygments_lexer": "ipython3",
   "version": "3.11.0"
  },
  "orig_nbformat": 4
 },
 "nbformat": 4,
 "nbformat_minor": 2
}
