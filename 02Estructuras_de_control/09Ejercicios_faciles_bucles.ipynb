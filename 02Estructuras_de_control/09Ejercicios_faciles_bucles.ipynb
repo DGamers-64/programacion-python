{
 "cells": [
  {
   "cell_type": "markdown",
   "metadata": {},
   "source": [
    "# `while`"
   ]
  },
  {
   "cell_type": "markdown",
   "metadata": {},
   "source": [
    "## Ejercicio 1\n",
    "\n",
    "Escribe un programa que pida al usuario que introduzca un número entre 1 y 10. El programa debe seguir pidiendo un número hasta que el usuario introduzca un valor válido en ese rango."
   ]
  },
  {
   "cell_type": "markdown",
   "metadata": {},
   "source": [
    "## Ejercicio 2\n",
    "\n",
    "Escribe un programa que pida números al usuario hasta que este introduzca un 0. Para cada número debemos indicar si es positivo o negativo."
   ]
  },
  {
   "cell_type": "markdown",
   "metadata": {},
   "source": [
    "## Ejercicio 3\n",
    "\n",
    "Escribe un programa que pida números al usuario y que cuente cuántos números son pares y cuántos impares. El programa dejará de pedir números cuando el usuario introduzca un 0."
   ]
  },
  {
   "cell_type": "markdown",
   "metadata": {},
   "source": [
    "## Ejercicio 4\n",
    "\n",
    "Escribe un programa en el que almacenes en una variable un número entre 1 y 50. El usuario tiene que intentar adivinar el número, y el programa debe decir si el número introducido es mayor o menor que el número objetivo. El bucle debe continuar hasta que el usuario adivine el número correcto."
   ]
  },
  {
   "cell_type": "markdown",
   "metadata": {},
   "source": [
    "# `for`"
   ]
  },
  {
   "cell_type": "markdown",
   "metadata": {},
   "source": [
    "## Ejercicio 5\n",
    "\n"
   ]
  }
 ],
 "metadata": {
  "language_info": {
   "name": "python"
  }
 },
 "nbformat": 4,
 "nbformat_minor": 2
}
