{
 "cells": [
  {
   "cell_type": "markdown",
   "metadata": {},
   "source": [
    "# Ejercicios estructuras selectivas\n",
    "\n",
    "## Ruta\n",
    "Si acabas de empezar a programar, intenta hacer, como mínimo, los ejercicios del 1 al 8. Después intenta el 9 y el 11.\n",
    "\n",
    "Si ya tienes algo de experiencia programando, puedes empezar en el ejercicio 10.\n",
    "\n",
    "## Ejercicio 1\n",
    "\n",
    "Implementa un programa en Python que pida por teclado un número entero y que indique si es par (si es impar, no muestra nada).\n"
   ]
  },
  {
   "cell_type": "code",
   "execution_count": 3,
   "metadata": {},
   "outputs": [],
   "source": [
    "numero = int(input(\"Dime un número entero: \"))\n",
    "if numero % 2 == 0:\n",
    "    print(numero, \"es par\")"
   ]
  },
  {
   "cell_type": "markdown",
   "metadata": {},
   "source": [
    "## Ejercicio 2\n",
    "\n",
    "Modifica el programa para que indique si es par o impar."
   ]
  },
  {
   "cell_type": "code",
   "execution_count": 4,
   "metadata": {},
   "outputs": [
    {
     "name": "stdout",
     "output_type": "stream",
     "text": [
      "5 es impar\n"
     ]
    }
   ],
   "source": [
    "numero = int(input(\"Dime un número entero: \"))\n",
    "if numero % 2 == 0:\n",
    "    print(numero, \"es par\")\n",
    "else:\n",
    "    print(numero, \"es impar\")"
   ]
  },
  {
   "cell_type": "markdown",
   "metadata": {},
   "source": [
    "## Ejercicio 3\n",
    "\n",
    "Implementa un programa en Python que pida dos números por teclado y que muestre por pantalla al menor de los dos (suponemos que no pueden ser iguales).\n"
   ]
  },
  {
   "cell_type": "code",
   "execution_count": 7,
   "metadata": {},
   "outputs": [
    {
     "name": "stdout",
     "output_type": "stream",
     "text": [
      "2\n"
     ]
    }
   ],
   "source": [
    "a = int(input(\"Dime un número entero: \"))\n",
    "b = int(input(\"Dime un número entero: \"))\n",
    "if a < b:\n",
    "    print(a)\n",
    "else:\n",
    "    print(b)"
   ]
  },
  {
   "cell_type": "markdown",
   "metadata": {},
   "source": [
    "## Ejercicio 4\n",
    "\n",
    "Implementa un programa en Python que pida un número por teclado y que muestre por pantalla un mensaje indicando si es o no negativo. El 0 no es negativo."
   ]
  },
  {
   "cell_type": "code",
   "execution_count": 10,
   "metadata": {},
   "outputs": [
    {
     "name": "stdout",
     "output_type": "stream",
     "text": [
      "Positivo\n"
     ]
    }
   ],
   "source": [
    "numero = int(input(\"Dime un número entero: \"))\n",
    "if numero < 0:\n",
    "    print(\"Negativo\")\n",
    "else:\n",
    "    print(\"Positivo\")"
   ]
  },
  {
   "cell_type": "code",
   "execution_count": 13,
   "metadata": {},
   "outputs": [
    {
     "name": "stdout",
     "output_type": "stream",
     "text": [
      "Negativo\n"
     ]
    }
   ],
   "source": [
    "numero = int(input(\"Dime un número entero: \"))\n",
    "if numero >= 0:\n",
    "    print(\"Positivo\")\n",
    "else:\n",
    "    print(\"Negativo\")"
   ]
  },
  {
   "cell_type": "markdown",
   "metadata": {},
   "source": [
    "## Ejercicio 5\n",
    "\n",
    "Implementa un programa en Python que pida tres números por teclado y muestre por pantalla el mayor de los tres.\n",
    "\n",
    "**VERSIÓN AVANZADA**: Busca información sobre la función `max()` e intenta resolverlo con ella (no necesitarás estructuras selectivas). Busca también la función `min()` y muestra el mayor y el menor de ellos."
   ]
  },
  {
   "cell_type": "code",
   "execution_count": null,
   "metadata": {},
   "outputs": [],
   "source": [
    "a = int(input(\"Dame un número: \"))\n",
    "b = int(input(\"Dame un número: \"))\n",
    "c = int(input(\"Dame un número: \"))\n",
    "\n",
    "# Suponemos que todos son distintos\n",
    "if a > b and a > c:\n",
    "    print(\"El mayor es\", a)\n",
    "elif b > a and b > c:\n",
    "    print(\"El mayor es\", b)\n",
    "else:\n",
    "    (\"El mayor es\", c)"
   ]
  },
  {
   "cell_type": "code",
   "execution_count": 2,
   "metadata": {},
   "outputs": [
    {
     "name": "stdout",
     "output_type": "stream",
     "text": [
      "O máximo é 100\n",
      "O mínimo é 2\n"
     ]
    }
   ],
   "source": [
    "a = int(input(\"Dame un número: \"))\n",
    "b = int(input(\"Dame un número: \"))\n",
    "c = int(input(\"Dame un número: \"))\n",
    "\n",
    "print(\"O máximo é\", max(a, b, c))\n",
    "print(\"O mínimo é\", min(a, b, c))"
   ]
  },
  {
   "cell_type": "markdown",
   "metadata": {},
   "source": [
    "\n",
    "## Ejercicio 6\n",
    "\n",
    "Modifica el ejercicio 4 para que indique si el número es positivo, negativo o cero."
   ]
  },
  {
   "cell_type": "code",
   "execution_count": null,
   "metadata": {},
   "outputs": [],
   "source": [
    "numero = int(input(\"Escribe un número: \"))\n",
    "if numero < 0:\n",
    "    print(numero, \"es negativo\")\n",
    "elif numero == 0:\n",
    "    print(numero, \"es cero\")\n",
    "else:\n",
    "    print(numero, \"es positivo\")"
   ]
  },
  {
   "cell_type": "markdown",
   "metadata": {},
   "source": [
    "## Ejercicio 7\n",
    "\n",
    "Implementa un programa en Python que pida un número del 1 al 12 por teclado y que muestre por pantalla el nombre del mes correspondiente.\n"
   ]
  },
  {
   "cell_type": "code",
   "execution_count": 3,
   "metadata": {},
   "outputs": [
    {
     "name": "stdout",
     "output_type": "stream",
     "text": [
      "Febrero\n"
     ]
    }
   ],
   "source": [
    "mes = input(\"Escribe un mes: \")\n",
    "if mes == \"1\":\n",
    "    print(\"Enero\")\n",
    "elif mes == \"2\":\n",
    "    print(\"Febrero\")\n",
    "elif mes == \"3\":\n",
    "    print(\"Marzo\")\n",
    "else:\n",
    "    print(\"Mes incorrecto\")"
   ]
  },
  {
   "cell_type": "code",
   "execution_count": 4,
   "metadata": {},
   "outputs": [
    {
     "name": "stdout",
     "output_type": "stream",
     "text": [
      "Febrero\n"
     ]
    }
   ],
   "source": [
    "mes = int(input(\"Escribe un mes: \"))\n",
    "if mes == 1:\n",
    "    print(\"Enero\")\n",
    "elif mes == 2:\n",
    "    print(\"Febrero\")\n",
    "elif mes == 3:\n",
    "    print(\"Marzo\")\n",
    "else:\n",
    "    print(\"Mes incorrecto\")"
   ]
  },
  {
   "cell_type": "markdown",
   "metadata": {},
   "source": [
    "## Ejercicio 8\n",
    "\n",
    "Implementa un programa en Python para mostrar por pantalla la calificación de una nota a partir de la puntuación introducida por teclado:\n",
    "\n",
    "- [0,5) Suspenso\n",
    "- [5,6) Aprobado\n",
    "- [6,7) Bien\n",
    "- [7,9) Notable\n",
    "- [9,10] Sobresaliente\n"
   ]
  },
  {
   "cell_type": "code",
   "execution_count": null,
   "metadata": {},
   "outputs": [],
   "source": [
    "puntuacion = float(input(\"Escribe tu puntuación: \"))\n",
    "\n",
    "if puntuacion < 0 or puntuacion > 10:\n",
    "    print(\"nota incorrecta\")\n",
    "elif puntuacion < 5:\n",
    "    print(\"Suspenso\")\n",
    "elif puntuacion < 6:\n",
    "    print(\"Aprobado\")\n",
    "elif puntuacion < 7:\n",
    "    print(\"Bien\")\n",
    "elif puntuacion < 9:\n",
    "    print(\"Notable\")\n",
    "else:\n",
    "    print(\"Sobresaliente\")"
   ]
  },
  {
   "cell_type": "code",
   "execution_count": null,
   "metadata": {},
   "outputs": [],
   "source": [
    "puntuacion = float(input(\"Escribe tu puntuación: \"))\n",
    "\n",
    "if puntuacion >= 0 and puntuacion < 5:\n",
    "    print(\"Suspenso\")\n",
    "elif puntuacion >= 5 and puntuacion < 6:\n",
    "    print(\"Aprobado\")\n",
    "elif puntuacion >= 6 and puntuacion < 7:\n",
    "    print(\"Bien\")\n",
    "elif puntuacion >= 7 and puntuacion < 9:\n",
    "    print(\"Notable\")\n",
    "elif puntuacion >= 9 and puntuacion <= 10:\n",
    "    print(\"Sobresaliente\")\n",
    "else:\n",
    "    print(\"Nota incorrecta\")"
   ]
  },
  {
   "cell_type": "markdown",
   "metadata": {},
   "source": [
    "## Ejercicio 9\n",
    "\n",
    "Tu ordenador es *fan* de la serie *Game of Thrones* y no admite discusión al respeto, además, es muy purista y solo admite el título original.\n",
    "\n",
    "Crea un programa que pregunte al usuario cuál es su serie favorita y responda lo siguiente, según la contestación del usuario:\n",
    "\n",
    "- Si el usuario contesta “Game of Thrones” el ordenador responderá: `“Por supuesto, Game of Thrones es la mejor serie de la historia!”`\n",
    "- Si el usuario responde “Juego de Tronos” el ordenador responderá: `“No se dice \\<entrada\\>, se dice Game of Thrones”`\n",
    "- En caso contrario, responderá: `“No, la mejor es Game of Thrones!”`\n",
    "\n",
    "**VERSIÓN AVANZADA**: Busca información sobre los métodos `lower()` y `upper()` para poder contestar lo mismo independientemente de cómo el usuario combine mayúsculas y minúsculas."
   ]
  },
  {
   "cell_type": "code",
   "execution_count": null,
   "metadata": {},
   "outputs": [],
   "source": [
    "serie = input(\"Cuál es tu serie favorita?\")\n",
    "if serie == \"Game of Thrones\":\n",
    "    print(\"Por supuesto, Game of Thrones es la mejor serie de la historia!\")\n",
    "elif serie == \"Juego de Tronos\":\n",
    "    print(\"No se dice \", serie,\", se dice Game of Thrones\", sep=\"\")\n",
    "else:\n",
    "    print(\"No, la mejor es Game of Thrones!\")"
   ]
  },
  {
   "cell_type": "code",
   "execution_count": 5,
   "metadata": {},
   "outputs": [
    {
     "name": "stdout",
     "output_type": "stream",
     "text": [
      "Por supuesto, Game of Thrones es la mejor serie de la historia!\n"
     ]
    }
   ],
   "source": [
    "serie = input(\"Cuál es tu serie favorita?\")\n",
    "serie_minusculas = serie.lower()\n",
    "\n",
    "if serie_minusculas == \"game of thrones\":\n",
    "    print(\"Por supuesto, Game of Thrones es la mejor serie de la historia!\")\n",
    "elif serie_minusculas == \"juego de tronos\":\n",
    "    print(\"No se dice \", serie,\", se dice Game of Thrones\", sep=\"\")\n",
    "else:\n",
    "    print(\"No, la mejor es Game of Thrones!\")"
   ]
  },
  {
   "cell_type": "code",
   "execution_count": null,
   "metadata": {},
   "outputs": [],
   "source": [
    "serie = input(\"Cuál es tu serie favorita?\")\n",
    "\n",
    "if serie.lower() == \"game of thrones\":\n",
    "    print(\"Por supuesto, Game of Thrones es la mejor serie de la historia!\")\n",
    "elif serie.lower() == \"juego de tronos\":\n",
    "    print(\"No se dice \", serie,\", se dice Game of Thrones\", sep=\"\")\n",
    "else:\n",
    "    print(\"No, la mejor es Game of Thrones!\")"
   ]
  },
  {
   "cell_type": "code",
   "execution_count": 8,
   "metadata": {},
   "outputs": [
    {
     "name": "stdout",
     "output_type": "stream",
     "text": [
      "Por supuesto, Game of Thrones es la mejor serie de la historia!\n"
     ]
    }
   ],
   "source": [
    "serie = input(\"Cuál es tu serie favorita?\")\n",
    "match serie.lower():\n",
    "    case \"game of thrones\":\n",
    "        print(\"Por supuesto, Game of Thrones es la mejor serie de la historia!\")\n",
    "    case \"juego de tronos\":\n",
    "        print(\"No se dice \", serie,\", se dice Game of Thrones\", sep=\"\")\n",
    "    case _:\n",
    "        print(\"No, la mejor es Game of Thrones!\")"
   ]
  },
  {
   "cell_type": "markdown",
   "metadata": {},
   "source": [
    "## Ejercicio 10\n",
    "\n",
    "Implementa un programa en Python que pida un año por teclado y que indique si es bisiesto o no.\n",
    "\n",
    "Si el año no es divisible entre cuatro, no es bisiesto.\n",
    "- En caso contrario, si el año no es divisible entre 100, es bisiesto.\n",
    "- En caso contrario, si el año no es divisible entre 400, no es bisiesto.\n",
    "- En caso contrario, es bisesto.\n",
    "Emplea la construcción `if-elif-else`.\n",
    "\n",
    "**VERSIÓN AVANZADA**: ¿Serías capaz de hacerlo solamente con un `if-else` y una única condición?\n",
    "\n",
    "|Ano|\tResultado|\n",
    "|-|-|\n",
    "|2000|\tBisiesto|\n",
    "|2015|\tNo bisiesto|\n",
    "|1999|\tNo bisiesto|\n",
    "|1996|\tBisiesto|\n",
    "|1900|\tNo bisiesto|\n"
   ]
  },
  {
   "cell_type": "code",
   "execution_count": 9,
   "metadata": {},
   "outputs": [
    {
     "name": "stdout",
     "output_type": "stream",
     "text": [
      "dime un año\n",
      "Es bisiesto\n"
     ]
    }
   ],
   "source": [
    "print(\"Dime un año\")\n",
    "año = int(input(\"Año: \"))\n",
    "if (año % 4 != 0):\n",
    "    print(\"No es bisiesto\")\n",
    "elif (año % 100 != 0):\n",
    "    print(\"Es bisiesto\")\n",
    "elif (año % 400 != 0):\n",
    "    print(\"No es bisiesto\")\n",
    "else:\n",
    "    print(\"Es bisiesto\")\n"
   ]
  },
  {
   "cell_type": "code",
   "execution_count": 13,
   "metadata": {},
   "outputs": [
    {
     "name": "stdout",
     "output_type": "stream",
     "text": [
      "Dime un año\n",
      "No es bisiesto\n"
     ]
    }
   ],
   "source": [
    "print(\"Dime un año\")\n",
    "año = int(input(\"Año: \"))\n",
    "if (año % 4 != 0 or año % 400 != 0): # Está mal, falta parte de la condición\n",
    "    print(\"No es bisiesto\")\n",
    "else: \n",
    "    print(\"Es bisiesto\")"
   ]
  },
  {
   "cell_type": "markdown",
   "metadata": {},
   "source": [
    "# Ejercicios de estructuras selectivas y operadores"
   ]
  },
  {
   "cell_type": "markdown",
   "metadata": {},
   "source": [
    "## Ejercicio 11\n",
    "\n",
    "Había una vez una tierra próspera y feliz. La gente pagaba impuestos, por supuesto, la felicidad tenía límites. Estos impuestos se pagaban una vez al año segundo los siguientes criterios:\n",
    "- Si la persona no cobraba más de 85528 thalers, el impuesto era el 18% de las ganancias menos 556,02 thalers.\n",
    "- Si las ganancias eran mayores, el impuesto era 14839,02 thalers sumados a un 32% del exceso de las ganancias por encima de los 85528 thalers.\n",
    "\n",
    "Debe aceptar un valor real y mostrar el cálculo del impuesto sin decimales. El gobierno de este país nunca devuelve dinero a sus habitantes, por lo que se el valor del impuesto es negativo, deberá indicar 0.\n",
    "\n",
    "|Ganancias|\tImpuesto|\n",
    "|-|-|\n",
    "|10000 thalers|\t1244 thalers|\n",
    "|100000 thalers|\t19470 thalers|\n",
    "|1000 thalers|\t0 thalers|\n",
    "|100 thalers|\t0 thalers|\n"
   ]
  },
  {
   "cell_type": "markdown",
   "metadata": {},
   "source": [
    "## Ejercicio 12\n",
    "\n",
    "Crea una calculadora del mundo mágico de Harry Potter, que convirta galeones, sickels y knuts. Debe ofrecer inicialmente un menú en el que se indiquen las siguientes opciones:\n",
    "- Conversión de galeones a sickels.\n",
    "- Conversión de galeones a knuts.\n",
    "- Conversión de sickles a knuts.\n",
    "- Conversión de knuts a galeones, sickles y knuts (mínimo número de monedas posibles).\n",
    "\n",
    "Recuerda que:\n",
    "- 1 galeón = 17 sickles\n",
    "- 1 sickle = 29 knuts\n",
    "\n",
    "**DATOS DE PRUEBA**\n",
    "|Galeones|Sickles|Knuts|\n",
    "|-|-|-|\n",
    "|10 galeones|170 sickles|4930knuts|\n",
    "|45 galeones|765 sickles|22185knuts|\n",
    "\n",
    "Opción 4\n",
    "\n",
    "|knuts|galeones, sicles, knuts|\n",
    "|-|-|\n",
    "|1000 knuts|2 galeones, 0 sickles y 14 knuts|\n",
    "|36786 knuts|74 galeones,  10 sickles y 14 knuts|\n"
   ]
  },
  {
   "cell_type": "markdown",
   "metadata": {},
   "source": [
    "## Ejercicio 13\n",
    "\n",
    "Implementa un programa en Python que pida el día, mes y año de una fecha correcta y muestre la fecha del día siguiente. Supón que todos los meses tienen 30 días.\n",
    "\n",
    "**VERSIÓN AVANZADA**: Intenta utilizar la operación módulo."
   ]
  },
  {
   "cell_type": "markdown",
   "metadata": {},
   "source": [
    "## Ejercicio 14\n",
    "\n",
    "Implementa un programa en Python que pida un día de la semana y devuelva si es o no fin de semana. Si introduce cualquier cadena que no sea un día de la semana deberá mostrar un error."
   ]
  },
  {
   "cell_type": "markdown",
   "metadata": {},
   "source": [
    "## Ejercicio 15\n",
    "\n",
    "Repite el ejercicio 8 (conversión de notas) utilizando la sentencia `match-case`. Las notas serán únicamente números enteros."
   ]
  }
 ],
 "metadata": {
  "kernelspec": {
   "display_name": "Python 3",
   "language": "python",
   "name": "python3"
  },
  "language_info": {
   "codemirror_mode": {
    "name": "ipython",
    "version": 3
   },
   "file_extension": ".py",
   "mimetype": "text/x-python",
   "name": "python",
   "nbconvert_exporter": "python",
   "pygments_lexer": "ipython3",
   "version": "3.12.3"
  },
  "orig_nbformat": 4
 },
 "nbformat": 4,
 "nbformat_minor": 2
}
