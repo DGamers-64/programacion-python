{
 "cells": [
  {
   "cell_type": "markdown",
   "metadata": {},
   "source": [
    "# Ejercicios `for`"
   ]
  },
  {
   "cell_type": "markdown",
   "metadata": {},
   "source": [
    "## Ejercicio 1\n",
    "\n",
    "Crea un programa en Python que muestre los números del 100 al 1.\n",
    "\n",
    "Salida: Primero muestra cada número en una línea y a continuación muéstralos en la misma línea separados por un espacio en blanco.\n"
   ]
  },
  {
   "cell_type": "code",
   "execution_count": null,
   "metadata": {},
   "outputs": [],
   "source": [
    "for i in range(100, 0, -1):\n",
    "    print(i)"
   ]
  },
  {
   "cell_type": "code",
   "execution_count": 2,
   "metadata": {},
   "outputs": [
    {
     "name": "stdout",
     "output_type": "stream",
     "text": [
      "100 99 98 97 96 95 94 93 92 91 90 89 88 87 86 85 84 83 82 81 80 79 78 77 76 75 74 73 72 71 70 69 68 67 66 65 64 63 62 61 60 59 58 57 56 55 54 53 52 51 50 49 48 47 46 45 44 43 42 41 40 39 38 37 36 35 34 33 32 31 30 29 28 27 26 25 24 23 22 21 20 19 18 17 16 15 14 13 12 11 10 9 8 7 6 5 4 3 2 1 "
     ]
    }
   ],
   "source": [
    "for i in range(100, 0, -1):\n",
    "    print(i, end=\" \")"
   ]
  },
  {
   "cell_type": "markdown",
   "metadata": {},
   "source": [
    "## Ejercicio 2\n",
    "\n",
    "Crea un programa en Python que muestre los números del 1 a un número mayor introducido por teclado."
   ]
  },
  {
   "cell_type": "code",
   "execution_count": 3,
   "metadata": {},
   "outputs": [
    {
     "name": "stdout",
     "output_type": "stream",
     "text": [
      "1 2 3 4 5 "
     ]
    }
   ],
   "source": [
    "numero = int(input(\"Introduce un número:\"))\n",
    "\n",
    "for i in range(1, numero + 1):\n",
    "    print(i, end=\" \")"
   ]
  },
  {
   "cell_type": "markdown",
   "metadata": {},
   "source": [
    "\n",
    "## Ejercicio 3\n",
    "\n",
    "Crea un programa en Python que muestre los números desde un número introducido por teclado hasta el 1, descendiendo de 1 en 1.\n"
   ]
  },
  {
   "cell_type": "code",
   "execution_count": 5,
   "metadata": {},
   "outputs": [
    {
     "name": "stdout",
     "output_type": "stream",
     "text": [
      "5 4 3 2 1 "
     ]
    }
   ],
   "source": [
    "numero = int(input(\"Introduce un número:\"))\n",
    "\n",
    "for i in range(numero, 0, -1):\n",
    "    print(i, end=\" \")"
   ]
  },
  {
   "cell_type": "markdown",
   "metadata": {},
   "source": [
    "## Ejercicio 4\n",
    "\n",
    "Crea un programa en Python que muestre los números desde un número mayor hasta otro menor introducidos por teclado. Comprueba que el primer número es mayor que el segundo, y si no lo es, muestra un mensaje y finaliza el programa."
   ]
  },
  {
   "cell_type": "code",
   "execution_count": 9,
   "metadata": {},
   "outputs": [],
   "source": [
    "mayor = int(input(\"Introduce límite superior: \"))\n",
    "menor = int(input(\"Introduce límite inferior: \"))\n",
    "\n",
    "if mayor > menor:\n",
    "    for i in range(mayor, menor - 1, -1):\n",
    "        print(i, end=\" \")\n",
    "else:\n",
    "    print(\"El límite superior debe ser mayor que el inferior.\")"
   ]
  },
  {
   "cell_type": "code",
   "execution_count": 12,
   "metadata": {},
   "outputs": [
    {
     "name": "stdout",
     "output_type": "stream",
     "text": [
      "9 "
     ]
    }
   ],
   "source": [
    "n1 = int(input(\"Introduce un número: \"))\n",
    "n2 = int(input(\"Introduce otro número: \"))\n",
    "\n",
    "if n1 > n2:\n",
    "    for i in range(n1, n2 - 1, -1):\n",
    "        print(i, end=\" \")\n",
    "else:\n",
    "    for i in range(n2, n1 - 1, -1):\n",
    "        print(i, end=\" \")"
   ]
  },
  {
   "cell_type": "markdown",
   "metadata": {},
   "source": [
    "## Ejercicio 5\n",
    "\n",
    "Crea un programa en Python que muestre el producto de los 10 primeros números impares.\n",
    "\n",
    "El resultado es **654729075**."
   ]
  },
  {
   "cell_type": "code",
   "execution_count": 13,
   "metadata": {},
   "outputs": [
    {
     "name": "stdout",
     "output_type": "stream",
     "text": [
      "654729075\n"
     ]
    }
   ],
   "source": [
    "producto = 1\n",
    "\n",
    "for i in range(1, 20, 2):\n",
    "    producto = producto * i #producto *= i\n",
    "\n",
    "print(producto)"
   ]
  },
  {
   "cell_type": "code",
   "execution_count": null,
   "metadata": {},
   "outputs": [],
   "source": [
    "producto = 1\n",
    "cantidade = 10\n",
    "\n",
    "for i in range(1, cantidade * 2, 2):\n",
    "    producto = producto * i #producto *= i\n",
    "\n",
    "print(producto)"
   ]
  },
  {
   "cell_type": "markdown",
   "metadata": {},
   "source": [
    "## Ejercicio 6\n",
    "\n",
    "En algunos países anglosajones se emplea la palabra Mississippi para contar segundos, por ejemplo, para jugar al escondite. Crea un programa que cuente hasta 5 en segundos y, cuando acabe, muestre el mensaje “Voy!”. El resultado será el siguiente:\n",
    "\n",
    "```python\n",
    "1 Mississippi\n",
    "2 Mississippi\n",
    "3 Mississippi\n",
    "4 Mississippi\n",
    "5 Mississippi\n",
    "Voy!\n",
    "```\n",
    "\n",
    "Usa la función time.sleep() para esperar un segundo. Busca información de su uso.\n"
   ]
  },
  {
   "cell_type": "markdown",
   "metadata": {},
   "source": [
    "## Ejercicio 7: Devorador de vocales\n",
    "\n",
    "Crea un programa que pida al usuario una frase y le muestre esa frase en mayúsculas y sin las vocales."
   ]
  },
  {
   "cell_type": "markdown",
   "metadata": {},
   "source": [
    "## Ejercicio 8: Contador de vocales\n",
    "\n",
    "Crea un programa que pida al usuario una frase y le diga cuántas vocales tiene esa frase."
   ]
  },
  {
   "cell_type": "markdown",
   "metadata": {},
   "source": [
    "## Ejercicio 9\n",
    "\n",
    "El alumnado del IES de Teis tiene un correo electrónico en el dominio `iesteis.es`. Este correo consiste en el nombre de usuario con el que acceden en las aulas seguido de `@iesteis.es`. Por ejemplo `a23mariarm@iesteis.es`. \n",
    "\n",
    "Escribe un programa en Python que pida al usuario un correo electrónico y devuelva el nombre de usuario. En este ejemplo: `a23mariarm`."
   ]
  }
 ],
 "metadata": {
  "kernelspec": {
   "display_name": "Python 3",
   "language": "python",
   "name": "python3"
  },
  "language_info": {
   "codemirror_mode": {
    "name": "ipython",
    "version": 3
   },
   "file_extension": ".py",
   "mimetype": "text/x-python",
   "name": "python",
   "nbconvert_exporter": "python",
   "pygments_lexer": "ipython3",
   "version": "3.12.3"
  },
  "orig_nbformat": 4
 },
 "nbformat": 4,
 "nbformat_minor": 2
}
