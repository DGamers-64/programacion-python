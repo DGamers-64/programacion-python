{
 "cells": [
  {
   "cell_type": "markdown",
   "metadata": {},
   "source": [
    "# Cadenas\n",
    "\n",
    "Las cadenas son un tipo de secuencias de Python, por lo que todo lo aplicable a las seuencias en cuanto a acceso y operadores, se aplica también a las cadenas.\n",
    "\n",
    "Recordemos que las cadenas son **inmutables**. Por ello, todos los métodos devolverán una cadena con el resultado **pero no modificarán la cadena original**."
   ]
  },
  {
   "cell_type": "code",
   "execution_count": null,
   "metadata": {},
   "outputs": [],
   "source": [
    "cadena = \"Hola\"\n",
    "\n",
    "cadena[1] = 'a'\n",
    "\n",
    "print()"
   ]
  },
  {
   "cell_type": "markdown",
   "metadata": {},
   "source": [
    "Las cadenas se declaran utilizando las comillas simples ( `\\'`) o dobles (`\\\"`)."
   ]
  },
  {
   "cell_type": "markdown",
   "metadata": {},
   "source": [
    "## Formateo de cadenas\n",
    "\n"
   ]
  },
  {
   "cell_type": "markdown",
   "metadata": {},
   "source": [
    "## Métodos de capitalización\n"
   ]
  },
  {
   "cell_type": "markdown",
   "metadata": {},
   "source": [
    "\n",
    "### `capitalize()`\n",
    "\n",
    "Devuelve la misma cadena pero con la primera letra en mayúscula."
   ]
  },
  {
   "cell_type": "code",
   "execution_count": 2,
   "metadata": {},
   "outputs": [
    {
     "name": "stdout",
     "output_type": "stream",
     "text": [
      "Hola\n",
      "hola\n"
     ]
    }
   ],
   "source": [
    "cadena = \"hola\"\n",
    "\n",
    "print(cadena.capitalize())\n",
    "print(cadena) # Vemos que la original no se modifica"
   ]
  },
  {
   "cell_type": "markdown",
   "metadata": {},
   "source": [
    "Si quisiéramos modificar la cadena, tendríamos que reasignar el resultado a la propia cadena:"
   ]
  },
  {
   "cell_type": "code",
   "execution_count": 3,
   "metadata": {},
   "outputs": [
    {
     "name": "stdout",
     "output_type": "stream",
     "text": [
      "Hola\n"
     ]
    }
   ],
   "source": [
    "cadena = \"hola\"\n",
    "\n",
    "cadena = cadena.capitalize()\n",
    "\n",
    "print(cadena)"
   ]
  },
  {
   "cell_type": "markdown",
   "metadata": {},
   "source": [
    "### `lower()`\n",
    "\n",
    "Devuelve una copia de la cadena con todos los caracteres en minúsculas.\n"
   ]
  },
  {
   "cell_type": "code",
   "execution_count": 19,
   "metadata": {},
   "outputs": [
    {
     "name": "stdout",
     "output_type": "stream",
     "text": [
      "привіт світ\n"
     ]
    }
   ],
   "source": [
    "cadena = \"Привіт Світ\"\n",
    "\n",
    "print(cadena.lower())"
   ]
  },
  {
   "cell_type": "code",
   "execution_count": 18,
   "metadata": {},
   "outputs": [
    {
     "name": "stdout",
     "output_type": "stream",
     "text": [
      "hola\n"
     ]
    }
   ],
   "source": [
    "cadena = \"HOla\"\n",
    "print(cadena.lower())"
   ]
  },
  {
   "cell_type": "markdown",
   "metadata": {},
   "source": [
    "### `upper()`\n",
    "\n",
    "Devuelve una copia de la cadena con todos los caracteres en mayúsculas.\n"
   ]
  },
  {
   "cell_type": "code",
   "execution_count": 20,
   "metadata": {},
   "outputs": [
    {
     "name": "stdout",
     "output_type": "stream",
     "text": [
      "ПРИВІТ СВІТ\n"
     ]
    }
   ],
   "source": [
    "cadena = \"Привіт Світ\"\n",
    "\n",
    "print(cadena.upper())\n"
   ]
  },
  {
   "cell_type": "code",
   "execution_count": 21,
   "metadata": {},
   "outputs": [
    {
     "name": "stdout",
     "output_type": "stream",
     "text": [
      "HOLA\n"
     ]
    }
   ],
   "source": [
    "cadena = \"HOla\"\n",
    "print(cadena.upper())"
   ]
  },
  {
   "cell_type": "markdown",
   "metadata": {},
   "source": [
    "\n",
    "### `swapcase()`\n",
    "\n",
    "Devuelve una copia de la cadena con los caracteres en mayúsculas convertidos a minúsculas y viceversa."
   ]
  },
  {
   "cell_type": "code",
   "execution_count": 33,
   "metadata": {},
   "outputs": [
    {
     "name": "stdout",
     "output_type": "stream",
     "text": [
      "hOLa MuNDo\n"
     ]
    }
   ],
   "source": [
    "cadena = \"HolA mUndO\"\n",
    "\n",
    "print(cadena.swapcase())"
   ]
  },
  {
   "cell_type": "markdown",
   "metadata": {},
   "source": [
    "### `title()`\n",
    "\n",
    "Cambia la primera letra de cada palabra a mayúsculas, convirtiendo todas las demás a minúsculas.\n"
   ]
  },
  {
   "cell_type": "code",
   "execution_count": 79,
   "metadata": {},
   "outputs": [
    {
     "name": "stdout",
     "output_type": "stream",
     "text": [
      "We Will Rock You\n"
     ]
    }
   ],
   "source": [
    "cancion = \"we will rock you\"\n",
    "\n",
    "print(cancion.title())"
   ]
  },
  {
   "cell_type": "markdown",
   "metadata": {},
   "source": [
    "### `casefold()`\n",
    "\n",
    "Esta función está destinada a la comparación de cadenas sin tener en cuenta las diferencias de mayúsculas y minúsculas. Lleva a cabo una operación similar a str.lower(), pero va un poco más allá, ya que es más agresiva, y puede cambiar el tamaño de la cadena, no solo los caracteres en mayúsculas a minúsculas.\n",
    "\n",
    "Por ejemplo, modifica la letra alemana 'ß' (que no tiene equivalente en mayúsculas) a 'ss'.\n"
   ]
  },
  {
   "cell_type": "code",
   "execution_count": null,
   "metadata": {},
   "outputs": [],
   "source": [
    "\n",
    "cadena = \"Straße?\"\n",
    "\n",
    "print(cadena.casefold())"
   ]
  },
  {
   "cell_type": "markdown",
   "metadata": {},
   "source": [
    "## Métodos de comprobación de prefijo/sufijo\n"
   ]
  },
  {
   "cell_type": "markdown",
   "metadata": {},
   "source": [
    "\n",
    "### `endswith(sufijo)`\n",
    "\n",
    "Devuelve `True` si la cadena termina con el sufijo especificado, en caso contrario devuelve `False`."
   ]
  },
  {
   "cell_type": "code",
   "execution_count": 36,
   "metadata": {},
   "outputs": [
    {
     "name": "stdout",
     "output_type": "stream",
     "text": [
      "Verbo 3ª conjugación\n"
     ]
    }
   ],
   "source": [
    "cadena = \"reir\"\n",
    "\n",
    "if cadena.endswith(\"ar\"):\n",
    "    print(\"Verbo 1ª conjugación\")\n",
    "elif cadena.endswith(\"er\"):\n",
    "    print(\"Verbo 2ª conjugación\")\n",
    "elif cadena.endswith(\"ir\"):\n",
    "    print(\"Verbo 3ª conjugación\")\n",
    "else:\n",
    "    print(\"No es un verbo\")"
   ]
  },
  {
   "cell_type": "markdown",
   "metadata": {},
   "source": [
    "### `startsswith(prefijo)`\n",
    "\n",
    "Devuelve `True` si la cadena empieza con el prefijo especificado, en caso contrario devuelve `False`.\n"
   ]
  },
  {
   "cell_type": "code",
   "execution_count": 78,
   "metadata": {},
   "outputs": [
    {
     "name": "stdout",
     "output_type": "stream",
     "text": [
      "El teléfono es de Pontevedra\n"
     ]
    }
   ],
   "source": [
    "cadena = \"886120464\"\n",
    "\n",
    "if cadena.startswith(\"886\") or cadena.startswith(\"986\"):\n",
    "    print(\"El teléfono es de Pontevedra\")"
   ]
  },
  {
   "cell_type": "markdown",
   "metadata": {},
   "source": [
    "## Métodos de búsqueda y remplazo\n"
   ]
  },
  {
   "cell_type": "markdown",
   "metadata": {},
   "source": [
    "\n",
    "### `count(subcadena[, inicio[, fin]])`\n",
    "\n",
    "Este método está presente en todas las secuencias en Python.\n",
    "\n",
    "En las cadenas, se utiliza para contar el número de veces que aparece una subcadena en la cadena.\n",
    "\n",
    "Si se especifica el inicio y el fin, se buscará la subcadena en ese trozo de la cadena."
   ]
  },
  {
   "cell_type": "code",
   "execution_count": 43,
   "metadata": {},
   "outputs": [
    {
     "name": "stdout",
     "output_type": "stream",
     "text": [
      "6\n"
     ]
    }
   ],
   "source": [
    "texto = '''Pido perdón a los niños por haber dedicado este libro a una persona mayor. Tengo una seria\n",
    "excusa: esta persona mayor es el mejor amigo que tengo en el mundo. Tengo otra excusa: esta persona\n",
    "mayor es capaz de entenderlo todo, hasta los libros para niños. Tengo una tercera excusa: esta persona\n",
    "mayor vive en Francia, donde pasa hambre y frío. Verdaderamente necesita consuelo. Si todas esas\n",
    "excusas no bastasen, bien puedo dedicar este libro al niño que una vez fue esta persona mayor. Todos\n",
    "los mayores han sido primero niños. (Pero pocos lo recuerdan).'''\n",
    "\n",
    "print(texto.count(\"mayor\"))"
   ]
  },
  {
   "cell_type": "markdown",
   "metadata": {},
   "source": [
    "### `index(subcadena[, inicio[, fin]])`\n",
    "\n",
    "Este método está presente en todas las secuencias de Python.\n",
    "\n",
    "En las cadenas, se utiliza para buscar la posición de una subcadena dentro de otra.\n",
    "\n",
    "Si se indican los parámetros opcionales inicio y fin, la búsqueda se realiza dentro de un trozo de la cadena original, comenzando en el índice inicio y terminando en el índice fin."
   ]
  },
  {
   "cell_type": "code",
   "execution_count": 60,
   "metadata": {},
   "outputs": [
    {
     "name": "stdout",
     "output_type": "stream",
     "text": [
      "5\n"
     ]
    },
    {
     "ename": "ValueError",
     "evalue": "substring not found",
     "output_type": "error",
     "traceback": [
      "\u001b[0;31m---------------------------------------------------------------------------\u001b[0m",
      "\u001b[0;31mValueError\u001b[0m                                Traceback (most recent call last)",
      "\u001b[1;32m/home/marta/onedrive/secundaria/material-por-modulos/Programación/Python/Programacion-Python/04Estructuras_de_datos/06Cadenas.ipynb Celda 27\u001b[0m line \u001b[0;36m4\n\u001b[1;32m      <a href='vscode-notebook-cell:/home/marta/onedrive/secundaria/material-por-modulos/Programaci%C3%B3n/Python/Programacion-Python/04Estructuras_de_datos/06Cadenas.ipynb#Y123sZmlsZQ%3D%3D?line=0'>1</a>\u001b[0m cadena \u001b[39m=\u001b[39m \u001b[39m\"\u001b[39m\u001b[39mHola Mundo\u001b[39m\u001b[39m\"\u001b[39m\n\u001b[1;32m      <a href='vscode-notebook-cell:/home/marta/onedrive/secundaria/material-por-modulos/Programaci%C3%B3n/Python/Programacion-Python/04Estructuras_de_datos/06Cadenas.ipynb#Y123sZmlsZQ%3D%3D?line=2'>3</a>\u001b[0m \u001b[39mprint\u001b[39m(cadena\u001b[39m.\u001b[39mindex(\u001b[39m\"\u001b[39m\u001b[39mMundo\u001b[39m\u001b[39m\"\u001b[39m))\n\u001b[0;32m----> <a href='vscode-notebook-cell:/home/marta/onedrive/secundaria/material-por-modulos/Programaci%C3%B3n/Python/Programacion-Python/04Estructuras_de_datos/06Cadenas.ipynb#Y123sZmlsZQ%3D%3D?line=3'>4</a>\u001b[0m \u001b[39mprint\u001b[39m(cadena\u001b[39m.\u001b[39;49mindex(\u001b[39m\"\u001b[39;49m\u001b[39mmundo\u001b[39;49m\u001b[39m\"\u001b[39;49m))\n",
      "\u001b[0;31mValueError\u001b[0m: substring not found"
     ]
    }
   ],
   "source": [
    "cadena = \"Hola Mundo\"\n",
    "\n",
    "print(cadena.index(\"Mundo\"))\n",
    "print(cadena.index(\"mundo\"))"
   ]
  },
  {
   "cell_type": "markdown",
   "metadata": {},
   "source": [
    "### `find(subcadena, [inicio], [fin])` y `rfind(subcadena, [inicio], [fin])`\n",
    "\n",
    "`find()` Busca la subcadena dentro de la cadena y devuelve el índice de la primera aparición de la subcadena. Parecido a `index()` pero si no la encuentra devuelve -1.\n",
    "\n",
    "Si se indican los parámetros opcionales inicio y fin, la búsqueda se realiza dentro de un trozo de la cadena original, comenzando en el índice inicio y terminando en el índice fin.\n",
    "\n",
    "El método `rfind()` funciona igual pero empieza a buscar desde el final de la cadena."
   ]
  },
  {
   "cell_type": "code",
   "execution_count": 59,
   "metadata": {},
   "outputs": [
    {
     "name": "stdout",
     "output_type": "stream",
     "text": [
      "5\n",
      "-1\n"
     ]
    }
   ],
   "source": [
    "cadena = \"Hola Mundo\"\n",
    "\n",
    "print(cadena.find(\"Mundo\"))\n",
    "print(cadena.find(\"mundo\"))"
   ]
  },
  {
   "cell_type": "markdown",
   "metadata": {},
   "source": [
    "Si queremos buscar todas las ocurrencias de la subcadena:"
   ]
  },
  {
   "cell_type": "code",
   "execution_count": 44,
   "metadata": {},
   "outputs": [
    {
     "name": "stdout",
     "output_type": "stream",
     "text": [
      "68\n",
      "112\n",
      "191\n",
      "294\n",
      "479\n",
      "496\n"
     ]
    }
   ],
   "source": [
    "texto = '''Pido perdón a los niños por haber dedicado este libro a una persona mayor. Tengo una seria\n",
    "excusa: esta persona mayor es el mejor amigo que tengo en el mundo. Tengo otra excusa: esta persona\n",
    "mayor es capaz de entenderlo todo, hasta los libros para niños. Tengo una tercera excusa: esta persona\n",
    "mayor vive en Francia, donde pasa hambre y frío. Verdaderamente necesita consuelo. Si todas esas\n",
    "excusas no bastasen, bien puedo dedicar este libro al niño que una vez fue esta persona mayor. Todos\n",
    "los mayores han sido primero niños. (Pero pocos lo recuerdan).'''\n",
    "\n",
    "inicio = 0\n",
    "\n",
    "indice = texto.find(\"mayor\", inicio)\n",
    "\n",
    "while indice != -1:\n",
    "    print(indice)\n",
    "    inicio = indice + 1\n",
    "    indice = texto.find(\"mayor\", inicio)\n"
   ]
  },
  {
   "cell_type": "code",
   "execution_count": 64,
   "metadata": {},
   "outputs": [
    {
     "name": "stdout",
     "output_type": "stream",
     "text": [
      "496\n",
      "479\n",
      "294\n",
      "191\n",
      "112\n",
      "68\n"
     ]
    }
   ],
   "source": [
    "texto = '''Pido perdón a los niños por haber dedicado este libro a una persona mayor. Tengo una seria\n",
    "excusa: esta persona mayor es el mejor amigo que tengo en el mundo. Tengo otra excusa: esta persona\n",
    "mayor es capaz de entenderlo todo, hasta los libros para niños. Tengo una tercera excusa: esta persona\n",
    "mayor vive en Francia, donde pasa hambre y frío. Verdaderamente necesita consuelo. Si todas esas\n",
    "excusas no bastasen, bien puedo dedicar este libro al niño que una vez fue esta persona mayor. Todos\n",
    "los mayores han sido primero niños. (Pero pocos lo recuerdan).'''\n",
    "\n",
    "fin = len(texto)\n",
    "\n",
    "indice = texto.rfind(\"mayor\", 0, fin)\n",
    "\n",
    "while indice != -1:\n",
    "    print(indice)\n",
    "    fin = indice\n",
    "    indice = texto.rfind(\"mayor\", 0, fin)\n"
   ]
  },
  {
   "cell_type": "markdown",
   "metadata": {},
   "source": [
    "### `replace(origen, destino)`\n",
    "\n",
    "Devuelve una copia de la cadena original en la que todas las apariciones del primer argumento han sido reemplazadas por el segundo argumento."
   ]
  },
  {
   "cell_type": "code",
   "execution_count": 75,
   "metadata": {},
   "outputs": [
    {
     "name": "stdout",
     "output_type": "stream",
     "text": [
      "Pido perdón a los adultos por haber dedicado este libro a una persona menor. Tengo una seria\n",
      "excusa: esta persona menor es el mejor amigo que tengo en el mundo. Tengo otra excusa: esta persona\n",
      "menor es capaz de entenderlo todo, hasta los libros para adultos. Tengo una tercera excusa: esta persona\n",
      "menor vive en Francia, donde pasa hambre y frío. Verdaderamente necesita consuelo. Si todas esas\n",
      "excusas no bastasen, bien puedo dedicar este libro al niño que una vez fue esta persona menor. Todos\n",
      "los menores han sido primero adultos. (Pero pocos lo recuerdan).\n"
     ]
    }
   ],
   "source": [
    "texto = '''Pido perdón a los niños por haber dedicado este libro a una persona mayor. Tengo una seria\n",
    "excusa: esta persona mayor es el mejor amigo que tengo en el mundo. Tengo otra excusa: esta persona\n",
    "mayor es capaz de entenderlo todo, hasta los libros para niños. Tengo una tercera excusa: esta persona\n",
    "mayor vive en Francia, donde pasa hambre y frío. Verdaderamente necesita consuelo. Si todas esas\n",
    "excusas no bastasen, bien puedo dedicar este libro al niño que una vez fue esta persona mayor. Todos\n",
    "los mayores han sido primero niños. (Pero pocos lo recuerdan).'''\n",
    "\n",
    "resultado = texto.replace(\"mayor\", \"menor\")\n",
    "resultado = resultado.replace(\"niños\", \"adultos\")\n",
    "\n",
    "print(resultado)"
   ]
  },
  {
   "cell_type": "markdown",
   "metadata": {},
   "source": [
    "## Métodos de comprobación de dígitos, números, mayusculas, minúsculas...\n"
   ]
  },
  {
   "cell_type": "markdown",
   "metadata": {},
   "source": [
    "\n",
    "### `isalnum()`\n",
    "\n",
    "Devuelve `True` si la cadena contiene solo dígitos o caracteres alfabéticos (letras) y `False` en caso contrario."
   ]
  },
  {
   "cell_type": "code",
   "execution_count": 48,
   "metadata": {},
   "outputs": [
    {
     "name": "stdout",
     "output_type": "stream",
     "text": [
      "True\n",
      "True\n",
      "True\n",
      "False\n",
      "False\n",
      "True\n",
      "True\n",
      "True\n",
      "False\n"
     ]
    }
   ],
   "source": [
    "print('DAW30'.isalnum())\n",
    "print('DAW'.isalnum())\n",
    "print('30'.isalnum())\n",
    "print('@'.isalnum())\n",
    "print('DAW_1'.isalnum())\n",
    "print('DAW1º'.isalnum())\n",
    "print('DAW1ª'.isalnum())\n",
    "print('programación'.isalnum())\n",
    "print(''.isalnum())"
   ]
  },
  {
   "cell_type": "markdown",
   "metadata": {},
   "source": [
    "### `isalpha()`\n",
    "\n",
    "Devuelve `True` si la cadena contiene solo caracteres alfabéticos (letras) y `False` en caso contrario."
   ]
  },
  {
   "cell_type": "code",
   "execution_count": 49,
   "metadata": {},
   "outputs": [
    {
     "name": "stdout",
     "output_type": "stream",
     "text": [
      "False\n",
      "True\n",
      "False\n",
      "False\n",
      "False\n",
      "False\n",
      "False\n",
      "True\n",
      "False\n"
     ]
    }
   ],
   "source": [
    "print('DAW30'.isalpha())\n",
    "print('DAW'.isalpha())\n",
    "print('30'.isalpha())\n",
    "print('@'.isalpha())\n",
    "print('DAW_1'.isalpha())\n",
    "print('DAW1º'.isalpha())\n",
    "print('DAW1ª'.isalpha())\n",
    "print('programación'.isalpha())\n",
    "print(''.isalpha())"
   ]
  },
  {
   "cell_type": "markdown",
   "metadata": {},
   "source": [
    "### `isdigit()`\n",
    "\n",
    "Devuelve `True` si la cadena contiene solo dígitos y `False` en caso contrario."
   ]
  },
  {
   "cell_type": "code",
   "execution_count": 50,
   "metadata": {},
   "outputs": [
    {
     "name": "stdout",
     "output_type": "stream",
     "text": [
      "False\n",
      "False\n",
      "True\n",
      "False\n",
      "False\n",
      "False\n",
      "False\n",
      "False\n",
      "False\n"
     ]
    }
   ],
   "source": [
    "print('DAW30'.isdigit())\n",
    "print('DAW'.isdigit())\n",
    "print('30'.isdigit())\n",
    "print('@'.isdigit())\n",
    "print('DAW_1'.isdigit())\n",
    "print('DAW1º'.isdigit())\n",
    "print('DAW1ª'.isdigit())\n",
    "print('programación'.isdigit())\n",
    "print(''.isdigit())"
   ]
  },
  {
   "cell_type": "markdown",
   "metadata": {},
   "source": [
    "### `islower()`\n",
    "\n",
    "Devuelve `True` si los caracteres alfabéticos (letras) de la cadena están en minúscula y `False` en caso contrario."
   ]
  },
  {
   "cell_type": "code",
   "execution_count": 54,
   "metadata": {},
   "outputs": [
    {
     "name": "stdout",
     "output_type": "stream",
     "text": [
      "True\n",
      "False\n",
      "False\n",
      "False\n",
      "False\n",
      "True\n",
      "False\n",
      "True\n",
      "False\n"
     ]
    }
   ],
   "source": [
    "print('daw30'.islower())\n",
    "print('DAW'.islower())\n",
    "print('30'.islower())\n",
    "print('@'.islower())\n",
    "print('DAW_1'.islower())\n",
    "print('daw1º'.islower())\n",
    "print('DAW1ª'.islower())\n",
    "print('programación'.islower())\n",
    "print(''.islower())"
   ]
  },
  {
   "cell_type": "markdown",
   "metadata": {},
   "source": [
    "### `isupper()`\n",
    "\n",
    "Devuelve `True` si los caracteres alfabéticos (letras) de la cadena están en mayúscula y `False` en caso contrario.\n"
   ]
  },
  {
   "cell_type": "code",
   "execution_count": 55,
   "metadata": {},
   "outputs": [
    {
     "name": "stdout",
     "output_type": "stream",
     "text": [
      "False\n",
      "True\n",
      "False\n",
      "False\n",
      "True\n",
      "False\n",
      "False\n",
      "False\n",
      "False\n"
     ]
    }
   ],
   "source": [
    "print('daw30'.isupper())\n",
    "print('DAW'.isupper())\n",
    "print('30'.isupper())\n",
    "print('@'.isupper())\n",
    "print('DAW_1'.isupper())\n",
    "print('daw1º'.isupper())\n",
    "print('DAW1ª'.isupper())\n",
    "print('programación'.isupper())\n",
    "print(''.isupper())"
   ]
  },
  {
   "cell_type": "markdown",
   "metadata": {},
   "source": [
    "### `isspace()`\n",
    "\n",
    "Devuelve `True` si todos los caracteres de la cadena son espacios y `False` en caso contrario."
   ]
  },
  {
   "cell_type": "code",
   "execution_count": 58,
   "metadata": {},
   "outputs": [
    {
     "name": "stdout",
     "output_type": "stream",
     "text": [
      "True\n",
      "True\n",
      "True\n",
      "False\n"
     ]
    }
   ],
   "source": [
    "print(' \\n '.isspace())\n",
    "print(' \\t '.isspace())\n",
    "print(\" \".isspace())\n",
    "print(\"bla bla bla\".isspace())"
   ]
  },
  {
   "cell_type": "markdown",
   "metadata": {},
   "source": [
    "## Métodos para insertar y eliminar espacios\n"
   ]
  },
  {
   "cell_type": "markdown",
   "metadata": {},
   "source": [
    "\n",
    "### `center(ancho [, relleno])`\n",
    "\n",
    "Centra una cadena en otra de un ancho determinado en el parámetro `ancho`, añadiendo espacios antes y/o después.\n",
    "\n",
    "El parámetro `relleno` es opcional e indica el carácter de relleno, por defecto es un espacio."
   ]
  },
  {
   "cell_type": "code",
   "execution_count": null,
   "metadata": {},
   "outputs": [
    {
     "name": "stdout",
     "output_type": "stream",
     "text": [
      "----*----\n",
      "---***---\n",
      "--*****--\n",
      "-*******-\n",
      "*********\n"
     ]
    }
   ],
   "source": [
    "filas = 5\n",
    "ancho_final = filas * 2 - 1\n",
    "\n",
    "for i in range(filas):\n",
    "    num_asteriscos = i * 2 + 1\n",
    "    print((\"*\" * num_asteriscos).center(ancho_final))"
   ]
  },
  {
   "cell_type": "code",
   "execution_count": null,
   "metadata": {},
   "outputs": [
    {
     "name": "stdout",
     "output_type": "stream",
     "text": [
      "-----Hola Mundo-----\n",
      "------Hola Mundo-----\n"
     ]
    }
   ],
   "source": [
    "cadena = \"Hola Mundo\"\n",
    "\n",
    "print(cadena.center(20, \"-\"))\n",
    "print(cadena.center(21, \"-\"))"
   ]
  },
  {
   "cell_type": "markdown",
   "metadata": {},
   "source": [
    "### `strip([carácter])`, `lstrip([carácter])` y `rstrip([carácter])`\n",
    "\n",
    "Si se llaman sin parámetros, eliminan todos los espacios, los que estén a la izquierda o a la derecha (respectivamente) de una cadena."
   ]
  },
  {
   "cell_type": "code",
   "execution_count": 70,
   "metadata": {},
   "outputs": [
    {
     "name": "stdout",
     "output_type": "stream",
     "text": [
      "*Hola Mundo*\n",
      "*Hola Mundo     *\n",
      "*      Hola Mundo*\n"
     ]
    }
   ],
   "source": [
    "cadena = \"      Hola Mundo     \"\n",
    "\n",
    "print(\"*\", cadena.strip(), \"*\", sep=\"\")\n",
    "print(\"*\", cadena.lstrip(), \"*\", sep=\"\")\n",
    "print(\"*\", cadena.rstrip(), \"*\", sep=\"\")"
   ]
  },
  {
   "cell_type": "markdown",
   "metadata": {},
   "source": [
    "Si se le pasa algún parámetro, en lugar de eliminar espacios elimina el primer carácter de la cadena que se le pasa."
   ]
  },
  {
   "cell_type": "code",
   "execution_count": 72,
   "metadata": {},
   "outputs": [
    {
     "name": "stdout",
     "output_type": "stream",
     "text": [
      "*Hola Mundo*\n",
      "*Hola Mundo0000000000000000000*\n",
      "*0000000000000000000Hola Mundo*\n"
     ]
    }
   ],
   "source": [
    "cadena = \"0000000000000000000Hola Mundo0000000000000000000\"\n",
    "\n",
    "print(\"*\", cadena.strip(\"0\"), \"*\", sep=\"\")\n",
    "print(\"*\", cadena.lstrip(\"0\"), \"*\", sep=\"\")\n",
    "print(\"*\", cadena.rstrip(\"0\"), \"*\", sep=\"\")"
   ]
  },
  {
   "cell_type": "markdown",
   "metadata": {},
   "source": [
    "## Métodos de conversión entre listas y cadenas"
   ]
  },
  {
   "cell_type": "markdown",
   "metadata": {},
   "source": [
    "### `join(lista)`\n",
    "\n",
    "Une todos los elementos de la lista que se le pasa (que contendrá únicamente cadenas) utilizando como separador la cadena desde la que se llama.\n"
   ]
  },
  {
   "cell_type": "code",
   "execution_count": 67,
   "metadata": {},
   "outputs": [
    {
     "name": "stdout",
     "output_type": "stream",
     "text": [
      "Hola Mundo\n",
      "Vigo, Coruña, Lugo, Ourense, Pontevedra\n"
     ]
    }
   ],
   "source": [
    "resultado = \" \".join([\"Hola\", \"Mundo\"])\n",
    "\n",
    "print(resultado)\n",
    "\n",
    "ciudades = [\"Vigo\", \"Coruña\", \"Lugo\", \"Ourense\", \"Pontevedra\"]\n",
    "\n",
    "print(\", \".join(ciudades))"
   ]
  },
  {
   "cell_type": "markdown",
   "metadata": {},
   "source": [
    "### `split()`\n",
    "\n",
    "Divide la cadena y crea una lista de todas las subcadenas detectadas.\n",
    "\n",
    "El método asume que las subcadenas están delimitadas por espacios en blanco - los espacios no participan en la operación y no se copian en la lista resultante."
   ]
  },
  {
   "cell_type": "code",
   "execution_count": 77,
   "metadata": {},
   "outputs": [
    {
     "name": "stdout",
     "output_type": "stream",
     "text": [
      "['En', 'un', 'lugar', 'de', 'la', 'Mancha']\n"
     ]
    }
   ],
   "source": [
    "cadena = \"En un lugar de la Mancha\"\n",
    "\n",
    "lista = cadena.split()\n",
    "print(lista)"
   ]
  },
  {
   "cell_type": "markdown",
   "metadata": {},
   "source": [
    "## Expresiones regulares"
   ]
  }
 ],
 "metadata": {
  "kernelspec": {
   "display_name": "Python 3",
   "language": "python",
   "name": "python3"
  },
  "language_info": {
   "codemirror_mode": {
    "name": "ipython",
    "version": 3
   },
   "file_extension": ".py",
   "mimetype": "text/x-python",
   "name": "python",
   "nbconvert_exporter": "python",
   "pygments_lexer": "ipython3",
   "version": "3.10.12"
  }
 },
 "nbformat": 4,
 "nbformat_minor": 2
}
