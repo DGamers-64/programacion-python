{
 "cells": [
  {
   "cell_type": "markdown",
   "metadata": {},
   "source": [
    "# Ejercicios\n",
    "\n",
    "## Ejercicio 1\n",
    "\n",
    "Utilizando una tupla, escribe una función a la que se le pase el número del mes y devuelva su nombre.\n",
    "\n",
    "Crea un programa principal para probarla.\n"
   ]
  },
  {
   "cell_type": "code",
   "execution_count": null,
   "metadata": {},
   "outputs": [
    {
     "name": "stdout",
     "output_type": "stream",
     "text": [
      "enero\n",
      "abril\n",
      "julio\n",
      "Mes inválido\n"
     ]
    }
   ],
   "source": [
    "def preguntar_mes(mes):\n",
    "    meses = ('enero','febrero','marzo','abril','mayo','junio','julio','agosto','septiembre','octubre','noviembre','diciembre')\n",
    "    if(mes > 12 or mes < 0):\n",
    "        return \"Mes inválido\"\n",
    "    return meses[mes-1]\n",
    "\n",
    "print(preguntar_mes(1))\n",
    "print(preguntar_mes(4))\n",
    "print(preguntar_mes(7))\n",
    "print(preguntar_mes(15))"
   ]
  },
  {
   "cell_type": "markdown",
   "metadata": {},
   "source": [
    "## Ejercicio 2\n",
    "\n",
    "Busca el algoritmo para calcular la letra del DNI y crea una función que use listas para devolver la letra del mismo."
   ]
  },
  {
   "cell_type": "code",
   "execution_count": 3,
   "metadata": {},
   "outputs": [
    {
     "name": "stdout",
     "output_type": "stream",
     "text": [
      "c\n"
     ]
    }
   ],
   "source": [
    "def calculoLetraDNI(dni):\n",
    "    letra = ('t', 'r', 'w', 'a', 'g', 'm', 'y', 'f', 'p', 'd', 'x', 'b', 'n', 'j', 'z', 's', 'q', 'v', 'h', 'l', 'c', 'k', 'e')\n",
    "    return letra[(dni % 23)]\n",
    "\n",
    "dni = int(input('dime los numeros de tu dni'))\n",
    "print(calculoLetraDNI(dni))"
   ]
  },
  {
   "cell_type": "markdown",
   "metadata": {},
   "source": [
    "# Ejercicio 3\n",
    "\n",
    "Crea una función a la que se le pase un día de la semana y devuelva el siguiente, por ejemplo, si le pasamos \"lunes\" nos devolverá \"martes\"."
   ]
  },
  {
   "cell_type": "code",
   "execution_count": 5,
   "metadata": {},
   "outputs": [
    {
     "name": "stdout",
     "output_type": "stream",
     "text": [
      "martes\n",
      "viernes\n",
      "domingo\n"
     ]
    }
   ],
   "source": [
    "def devolver_dia_siguiente(dia):\n",
    "    dias = ('lunes','martes','miercoles','jueves','viernes','sabado','domingo')\n",
    "    index_dia = dias.index(dia)\n",
    "    return dias[index_dia+1]\n",
    "\n",
    "print(devolver_dia_siguiente('lunes'))\n",
    "print(devolver_dia_siguiente('jueves'))\n",
    "print(devolver_dia_siguiente('sabado'))"
   ]
  },
  {
   "cell_type": "markdown",
   "metadata": {},
   "source": [
    "## Ejercicio 4: AVANZADO\n",
    "\n",
    "En matemáticas, el número imaginario $i$ es $\\sqrt{-1}$. Así sus potencias serán:\n",
    "\n",
    "$i^0 = 1$\n",
    "\n",
    "$i^1 = i$\n",
    "\n",
    "$i^2 = -1$\n",
    "\n",
    "$i^3 = -i$\n",
    "\n",
    "$i^4 = 1 $\n",
    "\n",
    "$i^5 = i $\n",
    "\n",
    "$...$\n",
    "\n",
    "Escribe una función a la que se le pase el exponente para una potencia de $i$ y devuelva, como cadena, el resultado.\n",
    "\n",
    "[Ejercicio en codewars] (https://www.codewars.com/kata/5a97387e5ee396e70a00016d/train/python)"
   ]
  }
 ],
 "metadata": {
  "kernelspec": {
   "display_name": "Python 3",
   "language": "python",
   "name": "python3"
  },
  "language_info": {
   "codemirror_mode": {
    "name": "ipython",
    "version": 3
   },
   "file_extension": ".py",
   "mimetype": "text/x-python",
   "name": "python",
   "nbconvert_exporter": "python",
   "pygments_lexer": "ipython3",
   "version": "3.12.6"
  }
 },
 "nbformat": 4,
 "nbformat_minor": 2
}
