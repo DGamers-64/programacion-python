{
 "cells": [
  {
   "cell_type": "markdown",
   "metadata": {},
   "source": [
    "# Ejercicios"
   ]
  },
  {
   "cell_type": "markdown",
   "metadata": {},
   "source": [
    "## Ejercicio 1\n",
    "\n",
    "A partir de dos cadenas, devuelve un conjunto con las letras que estén en ambas."
   ]
  },
  {
   "cell_type": "markdown",
   "metadata": {},
   "source": [
    "## Ejercicio 2\n",
    "\n",
    "Con la intención de organizar mejor la FCT, crea varios conjuntos, uno por cada lenguaje de programación que conozcas, y añade a cada uno los alumnos que sepan ese lenguaje.\n",
    "\n",
    "Acaba de llegar una oferta de empleo que requiere que los candidatos sepan Java, C# y Python. ¿Qué alumnxs podrían optar a ella?"
   ]
  }
 ],
 "metadata": {
  "language_info": {
   "name": "python"
  }
 },
 "nbformat": 4,
 "nbformat_minor": 2
}
