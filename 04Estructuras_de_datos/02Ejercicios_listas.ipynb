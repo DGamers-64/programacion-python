{
 "cells": [
  {
   "cell_type": "markdown",
   "metadata": {},
   "source": [
    "# Ejercicios\n",
    "\n",
    "## Ejercicio 1\n",
    "\n",
    "Crea una función que pida al usuario 5 números y los guarde en una lista y devuelva esa lista.\n",
    "\n",
    "A continuación, muéstrala en orden inverso a como se introdujeron.\n"
   ]
  },
  {
   "cell_type": "code",
   "execution_count": 12,
   "metadata": {},
   "outputs": [
    {
     "name": "stdout",
     "output_type": "stream",
     "text": [
      "[5, 4, 3, 2, 1]\n"
     ]
    }
   ],
   "source": [
    "lista = []\n",
    "def añadir5NumerosLista(lista):\n",
    "    for i in range(0,5):\n",
    "        respuesta = int(input(\"dime un numero\"))\n",
    "        lista.append(respuesta)\n",
    "    return lista\n",
    "\n",
    "lista = añadir5NumerosLista(lista)\n",
    "\n",
    "print(lista[::-1])"
   ]
  },
  {
   "cell_type": "markdown",
   "metadata": {},
   "source": [
    "\n",
    "## Ejercicio 2\n",
    "\n",
    "Usando la función del ejercicio anterior, úsala y después busca el mayor de los números introducidos.\n"
   ]
  },
  {
   "cell_type": "code",
   "execution_count": null,
   "metadata": {},
   "outputs": [
    {
     "name": "stdout",
     "output_type": "stream",
     "text": [
      "8\n"
     ]
    }
   ],
   "source": [
    "lista = []\n",
    "\n",
    "def añadir5NumerosLista(lista):\n",
    "    for i in range(0,5):\n",
    "        respuesta = int(input(\"dime un numero\"))\n",
    "        lista.append(respuesta)\n",
    "    return lista\n",
    "\n",
    "lista = añadir5NumerosLista(lista)\n",
    "print(max(lista))"
   ]
  },
  {
   "cell_type": "markdown",
   "metadata": {},
   "source": [
    "\n",
    "## Ejercicio 3\n",
    "\n",
    "A partir de una lista, escribe un programa que cree una lista nueva con los elementos de la primera lista que sean impares.\n"
   ]
  },
  {
   "cell_type": "code",
   "execution_count": 18,
   "metadata": {},
   "outputs": [
    {
     "name": "stdout",
     "output_type": "stream",
     "text": [
      "[1, 3, 5]\n"
     ]
    }
   ],
   "source": [
    "lista = []\n",
    "lista_impares = []\n",
    "\n",
    "def añadir5NumerosLista(lista):\n",
    "    for i in range(0,5):\n",
    "        respuesta = int(input(\"dime un numero\"))\n",
    "        lista.append(respuesta)\n",
    "    return lista\n",
    "\n",
    "lista = añadir5NumerosLista(lista)\n",
    "for i in lista:\n",
    "    if i % 2 != 0:\n",
    "        lista_impares.append(i)\n",
    "\n",
    "print(lista_impares)"
   ]
  },
  {
   "cell_type": "markdown",
   "metadata": {},
   "source": [
    "## Ejercicio 4\n",
    "\n",
    "Escribe una función que reciba una lista de enteros y devuelva otra lista con los dobles de sus elementos.\n"
   ]
  },
  {
   "cell_type": "code",
   "execution_count": 25,
   "metadata": {},
   "outputs": [
    {
     "name": "stdout",
     "output_type": "stream",
     "text": [
      "[4, 12, 16, 708, 156]\n"
     ]
    }
   ],
   "source": [
    "def duplicador(lista, nuevaLista):\n",
    "    for i in lista:\n",
    "        nuevaLista.append(i * 2)\n",
    "    return nuevaLista\n",
    "\n",
    "def añadir5NumerosLista(lista):\n",
    "    for i in range(0,5):\n",
    "        respuesta = int(input(\"dime un numero\"))\n",
    "        lista.append(respuesta)\n",
    "    return lista\n",
    "\n",
    "lista = []\n",
    "nuevaLista = []\n",
    "lista = añadir5NumerosLista(lista)\n",
    "lista = duplicador(lista, nuevaLista)\n",
    "print(lista)"
   ]
  },
  {
   "cell_type": "markdown",
   "metadata": {},
   "source": [
    "## Ejercicio 5\n",
    "\n",
    "Usa la función del ejercicio 1 para crear una lista. A continuación, reemplaza todos los números negativos de esa lista por 0."
   ]
  },
  {
   "cell_type": "code",
   "execution_count": 3,
   "metadata": {},
   "outputs": [
    {
     "name": "stdout",
     "output_type": "stream",
     "text": [
      "[0, 4, 6, 0, 7]\n"
     ]
    }
   ],
   "source": [
    "def añadir5NumerosLista(lista):\n",
    "    for i in range(0,5):\n",
    "        respuesta = int(input(\"dime un numero\"))\n",
    "        lista.append(respuesta)\n",
    "    return lista\n",
    "\n",
    "def reemplazarNegativo(nuevaLista, lista):\n",
    "    for i in lista:\n",
    "        if (i < 0):\n",
    "            nuevaLista.append(0)\n",
    "        else:\n",
    "            nuevaLista.append(i)\n",
    "    return nuevaLista\n",
    "\n",
    "lista = []\n",
    "nuevaLista = []\n",
    "lista = añadir5NumerosLista(lista)\n",
    "nuevaLista = reemplazarNegativo(nuevaLista, lista)\n",
    "print(nuevaLista)"
   ]
  },
  {
   "cell_type": "markdown",
   "metadata": {},
   "source": [
    "## Ejercicio 6\n",
    "\n",
    "Dada una lista de palabras, crea una nueva lista que contenga solo las palabras que tienen más de 5 letras."
   ]
  },
  {
   "cell_type": "code",
   "execution_count": 5,
   "metadata": {},
   "outputs": [
    {
     "name": "stdout",
     "output_type": "stream",
     "text": [
      "['quetal?', 'colegio']\n"
     ]
    }
   ],
   "source": [
    "def añadir5PalabrasLista(lista):\n",
    "    for i in range(0,5):\n",
    "        respuesta = input(\"dime un palabra\")\n",
    "        lista.append(respuesta)\n",
    "    return lista\n",
    "\n",
    "def palabrasMayores5Letras(nuevaLista, lista):\n",
    "    for i in lista:\n",
    "        if len(i) > 5:\n",
    "            nuevaLista.append(i)\n",
    "    return nuevaLista\n",
    "\n",
    "lista = []\n",
    "nuevaLista = []\n",
    "lista = añadir5PalabrasLista(lista)\n",
    "nuevaLista = palabrasMayores5Letras(nuevaLista, lista)\n",
    "print(nuevaLista)"
   ]
  },
  {
   "cell_type": "markdown",
   "metadata": {},
   "source": [
    "\n",
    "## Ejercicio 7\n",
    "\n",
    "A partir de una lista, escribe un programa que cree una lista nueva eliminando aquellos que están repetidos."
   ]
  },
  {
   "cell_type": "code",
   "execution_count": 10,
   "metadata": {},
   "outputs": [
    {
     "name": "stdout",
     "output_type": "stream",
     "text": [
      "['hola', 'adios', 'asd']\n"
     ]
    }
   ],
   "source": [
    "def añadir5PalabrasLista(lista):\n",
    "    for i in range(0,5):\n",
    "        respuesta = input(\"dime un palabra\")\n",
    "        lista.append(respuesta)\n",
    "    return lista\n",
    "\n",
    "def adiosRepetidos(nuevaLista, lista):\n",
    "    for i in lista:\n",
    "        estaEnLista = nuevaLista.count(i)\n",
    "        if estaEnLista == 0:\n",
    "            nuevaLista.append(i)\n",
    "    return nuevaLista\n",
    "\n",
    "lista = []\n",
    "nuevaLista = []\n",
    "lista = añadir5PalabrasLista(lista)\n",
    "nuevaLista = adiosRepetidos(nuevaLista, lista)\n",
    "print(nuevaLista)"
   ]
  },
  {
   "cell_type": "markdown",
   "metadata": {},
   "source": [
    "## Ejercicio 8\n",
    "\n",
    "Escribe una función que reciba dos listas y devuelva una tercera con los elementos comunes a ambas."
   ]
  },
  {
   "cell_type": "code",
   "execution_count": null,
   "metadata": {},
   "outputs": [
    {
     "name": "stdout",
     "output_type": "stream",
     "text": [
      "['hola', 'jamon']\n"
     ]
    }
   ],
   "source": [
    "def añadir5PalabrasLista(lista):\n",
    "    for i in range(0,5):\n",
    "        respuesta = input(\"dime un palabra\")\n",
    "        lista.append(respuesta)\n",
    "    return lista\n",
    "\n",
    "def comprobarComunes(lista1, lista2, lista3):\n",
    "    for i in lista1:\n",
    "        estaEnLista1 = lista1.count(i)\n",
    "        estaEnLista2 = lista2.count(i)\n",
    "        if (estaEnLista1 > 0 and estaEnLista2 > 0):\n",
    "            lista3.append(i)\n",
    "    return lista3\n",
    "\n",
    "lista1 = []\n",
    "lista2 = []\n",
    "lista3 = []\n",
    "lista1 = añadir5PalabrasLista(lista1)\n",
    "lista2 = añadir5PalabrasLista(lista2)\n",
    "lista3 = comprobarComunes(lista1, lista2, lista3)\n",
    "print(lista3)"
   ]
  },
  {
   "cell_type": "markdown",
   "metadata": {},
   "source": [
    "## Ejercicio 9\n",
    "\n",
    "Utilizando una lista, escribe una función a la que se le pase el número del mes y devuelva su nombre.\n",
    "\n",
    "Crea un programa principal para probarla.\n"
   ]
  },
  {
   "cell_type": "code",
   "execution_count": 23,
   "metadata": {},
   "outputs": [
    {
     "name": "stdout",
     "output_type": "stream",
     "text": [
      "Número de mes no válido\n"
     ]
    }
   ],
   "source": [
    "def comprobarMes(numero):\n",
    "    meses = ['enero', 'febrero', 'marzo', 'abril', 'mayo', 'junio', 'julio', 'agosto', 'septiembre', 'octubre', 'noviembre', 'diciembre']\n",
    "    try:\n",
    "        return meses[numero-1]\n",
    "    except:\n",
    "        return 'Número de mes no válido'\n",
    "\n",
    "numero = int(input('dime un numero de mes'))\n",
    "print(comprobarMes(numero))"
   ]
  },
  {
   "cell_type": "markdown",
   "metadata": {},
   "source": [
    "\n",
    "## Ejercicio 10\n",
    "\n",
    "Busca el algoritmo para calcular la letra del DNI y crea una función que use listas para devolver la letra del mismo."
   ]
  },
  {
   "cell_type": "code",
   "execution_count": 31,
   "metadata": {},
   "outputs": [
    {
     "name": "stdout",
     "output_type": "stream",
     "text": [
      "h\n"
     ]
    }
   ],
   "source": [
    "def calculoLetraDNI(dni):\n",
    "    letra = ['t', 'r', 'w', 'a', 'g', 'm', 'y', 'f', 'p', 'd', 'x', 'b', 'n', 'j', 'z', 's', 'q', 'v', 'h', 'l', 'c', 'k', 'e']\n",
    "    return letra[(dni % 23)]\n",
    "\n",
    "dni = int(input('dime los numeros de tu dni'))\n",
    "print(calculoLetraDNI(dni))"
   ]
  },
  {
   "cell_type": "markdown",
   "metadata": {},
   "source": [
    "# Listas anidadas\n",
    "\n"
   ]
  },
  {
   "cell_type": "markdown",
   "metadata": {},
   "source": [
    "## Ejercicio 11\n",
    "\n",
    "Crea una lista bidimensional con las notas de lxs alumnxs de una clase en los diferentes módulos. Cada fila será un alumnx y cada columna, las notas de un módulo.\n",
    "\n",
    "Calcula la media de notas de un módulo.\n",
    "\n",
    "Crea una nueva lista con las medias de cada uno de los módulos."
   ]
  },
  {
   "cell_type": "markdown",
   "metadata": {},
   "source": [
    "## Ejercicio 12\n",
    "\n",
    "Crea una lista bidimensional que contenga los agrupamientos del alumnado de una clase para un determinado proyecto. La lista contendrá otras listas con los componentes de cada grupo.\n",
    "\n",
    "Muestra la lista por pantalla, con los componentes de cada grupo en una misma línea. Haz que no aparezcan los []. Por ejemplo:\n",
    "\n",
    "```python\n",
    "Luis, Juan\n",
    "María, Elba, Mario\n",
    "Carola\n",
    "Pablo, Manuel, Raquel, Uxía\n",
    "```"
   ]
  },
  {
   "cell_type": "markdown",
   "metadata": {},
   "source": [
    "## Ejercicio 13\n",
    "\n",
    "Utiliza una lista bidimensional para almacenar las temperaturas máximas de cada día de cada mes. Cada mes será una fila y las temperaturas estarán en columnas.\n",
    "\n",
    "Muestra las medias de cada mes."
   ]
  },
  {
   "cell_type": "markdown",
   "metadata": {},
   "source": [
    "# Comprensión de listas (AVANZADO)\n"
   ]
  },
  {
   "cell_type": "markdown",
   "metadata": {},
   "source": [
    "\n",
    "## Ejercicio 14\n",
    "\n",
    "Crea una lista con las 10 primeras potencias de 3."
   ]
  },
  {
   "cell_type": "markdown",
   "metadata": {},
   "source": [
    "## Ejercicio 15\n",
    "\n",
    "Crea una lista con los 100 primeros múltiplos de 7."
   ]
  },
  {
   "cell_type": "markdown",
   "metadata": {},
   "source": [
    "## Ejercicio 16\n",
    "\n",
    "Utilizando comprensión de listas, vuelve a resolver el ejercicio 3."
   ]
  },
  {
   "cell_type": "markdown",
   "metadata": {},
   "source": [
    "## Ejercicio 17\n",
    "\n",
    "Utilizando comprensión de listas, vuelve a resolver el ejercicio 4."
   ]
  },
  {
   "cell_type": "markdown",
   "metadata": {},
   "source": [
    "## Ejercicio 18\n",
    "\n",
    "Utilizando comprensión de listas, vuelve a resolver el ejercicio 6."
   ]
  },
  {
   "cell_type": "markdown",
   "metadata": {},
   "source": [
    "## Ejercicio 19\n",
    "\n",
    "Crea una lista con los números que sean múltiplos de 3 o de 5 hasta el 100."
   ]
  },
  {
   "cell_type": "markdown",
   "metadata": {},
   "source": [
    "## Ejercicio 20\n",
    "\n",
    "Crea una lista con los divisores de un número que se pasa por teclado."
   ]
  },
  {
   "cell_type": "markdown",
   "metadata": {},
   "source": [
    "## Ejercicio 21\n",
    "\n",
    "Crea una lista con los años que son bisiestos a partir de una lista de años.\n",
    "\n",
    "Por ejemplo, a partir de [1995, 2004, 2003, 1900, 2008] debe devolver [2004, 2008].\n",
    "\n",
    "Debes utilizar la función `es_bisiesto(anho)` creada en el tema anterior y comprensión de listas."
   ]
  },
  {
   "cell_type": "markdown",
   "metadata": {},
   "source": [
    "# Ejercicios sencillos listas bidimensionales\n",
    "\n",
    "## Ejercicio 22\n",
    "\n",
    "Crea una lista bidimensional de 6 filas y 7 columnas con valores aleatorios entre 0 y 9.\n",
    "\n",
    "Muéstrala por pantalla.\n",
    "\n",
    "Recórrela y almacena en una variable cuántos números pares hay en ella y almacena en otra cuántos impares.\n",
    "\n",
    "Muestra los resultados por pantalla.\n",
    "\n",
    "Vuelve a recorrerla para crear una lista unidimensional nueva con los números pares que aparecen en ella y otra con los impares."
   ]
  },
  {
   "cell_type": "markdown",
   "metadata": {},
   "source": [
    "## Ejercicio 23\n",
    "\n",
    "Crea una lista bidimensional 3x3 que sirva para jugar al tres en raya, almacenará 3 posibles cadenas, una cadena vacía para indicar que no se ha puesto una ficha en esa posición, una 'o' para indicar que ha jugado el jugador 1 y una 'x' para el jugador 2.\n",
    "\n",
    "Crea una función que la recorra y que busque si se ha producido 3 en raya para el jugador 1 en alguna de las filas.\n",
    "\n",
    "Crea una función que la recorra y que busque si se ha producido 3 en raya para el jugador 1 en alguna de las columnas.\n",
    "\n",
    "**AVANZADO**: Crea una función que la recorra y que busque si se ha producido 3 en raya para el jugador 1 en alguna de las diagonales.\n",
    "\n",
    "**AVANZADO**: Crea una función que la recorra y que busque si se ha producido 3 en raya para algún jugador.\n",
    "\n",
    "**AVANZADO**: Completa el ejercicio para que dos jugadores puedan jugar al 3 en raya.\n"
   ]
  }
 ],
 "metadata": {
  "kernelspec": {
   "display_name": "Python 3",
   "language": "python",
   "name": "python3"
  },
  "language_info": {
   "codemirror_mode": {
    "name": "ipython",
    "version": 3
   },
   "file_extension": ".py",
   "mimetype": "text/x-python",
   "name": "python",
   "nbconvert_exporter": "python",
   "pygments_lexer": "ipython3",
   "version": "3.12.6"
  }
 },
 "nbformat": 4,
 "nbformat_minor": 2
}
