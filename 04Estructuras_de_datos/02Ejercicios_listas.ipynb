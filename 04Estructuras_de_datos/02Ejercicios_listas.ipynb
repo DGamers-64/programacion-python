{
 "cells": [
  {
   "cell_type": "markdown",
   "metadata": {},
   "source": [
    "# Ejercicios\n",
    "\n",
    "## Ejercicio 1\n",
    "\n",
    "Crea una función que pida al usuario 5 números y los guarde en una lista y devuelva esa lista.\n",
    "\n",
    "A continuación, muéstrala en orden inverso a como se introdujeron.\n"
   ]
  },
  {
   "cell_type": "code",
   "execution_count": 1,
   "metadata": {},
   "outputs": [
    {
     "ename": "ValueError",
     "evalue": "could not convert string to float: ''",
     "output_type": "error",
     "traceback": [
      "\u001b[1;31m---------------------------------------------------------------------------\u001b[0m",
      "\u001b[1;31mValueError\u001b[0m                                Traceback (most recent call last)",
      "\u001b[1;32mz:\\Programacion\\apuntes\\04Estructuras_de_datos\\02Ejercicios_listas.ipynb Celda 2\u001b[0m line \u001b[0;36m1\n\u001b[0;32m      <a href='vscode-notebook-cell:/z%3A/Programacion/apuntes/04Estructuras_de_datos/02Ejercicios_listas.ipynb#W1sZmlsZQ%3D%3D?line=7'>8</a>\u001b[0m     \u001b[39mreturn\u001b[39;00m mi_lista\n\u001b[0;32m     <a href='vscode-notebook-cell:/z%3A/Programacion/apuntes/04Estructuras_de_datos/02Ejercicios_listas.ipynb#W1sZmlsZQ%3D%3D?line=9'>10</a>\u001b[0m \u001b[39m# mi_lista = lista()\u001b[39;00m\n\u001b[0;32m     <a href='vscode-notebook-cell:/z%3A/Programacion/apuntes/04Estructuras_de_datos/02Ejercicios_listas.ipynb#W1sZmlsZQ%3D%3D?line=10'>11</a>\u001b[0m \u001b[39m# print(mi_lista)\u001b[39;00m\n\u001b[0;32m     <a href='vscode-notebook-cell:/z%3A/Programacion/apuntes/04Estructuras_de_datos/02Ejercicios_listas.ipynb#W1sZmlsZQ%3D%3D?line=11'>12</a>\u001b[0m \n\u001b[1;32m   (...)\u001b[0m\n\u001b[0;32m     <a href='vscode-notebook-cell:/z%3A/Programacion/apuntes/04Estructuras_de_datos/02Ejercicios_listas.ipynb#W1sZmlsZQ%3D%3D?line=14'>15</a>\u001b[0m \n\u001b[0;32m     <a href='vscode-notebook-cell:/z%3A/Programacion/apuntes/04Estructuras_de_datos/02Ejercicios_listas.ipynb#W1sZmlsZQ%3D%3D?line=15'>16</a>\u001b[0m \u001b[39m#print(list(reversed(lista(6))))\u001b[39;00m\n\u001b[1;32m---> <a href='vscode-notebook-cell:/z%3A/Programacion/apuntes/04Estructuras_de_datos/02Ejercicios_listas.ipynb#W1sZmlsZQ%3D%3D?line=17'>18</a>\u001b[0m mi_lista \u001b[39m=\u001b[39m lista(\u001b[39m5\u001b[39;49m)\n\u001b[0;32m     <a href='vscode-notebook-cell:/z%3A/Programacion/apuntes/04Estructuras_de_datos/02Ejercicios_listas.ipynb#W1sZmlsZQ%3D%3D?line=18'>19</a>\u001b[0m \u001b[39mprint\u001b[39m(mi_lista)\n\u001b[0;32m     <a href='vscode-notebook-cell:/z%3A/Programacion/apuntes/04Estructuras_de_datos/02Ejercicios_listas.ipynb#W1sZmlsZQ%3D%3D?line=19'>20</a>\u001b[0m \u001b[39mprint\u001b[39m(mi_lista[::\u001b[39m-\u001b[39m\u001b[39m1\u001b[39m])\n",
      "\u001b[1;32mz:\\Programacion\\apuntes\\04Estructuras_de_datos\\02Ejercicios_listas.ipynb Celda 2\u001b[0m line \u001b[0;36m6\n\u001b[0;32m      <a href='vscode-notebook-cell:/z%3A/Programacion/apuntes/04Estructuras_de_datos/02Ejercicios_listas.ipynb#W1sZmlsZQ%3D%3D?line=2'>3</a>\u001b[0m mi_lista \u001b[39m=\u001b[39m []\n\u001b[0;32m      <a href='vscode-notebook-cell:/z%3A/Programacion/apuntes/04Estructuras_de_datos/02Ejercicios_listas.ipynb#W1sZmlsZQ%3D%3D?line=4'>5</a>\u001b[0m \u001b[39mfor\u001b[39;00m i \u001b[39min\u001b[39;00m \u001b[39mrange\u001b[39m(tamanho):    \n\u001b[1;32m----> <a href='vscode-notebook-cell:/z%3A/Programacion/apuntes/04Estructuras_de_datos/02Ejercicios_listas.ipynb#W1sZmlsZQ%3D%3D?line=5'>6</a>\u001b[0m     num \u001b[39m=\u001b[39m \u001b[39mfloat\u001b[39;49m(\u001b[39minput\u001b[39;49m(\u001b[39mf\u001b[39;49m\u001b[39m\"\u001b[39;49m\u001b[39mIntroduce el \u001b[39;49m\u001b[39m{\u001b[39;49;00mi\u001b[39m \u001b[39;49m\u001b[39m+\u001b[39;49m\u001b[39m \u001b[39;49m\u001b[39m1\u001b[39;49m\u001b[39m}\u001b[39;49;00m\u001b[39m º: \u001b[39;49m\u001b[39m\"\u001b[39;49m))\n\u001b[0;32m      <a href='vscode-notebook-cell:/z%3A/Programacion/apuntes/04Estructuras_de_datos/02Ejercicios_listas.ipynb#W1sZmlsZQ%3D%3D?line=6'>7</a>\u001b[0m     mi_lista\u001b[39m.\u001b[39mappend (num)\n\u001b[0;32m      <a href='vscode-notebook-cell:/z%3A/Programacion/apuntes/04Estructuras_de_datos/02Ejercicios_listas.ipynb#W1sZmlsZQ%3D%3D?line=7'>8</a>\u001b[0m \u001b[39mreturn\u001b[39;00m mi_lista\n",
      "\u001b[1;31mValueError\u001b[0m: could not convert string to float: ''"
     ]
    }
   ],
   "source": [
    "def lista(tamanho: int) -> list:\n",
    "    \n",
    "    mi_lista = []\n",
    "\n",
    "    for i in range(tamanho):    \n",
    "        num = float(input(f\"Introduce el {i + 1} º: \"))\n",
    "        mi_lista.append (num)\n",
    "    return mi_lista\n",
    "\n",
    "# mi_lista = lista()\n",
    "# print(mi_lista)\n",
    "\n",
    "# mi_lista.reverse()\n",
    "# print(mi_lista)\n",
    "\n",
    "#print(list(reversed(lista(6))))\n",
    "\n",
    "mi_lista = lista(5)\n",
    "print(mi_lista)\n",
    "print(mi_lista[::-1])"
   ]
  },
  {
   "cell_type": "markdown",
   "metadata": {},
   "source": [
    "\n",
    "## Ejercicio 2\n",
    "\n",
    "Usando la función del ejercicio anterior, úsala y después busca el mayor de los números introducidos.\n"
   ]
  },
  {
   "cell_type": "code",
   "execution_count": null,
   "metadata": {},
   "outputs": [
    {
     "name": "stdout",
     "output_type": "stream",
     "text": [
      "3.0\n",
      "None\n"
     ]
    }
   ],
   "source": [
    "from typing import Union\n",
    "\n",
    "def lista(tamanho: int) -> list:\n",
    "    \n",
    "    mi_lista = []\n",
    "\n",
    "    for i in range(tamanho):    \n",
    "        num = float(input(f\"Introduce el {i + 1} º: \"))\n",
    "        mi_lista.append (num)\n",
    "    return mi_lista\n",
    "\n",
    "def buscar_mayor(lista: list) -> Union[int, None]:\n",
    "    #return max(lista)\n",
    "    if lista == []:\n",
    "        return None\n",
    "    else:\n",
    "        mayor = lista[0]\n",
    "        for i in range(1, len(lista)):\n",
    "            if lista[i] > mayor:\n",
    "                mayor = lista[i]\n",
    "        return mayor\n",
    "\n",
    "print(buscar_mayor(lista(1)))\n",
    "print(buscar_mayor([]))\n"
   ]
  },
  {
   "cell_type": "markdown",
   "metadata": {},
   "source": [
    "\n",
    "## Ejercicio 3\n",
    "\n",
    "A partir de una lista, escribe un programa que cree una lista nueva con los elementos de la primera lista que sean impares.\n"
   ]
  },
  {
   "cell_type": "code",
   "execution_count": null,
   "metadata": {},
   "outputs": [
    {
     "name": "stdout",
     "output_type": "stream",
     "text": [
      "[5, 3, 1, 9, 9]\n"
     ]
    }
   ],
   "source": [
    "def eliminar_pares(lista: list) -> list:\n",
    "    nueva =[]\n",
    "    for num in lista:\n",
    "        if num % 2 != 0:\n",
    "            nueva.append(num)\n",
    "    return nueva\n",
    "\n",
    "lista = [5, 4, 3, 1, 6, 9, 9]\n",
    "print (eliminar_pares(lista))\n",
    "\n"
   ]
  },
  {
   "cell_type": "markdown",
   "metadata": {},
   "source": [
    "## Ejercicio 4\n",
    "\n",
    "Escribe una función que reciba una lista de enteros y devuelva otra lista con los dobles de sus elementos.\n"
   ]
  },
  {
   "cell_type": "code",
   "execution_count": null,
   "metadata": {},
   "outputs": [
    {
     "name": "stdout",
     "output_type": "stream",
     "text": [
      "[10, 16, 18, 12, 6]\n"
     ]
    }
   ],
   "source": [
    "def dobles(lista: list[int]) -> list[int]:\n",
    "    lista_dobles = []\n",
    "    for valor in lista:\n",
    "        lista_dobles.append(valor * 2)\n",
    "    return lista_dobles\n",
    "\n",
    "lista = [5, 8, 9, 6, 3]\n",
    "print(dobles(lista))\n"
   ]
  },
  {
   "cell_type": "markdown",
   "metadata": {},
   "source": [
    "## Ejercicio 5\n",
    "\n",
    "Usa la función del ejercicio 1 para crear una lista. A continuación, reemplaza todos los números negativos de esa lista por 0."
   ]
  },
  {
   "cell_type": "code",
   "execution_count": null,
   "metadata": {},
   "outputs": [
    {
     "name": "stdout",
     "output_type": "stream",
     "text": [
      "[4.0, 0, 6.0, 0, 8.0]\n"
     ]
    }
   ],
   "source": [
    "def lista(tamanho: int) -> list:\n",
    "    \n",
    "    mi_lista = []\n",
    "\n",
    "    for i in range(tamanho):    \n",
    "        num = float(input(f\"Introduce el {i + 1} º: \"))\n",
    "        mi_lista.append (num)\n",
    "    return mi_lista\n",
    "\n",
    "def reemplaza_negativos(lista: list) -> list:\n",
    "    for i in range(len(lista)):\n",
    "        if lista[i] < 0:\n",
    "            lista[i] = 0\n",
    "    return lista\n",
    "\n",
    "mi_lista = lista(5)\n",
    "print(mi_lista)\n",
    "print(reemplaza_negativos(mi_lista))\n"
   ]
  },
  {
   "cell_type": "markdown",
   "metadata": {},
   "source": [
    "## Ejercicio 6\n",
    "\n",
    "Dada una lista de palabras, crea una nueva lista que contenga solo las palabras que tienen más de 5 letras."
   ]
  },
  {
   "cell_type": "markdown",
   "metadata": {},
   "source": [
    "\n",
    "## Ejercicio 7\n",
    "\n",
    "A partir de una lista, escribe un programa que cree una lista nueva eliminando aquellos que están repetidos."
   ]
  },
  {
   "cell_type": "markdown",
   "metadata": {},
   "source": [
    "## Ejercicio 8\n",
    "\n",
    "Escribe una función que reciba dos listas y devuelva una tercera con los elementos comunes a ambas."
   ]
  },
  {
   "cell_type": "markdown",
   "metadata": {},
   "source": [
    "## Ejercicio 9\n",
    "\n",
    "Utilizando una lista, escribe una función a la que se le pase el número del mes y devuelva su nombre.\n",
    "\n",
    "Crea un programa principal para probarla.\n"
   ]
  },
  {
   "cell_type": "code",
   "execution_count": null,
   "metadata": {},
   "outputs": [
    {
     "name": "stdout",
     "output_type": "stream",
     "text": [
      "Septiembre\n"
     ]
    }
   ],
   "source": [
    "def mes(mes_num: int) -> str:\n",
    "    meses = [\"Enero\", \"Febrero\", \"Marzo\", \"Abril\", \"Mayo\", \"Junio\", \"Julio\", \"Agosto\", \"Septiembre\", \"Octubre\", \"Noviembre\", \"Diciembre\"]\n",
    "    return meses[mes_num - 1]\n",
    "\n",
    "print(mes(9))\n"
   ]
  },
  {
   "cell_type": "markdown",
   "metadata": {},
   "source": [
    "\n",
    "## Ejercicio 10\n",
    "\n",
    "Busca el algoritmo para calcular la letra del DNI y crea una función que use listas para devolver la letra del mismo."
   ]
  },
  {
   "cell_type": "code",
   "execution_count": null,
   "metadata": {},
   "outputs": [],
   "source": [
    "letras_dni = [\"T\", \"R\", \"W\", \"A\", \"G\", \"M\", \"Y\", \"F\", \"P\", \"D\", \"X\", \"B\", \"N\", \"J\", \"Z\", \"S\", \"Q\", \"V\", \"H\", \"L\", \"C\", \"K\", \"E\"]\n",
    "\n"
   ]
  },
  {
   "cell_type": "markdown",
   "metadata": {},
   "source": [
    "# Listas anidadas\n",
    "\n"
   ]
  },
  {
   "cell_type": "markdown",
   "metadata": {},
   "source": [
    "## Ejercicio 11\n",
    "\n",
    "Crea una lista bidimensional con las notas de lxs alumnxs de una clase en los diferentes módulos. Cada fila será un alumnx y cada columna, las notas de un módulo.\n",
    "\n",
    "Calcula la media de notas de un módulo.\n",
    "\n",
    "Crea una nueva lista con las medias de cada uno de los módulos."
   ]
  },
  {
   "cell_type": "markdown",
   "metadata": {},
   "source": [
    "## Ejercicio 12\n",
    "\n",
    "Crea una lista bidimensional que contenga los agrupamientos del alumnado de una clase para un determinado proyecto. La lista contendrá otras listas con los componentes de cada grupo.\n",
    "\n",
    "Muestra la lista por pantalla, con los componentes de cada grupo en una misma línea. Haz que no aparezcan los []. Por ejemplo:\n",
    "\n",
    "```python\n",
    "Luis, Juan\n",
    "María, Elba, Mario\n",
    "Carola\n",
    "Pablo, Manuel, Raquel, Uxía\n",
    "```"
   ]
  },
  {
   "cell_type": "code",
   "execution_count": 4,
   "metadata": {},
   "outputs": [
    {
     "name": "stdout",
     "output_type": "stream",
     "text": [
      "Ana, Luis, Marta, \n",
      "Juan, \n",
      "Elena, Jorge, \n"
     ]
    }
   ],
   "source": [
    "grupos = [\n",
    "    [\"Ana\", \"Luis\", \"Marta\"],\n",
    "    [\"Juan\"],\n",
    "    [\"Elena\", \"Jorge\"]\n",
    "]\n",
    "\n",
    "for grupo in grupos:\n",
    "    for integrante in grupo:\n",
    "        print(integrante, end=\", \")\n",
    "    print()"
   ]
  },
  {
   "cell_type": "code",
   "execution_count": 7,
   "metadata": {},
   "outputs": [
    {
     "name": "stdout",
     "output_type": "stream",
     "text": [
      "Ana, Luis, Marta\n",
      "Juan\n",
      "Elena, Jorge\n"
     ]
    }
   ],
   "source": [
    "grupos = [\n",
    "    [\"Ana\", \"Luis\", \"Marta\"],\n",
    "    [\"Juan\"],\n",
    "    [\"Elena\", \"Jorge\"]\n",
    "]\n",
    "\n",
    "for f in range(len(grupos)):\n",
    "    for c in range(len(grupos[f])):\n",
    "        if c < len(grupos[f]) -1: # Compruebo si es el último de la fila\n",
    "            print(grupos[f][c], end=\", \")\n",
    "        else:\n",
    "            print(grupos[f][c])"
   ]
  },
  {
   "cell_type": "code",
   "execution_count": 8,
   "metadata": {},
   "outputs": [
    {
     "name": "stdout",
     "output_type": "stream",
     "text": [
      "Ana, Luis, Marta\n",
      "Juan\n",
      "Elena, Jorge\n"
     ]
    }
   ],
   "source": [
    "grupos = [\n",
    "    [\"Ana\", \"Luis\", \"Marta\"],\n",
    "    [\"Juan\"],\n",
    "    [\"Elena\", \"Jorge\"]\n",
    "]\n",
    "\n",
    "for f in range(len(grupos)):\n",
    "    for c in range(len(grupos[f])):\n",
    "        print(grupos[f][c], end=\"\")\n",
    "        if c < len(grupos[f]) -1: # Compruebo si es el último de la fila\n",
    "            print(\", \", end=\"\")\n",
    "        else:\n",
    "            print()"
   ]
  },
  {
   "cell_type": "markdown",
   "metadata": {},
   "source": [
    "## Ejercicio 13\n",
    "\n",
    "Utiliza una lista bidimensional para almacenar las temperaturas máximas de cada día de cada mes. Cada mes será una fila y las temperaturas estarán en columnas.\n",
    "\n",
    "Muestra las medias de cada mes."
   ]
  },
  {
   "cell_type": "code",
   "execution_count": null,
   "metadata": {},
   "outputs": [],
   "source": [
    "# Lista de listas para almacenar las temperaturas máximas\n",
    "temperaturas_maximas = [\n",
    "    # Enero\n",
    "    [25, 24, 26, 23, 22, 25, 26, 27, 28, 26, 24, 23, 25, 26, 27, 28, 28, 27, 26, 25, 24, 23, 22, 21, 20, 19, 18, 17, 16, 15],\n",
    "\n",
    "    # Febrero\n",
    "    [26, 25, 24, 23, 22, 21, 20, 19, 18, 17, 16, 15, 15, 16, 17, 18, 19, 20, 21, 22, 23, 24, 25, 26, 27, 28],\n",
    "\n",
    "    # Marzo\n",
    "    [27, 26, 25, 24, 23, 22, 21, 20, 19, 18, 17, 16, 15, 16, 17, 18, 19, 20, 21, 22, 23, 24, 25, 26, 27, 28, 29, 28, 27, 26],\n",
    "\n",
    "    # Abril\n",
    "    [28, 27, 26, 25, 24, 23, 22, 21, 20, 19, 18, 17, 16, 17, 18, 19, 20, 21, 22, 23, 24, 25, 26, 27, 28, 29, 30],\n",
    "\n",
    "    # Mayo\n",
    "    [30, 29, 28, 27, 26, 25, 24, 23, 22, 21, 20, 19, 18, 19, 20, 21, 22, 23, 24, 25, 26, 27, 28, 29, 30, 31],\n",
    "\n",
    "    # Junio\n",
    "    [32, 31, 30, 29, 28, 27, 26, 25, 24, 23, 22, 21, 20, 21, 22, 23, 24, 25, 26, 27, 28, 29, 30],\n",
    "\n",
    "    # Julio\n",
    "    [34, 33, 32, 31, 30, 29, 28, 27, 26, 25, 24, 23, 22, 23, 24, 25, 26, 27, 28, 29, 30, 31, 32, 33],\n",
    "\n",
    "    # Agosto\n",
    "    [36, 35, 34, 33, 32, 31, 30, 29, 28, 27, 26, 25, 24, 25, 26, 27, 28, 29, 30, 31, 32, 33, 34, 35],\n",
    "\n",
    "    # Septiembre\n",
    "    [32, 31, 30, 29, 28, 27, 26, 25, 24, 23, 22, 21, 20, 21, 22, 23, 24, 25, 26, 27, 28, 29, 30],\n",
    "\n",
    "    # Octubre\n",
    "    [28, 27, 26, 25, 24, 23, 22, 21, 20, 19, 18, 17, 16, 17, 18, 19, 20, 21, 22, 23, 24, 25, 26, 27],\n",
    "\n",
    "    # Noviembre\n",
    "    [26, 25, 24, 23, 22, 21, 20, 19, 18, 17, 16, 15, 15, 16, 17, 18, 19, 20, 21, 22, 23, 24, 25],\n",
    "\n",
    "    # Diciembre\n",
    "    [24, 23, 22, 21, 20, 19, 18, 17, 16, 15, 14, 13, 14, 15, 16, 17, 18, 19, 20, 21, 22, 23, 24, 25]\n",
    "]\n",
    "\n",
    "for f in range(len(temperaturas_maximas)):\n",
    "    media = 0\n",
    "    for c in range(len(temperaturas_maximas[f])):\n",
    "        media += temperaturas_maximas[f][c]\n",
    "    media /= \n"
   ]
  },
  {
   "cell_type": "markdown",
   "metadata": {},
   "source": [
    "# Comprensión de listas (AVANZADO)\n"
   ]
  },
  {
   "cell_type": "markdown",
   "metadata": {},
   "source": [
    "\n",
    "## Ejercicio 14\n",
    "\n",
    "Crea una lista con las 10 primeras potencias de 3."
   ]
  },
  {
   "cell_type": "markdown",
   "metadata": {},
   "source": [
    "## Ejercicio 15\n",
    "\n",
    "Crea una lista con los 100 primeros múltiplos de 7."
   ]
  },
  {
   "cell_type": "markdown",
   "metadata": {},
   "source": [
    "## Ejercicio 16\n",
    "\n",
    "Utilizando comprensión de listas, vuelve a resolver el ejercicio 3."
   ]
  },
  {
   "cell_type": "markdown",
   "metadata": {},
   "source": [
    "## Ejercicio 17\n",
    "\n",
    "Utilizando comprensión de listas, vuelve a resolver el ejercicio 4."
   ]
  },
  {
   "cell_type": "markdown",
   "metadata": {},
   "source": [
    "## Ejercicio 18\n",
    "\n",
    "Utilizando comprensión de listas, vuelve a resolver el ejercicio 6."
   ]
  },
  {
   "cell_type": "markdown",
   "metadata": {},
   "source": [
    "## Ejercicio 19\n",
    "\n",
    "Crea una lista con los números que sean múltiplos de 3 o de 5 hasta el 100."
   ]
  },
  {
   "cell_type": "markdown",
   "metadata": {},
   "source": [
    "## Ejercicio 20\n",
    "\n",
    "Crea una lista con los divisores de un número que se pasa por teclado."
   ]
  },
  {
   "cell_type": "markdown",
   "metadata": {},
   "source": [
    "## Ejercicio 21\n",
    "\n",
    "Crea una lista con los años que son bisiestos a partir de una lista de años.\n",
    "\n",
    "Por ejemplo, a partir de [1995, 2004, 2003, 1900, 2008] debe devolver [2004, 2008].\n",
    "\n",
    "Debes utilizar la función `es_bisiesto(anho)` creada en el tema anterior y comprensión de listas."
   ]
  },
  {
   "cell_type": "markdown",
   "metadata": {},
   "source": [
    "# Ejercicios sencillos listas bidimensionales\n",
    "\n",
    "## Ejercicio 22\n",
    "\n",
    "Crea una lista bidimensional de 6 filas y 7 columnas con valores aleatorios entre 0 y 9.\n",
    "\n",
    "Muéstrala por pantalla.\n",
    "\n",
    "Recórrela y almacena en una variable cuántos números pares hay en ella y almacena en otra cuántos impares.\n",
    "\n",
    "Muestra los resultados por pantalla.\n",
    "\n",
    "Vuelve a recorrerla para crear una lista unidimensional nueva con los números pares que aparecen en ella y otra con los impares."
   ]
  },
  {
   "cell_type": "markdown",
   "metadata": {},
   "source": [
    "## Ejercicio 23\n",
    "\n",
    "Crea una lista bidimensional 3x3 que sirva para jugar al tres en raya, almacenará 3 posibles cadenas, una cadena vacía para indicar que no se ha puesto una ficha en esa posición, una 'o' para indicar que ha jugado el jugador 1 y una 'x' para el jugador 2.\n",
    "\n",
    "Crea una función que la recorra y que busque si se ha producido 3 en raya para el jugador 1 en alguna de las filas.\n",
    "\n",
    "Crea una función que la recorra y que busque si se ha producido 3 en raya para el jugador 1 en alguna de las columnas.\n",
    "\n",
    "**AVANZADO**: Crea una función que la recorra y que busque si se ha producido 3 en raya para el jugador 1 en alguna de las diagonales.\n",
    "\n",
    "**AVANZADO**: Crea una función que la recorra y que busque si se ha producido 3 en raya para algún jugador.\n",
    "\n",
    "**AVANZADO**: Completa el ejercicio para que dos jugadores puedan jugar al 3 en raya.\n"
   ]
  },
  {
   "cell_type": "code",
   "execution_count": 3,
   "metadata": {},
   "outputs": [
    {
     "name": "stdout",
     "output_type": "stream",
     "text": [
      "[2, 3, 4, 0, 1, 2]\n"
     ]
    }
   ],
   "source": [
    "lista = [2, 3, 4]\n",
    "\n",
    "for i in range(3):\n",
    "    lista += [i]\n",
    "\n",
    "print(lista)"
   ]
  }
 ],
 "metadata": {
  "kernelspec": {
   "display_name": "Python 3",
   "language": "python",
   "name": "python3"
  },
  "language_info": {
   "codemirror_mode": {
    "name": "ipython",
    "version": 3
   },
   "file_extension": ".py",
   "mimetype": "text/x-python",
   "name": "python",
   "nbconvert_exporter": "python",
   "pygments_lexer": "ipython3",
   "version": "3.11.5"
  }
 },
 "nbformat": 4,
 "nbformat_minor": 2
}
