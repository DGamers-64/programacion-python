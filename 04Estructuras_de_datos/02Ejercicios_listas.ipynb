{
 "cells": [
  {
   "cell_type": "markdown",
   "metadata": {},
   "source": [
    "# Ejercicios\n",
    "\n",
    "## Ejercicio 1\n",
    "\n",
    "Crea una función que pida al usuario 5 números y los guarde en una lista y devuelva esa lista.\n",
    "\n",
    "A continuación, muéstrala en orden inverso a como se introdujeron.\n"
   ]
  },
  {
   "cell_type": "code",
   "execution_count": 12,
   "metadata": {},
   "outputs": [
    {
     "name": "stdout",
     "output_type": "stream",
     "text": [
      "[5, 4, 3, 2, 1]\n"
     ]
    }
   ],
   "source": [
    "lista = []\n",
    "def añadir5NumerosLista(lista):\n",
    "    for i in range(0,5):\n",
    "        respuesta = int(input(\"dime un numero\"))\n",
    "        lista.append(respuesta)\n",
    "    return lista\n",
    "\n",
    "lista = añadir5NumerosLista(lista)\n",
    "\n",
    "print(lista[::-1])"
   ]
  },
  {
   "cell_type": "markdown",
   "metadata": {},
   "source": [
    "\n",
    "## Ejercicio 2\n",
    "\n",
    "Usando la función del ejercicio anterior, úsala y después busca el mayor de los números introducidos.\n"
   ]
  },
  {
   "cell_type": "code",
   "execution_count": null,
   "metadata": {},
   "outputs": [
    {
     "name": "stdout",
     "output_type": "stream",
     "text": [
      "8\n"
     ]
    }
   ],
   "source": [
    "lista = []\n",
    "\n",
    "def añadir5NumerosLista(lista):\n",
    "    for i in range(0,5):\n",
    "        respuesta = int(input(\"dime un numero\"))\n",
    "        lista.append(respuesta)\n",
    "    return lista\n",
    "\n",
    "lista = añadir5NumerosLista(lista)\n",
    "print(max(lista))"
   ]
  },
  {
   "cell_type": "markdown",
   "metadata": {},
   "source": [
    "\n",
    "## Ejercicio 3\n",
    "\n",
    "A partir de una lista, escribe un programa que cree una lista nueva con los elementos de la primera lista que sean impares.\n"
   ]
  },
  {
   "cell_type": "code",
   "execution_count": 18,
   "metadata": {},
   "outputs": [
    {
     "name": "stdout",
     "output_type": "stream",
     "text": [
      "[1, 3, 5]\n"
     ]
    }
   ],
   "source": [
    "lista = []\n",
    "lista_impares = []\n",
    "\n",
    "def añadir5NumerosLista(lista):\n",
    "    for i in range(0,5):\n",
    "        respuesta = int(input(\"dime un numero\"))\n",
    "        lista.append(respuesta)\n",
    "    return lista\n",
    "\n",
    "lista = añadir5NumerosLista(lista)\n",
    "for i in lista:\n",
    "    if i % 2 != 0:\n",
    "        lista_impares.append(i)\n",
    "\n",
    "print(lista_impares)"
   ]
  },
  {
   "cell_type": "markdown",
   "metadata": {},
   "source": [
    "## Ejercicio 4\n",
    "\n",
    "Escribe una función que reciba una lista de enteros y devuelva otra lista con los dobles de sus elementos.\n"
   ]
  },
  {
   "cell_type": "code",
   "execution_count": 25,
   "metadata": {},
   "outputs": [
    {
     "name": "stdout",
     "output_type": "stream",
     "text": [
      "[4, 12, 16, 708, 156]\n"
     ]
    }
   ],
   "source": [
    "def duplicador(lista, nuevaLista):\n",
    "    for i in lista:\n",
    "        nuevaLista.append(i * 2)\n",
    "    return nuevaLista\n",
    "\n",
    "def añadir5NumerosLista(lista):\n",
    "    for i in range(0,5):\n",
    "        respuesta = int(input(\"dime un numero\"))\n",
    "        lista.append(respuesta)\n",
    "    return lista\n",
    "\n",
    "lista = []\n",
    "nuevaLista = []\n",
    "lista = añadir5NumerosLista(lista)\n",
    "lista = duplicador(lista, nuevaLista)\n",
    "print(lista)"
   ]
  },
  {
   "cell_type": "markdown",
   "metadata": {},
   "source": [
    "## Ejercicio 5\n",
    "\n",
    "Usa la función del ejercicio 1 para crear una lista. A continuación, reemplaza todos los números negativos de esa lista por 0."
   ]
  },
  {
   "cell_type": "code",
   "execution_count": 3,
   "metadata": {},
   "outputs": [
    {
     "name": "stdout",
     "output_type": "stream",
     "text": [
      "[0, 4, 6, 0, 7]\n"
     ]
    }
   ],
   "source": [
    "def añadir5NumerosLista(lista):\n",
    "    for i in range(0,5):\n",
    "        respuesta = int(input(\"dime un numero\"))\n",
    "        lista.append(respuesta)\n",
    "    return lista\n",
    "\n",
    "def reemplazarNegativo(nuevaLista, lista):\n",
    "    for i in lista:\n",
    "        if (i < 0):\n",
    "            nuevaLista.append(0)\n",
    "        else:\n",
    "            nuevaLista.append(i)\n",
    "    return nuevaLista\n",
    "\n",
    "lista = []\n",
    "nuevaLista = []\n",
    "lista = añadir5NumerosLista(lista)\n",
    "nuevaLista = reemplazarNegativo(nuevaLista, lista)\n",
    "print(nuevaLista)"
   ]
  },
  {
   "cell_type": "markdown",
   "metadata": {},
   "source": [
    "## Ejercicio 6\n",
    "\n",
    "Dada una lista de palabras, crea una nueva lista que contenga solo las palabras que tienen más de 5 letras."
   ]
  },
  {
   "cell_type": "code",
   "execution_count": 5,
   "metadata": {},
   "outputs": [
    {
     "name": "stdout",
     "output_type": "stream",
     "text": [
      "['quetal?', 'colegio']\n"
     ]
    }
   ],
   "source": [
    "def añadir5PalabrasLista(lista):\n",
    "    for i in range(0,5):\n",
    "        respuesta = input(\"dime un palabra\")\n",
    "        lista.append(respuesta)\n",
    "    return lista\n",
    "\n",
    "def palabrasMayores5Letras(nuevaLista, lista):\n",
    "    for i in lista:\n",
    "        if len(i) > 5:\n",
    "            nuevaLista.append(i)\n",
    "    return nuevaLista\n",
    "\n",
    "lista = []\n",
    "nuevaLista = []\n",
    "lista = añadir5PalabrasLista(lista)\n",
    "nuevaLista = palabrasMayores5Letras(nuevaLista, lista)\n",
    "print(nuevaLista)"
   ]
  },
  {
   "cell_type": "markdown",
   "metadata": {},
   "source": [
    "\n",
    "## Ejercicio 7\n",
    "\n",
    "A partir de una lista, escribe un programa que cree una lista nueva eliminando aquellos que están repetidos."
   ]
  },
  {
   "cell_type": "code",
   "execution_count": 10,
   "metadata": {},
   "outputs": [
    {
     "name": "stdout",
     "output_type": "stream",
     "text": [
      "['hola', 'adios', 'asd']\n"
     ]
    }
   ],
   "source": [
    "def añadir5PalabrasLista(lista):\n",
    "    for i in range(0,5):\n",
    "        respuesta = input(\"dime un palabra\")\n",
    "        lista.append(respuesta)\n",
    "    return lista\n",
    "\n",
    "def adiosRepetidos(nuevaLista, lista):\n",
    "    for i in lista:\n",
    "        estaEnLista = nuevaLista.count(i)\n",
    "        if estaEnLista == 0:\n",
    "            nuevaLista.append(i)\n",
    "    return nuevaLista\n",
    "\n",
    "lista = []\n",
    "nuevaLista = []\n",
    "lista = añadir5PalabrasLista(lista)\n",
    "nuevaLista = adiosRepetidos(nuevaLista, lista)\n",
    "print(nuevaLista)"
   ]
  },
  {
   "cell_type": "markdown",
   "metadata": {},
   "source": [
    "## Ejercicio 8\n",
    "\n",
    "Escribe una función que reciba dos listas y devuelva una tercera con los elementos comunes a ambas."
   ]
  },
  {
   "cell_type": "code",
   "execution_count": null,
   "metadata": {},
   "outputs": [
    {
     "name": "stdout",
     "output_type": "stream",
     "text": [
      "['hola', 'jamon']\n"
     ]
    }
   ],
   "source": [
    "def añadir5PalabrasLista(lista):\n",
    "    for i in range(0,5):\n",
    "        respuesta = input(\"dime un palabra\")\n",
    "        lista.append(respuesta)\n",
    "    return lista\n",
    "\n",
    "def comprobarComunes(lista1, lista2, lista3):\n",
    "    for i in lista1:\n",
    "        estaEnLista1 = lista1.count(i)\n",
    "        estaEnLista2 = lista2.count(i)\n",
    "        if (estaEnLista1 > 0 and estaEnLista2 > 0):\n",
    "            lista3.append(i)\n",
    "    return lista3\n",
    "\n",
    "lista1 = []\n",
    "lista2 = []\n",
    "lista3 = []\n",
    "lista1 = añadir5PalabrasLista(lista1)\n",
    "lista2 = añadir5PalabrasLista(lista2)\n",
    "lista3 = comprobarComunes(lista1, lista2, lista3)\n",
    "print(lista3)"
   ]
  },
  {
   "cell_type": "markdown",
   "metadata": {},
   "source": [
    "## Ejercicio 9\n",
    "\n",
    "Utilizando una lista, escribe una función a la que se le pase el número del mes y devuelva su nombre.\n",
    "\n",
    "Crea un programa principal para probarla.\n"
   ]
  },
  {
   "cell_type": "code",
   "execution_count": 23,
   "metadata": {},
   "outputs": [
    {
     "name": "stdout",
     "output_type": "stream",
     "text": [
      "Número de mes no válido\n"
     ]
    }
   ],
   "source": [
    "def comprobarMes(numero):\n",
    "    meses = ['enero', 'febrero', 'marzo', 'abril', 'mayo', 'junio', 'julio', 'agosto', 'septiembre', 'octubre', 'noviembre', 'diciembre']\n",
    "    try:\n",
    "        return meses[numero-1]\n",
    "    except:\n",
    "        return 'Número de mes no válido'\n",
    "\n",
    "numero = int(input('dime un numero de mes'))\n",
    "print(comprobarMes(numero))"
   ]
  },
  {
   "cell_type": "markdown",
   "metadata": {},
   "source": [
    "\n",
    "## Ejercicio 10\n",
    "\n",
    "Busca el algoritmo para calcular la letra del DNI y crea una función que use listas para devolver la letra del mismo."
   ]
  },
  {
   "cell_type": "code",
   "execution_count": 31,
   "metadata": {},
   "outputs": [
    {
     "name": "stdout",
     "output_type": "stream",
     "text": [
      "h\n"
     ]
    }
   ],
   "source": [
    "def calculoLetraDNI(dni):\n",
    "    letra = ['t', 'r', 'w', 'a', 'g', 'm', 'y', 'f', 'p', 'd', 'x', 'b', 'n', 'j', 'z', 's', 'q', 'v', 'h', 'l', 'c', 'k', 'e']\n",
    "    return letra[(dni % 23)]\n",
    "\n",
    "dni = int(input('dime los numeros de tu dni'))\n",
    "print(calculoLetraDNI(dni))"
   ]
  },
  {
   "cell_type": "markdown",
   "metadata": {},
   "source": [
    "# Listas anidadas\n",
    "\n"
   ]
  },
  {
   "cell_type": "markdown",
   "metadata": {},
   "source": [
    "## Ejercicio 11\n",
    "\n",
    "Crea una lista bidimensional con las notas de lxs alumnxs de una clase en los diferentes módulos. Cada fila será un alumnx y cada columna, las notas de un módulo.\n",
    "\n",
    "Calcula la media de notas de un módulo.\n",
    "\n",
    "Crea una nueva lista con las medias de cada uno de los módulos."
   ]
  },
  {
   "cell_type": "code",
   "execution_count": 8,
   "metadata": {},
   "outputs": [
    {
     "name": "stdout",
     "output_type": "stream",
     "text": [
      "5\n"
     ]
    }
   ],
   "source": [
    "primera_media = 0\n",
    "notas_alumnos = [[10, 2, 6, 8, 9], [5, 8, 9, 4, 7], [2, 5, 4, 3, 10]]\n",
    "for i in notas_alumnos:\n",
    "    primera_media += i[0]\n",
    "primera_media = primera_media // len(notas_alumnos)\n",
    "print(primera_media)"
   ]
  },
  {
   "cell_type": "markdown",
   "metadata": {},
   "source": [
    "## Ejercicio 12\n",
    "\n",
    "Crea una lista bidimensional que contenga los agrupamientos del alumnado de una clase para un determinado proyecto. La lista contendrá otras listas con los componentes de cada grupo.\n",
    "\n",
    "Muestra la lista por pantalla, con los componentes de cada grupo en una misma línea. Haz que no aparezcan los []. Por ejemplo:\n",
    "\n",
    "```python\n",
    "Luis, Juan\n",
    "María, Elba, Mario\n",
    "Carola\n",
    "Pablo, Manuel, Raquel, Uxía\n",
    "```"
   ]
  },
  {
   "cell_type": "code",
   "execution_count": 22,
   "metadata": {},
   "outputs": [
    {
     "name": "stdout",
     "output_type": "stream",
     "text": [
      "Luis, Juan\n",
      "María, Elba, Mario\n",
      "Carola\n",
      "Pablo, Manuel, Raquel, Uxía\n"
     ]
    }
   ],
   "source": [
    "lista = [[\"Luis\", \"Juan\"], [\"María\", \"Elba\", \"Mario\"], [\"Carola\"], [\"Pablo\", \"Manuel\", \"Raquel\", \"Uxía\"]]\n",
    "\n",
    "for fila in lista:\n",
    "    primero = True\n",
    "    for columna in fila:\n",
    "        if primero:\n",
    "            primero = False\n",
    "            print(columna, end=\"\")\n",
    "            continue\n",
    "        print(\", \", columna, sep=\"\", end=\"\")\n",
    "    print()"
   ]
  },
  {
   "cell_type": "markdown",
   "metadata": {},
   "source": [
    "## Ejercicio 13\n",
    "\n",
    "Utiliza una lista bidimensional para almacenar las temperaturas máximas de cada día de cada mes. Cada mes será una fila y las temperaturas estarán en columnas.\n",
    "\n",
    "Muestra las medias de cada mes."
   ]
  },
  {
   "cell_type": "code",
   "execution_count": 23,
   "metadata": {},
   "outputs": [
    {
     "name": "stdout",
     "output_type": "stream",
     "text": [
      "20\n",
      "31\n",
      "7\n"
     ]
    }
   ],
   "source": [
    "lista = [[20, 21, 23, 18, 19, 20, 21], [32, 30, 31, 29, 28, 34, 35], [6, 8, 9, 10, 11, 4, 3]]\n",
    "for fila in lista:\n",
    "    media = 0\n",
    "    for columna in fila:\n",
    "        media += columna\n",
    "    media = media // len(fila)\n",
    "    print(media)"
   ]
  },
  {
   "cell_type": "markdown",
   "metadata": {},
   "source": [
    "# Comprensión de listas (AVANZADO)\n"
   ]
  },
  {
   "cell_type": "markdown",
   "metadata": {},
   "source": [
    "\n",
    "## Ejercicio 14\n",
    "\n",
    "Crea una lista con las 10 primeras potencias de 3."
   ]
  },
  {
   "cell_type": "code",
   "execution_count": 5,
   "metadata": {},
   "outputs": [
    {
     "name": "stdout",
     "output_type": "stream",
     "text": [
      "[1, 3, 9, 27, 81, 243, 729, 2187, 6561, 19683, 59049]\n"
     ]
    }
   ],
   "source": [
    "lista = [3 ** i for i in range(11)]\n",
    "print(lista)"
   ]
  },
  {
   "cell_type": "markdown",
   "metadata": {},
   "source": [
    "## Ejercicio 15\n",
    "\n",
    "Crea una lista con los 100 primeros múltiplos de 7."
   ]
  },
  {
   "cell_type": "code",
   "execution_count": 7,
   "metadata": {},
   "outputs": [
    {
     "name": "stdout",
     "output_type": "stream",
     "text": [
      "[0, 7, 14, 21, 28, 35, 42, 49, 56, 63, 70, 77, 84, 91, 98, 105, 112, 119, 126, 133, 140, 147, 154, 161, 168, 175, 182, 189, 196, 203, 210, 217, 224, 231, 238, 245, 252, 259, 266, 273, 280, 287, 294, 301, 308, 315, 322, 329, 336, 343, 350, 357, 364, 371, 378, 385, 392, 399, 406, 413, 420, 427, 434, 441, 448, 455, 462, 469, 476, 483, 490, 497, 504, 511, 518, 525, 532, 539, 546, 553, 560, 567, 574, 581, 588, 595, 602, 609, 616, 623, 630, 637, 644, 651, 658, 665, 672, 679, 686, 693, 700]\n"
     ]
    }
   ],
   "source": [
    "lista = [7 * i for i in range(101)]\n",
    "print(lista)"
   ]
  },
  {
   "cell_type": "markdown",
   "metadata": {},
   "source": [
    "## Ejercicio 16\n",
    "\n",
    "Utilizando comprensión de listas, vuelve a resolver el ejercicio 3."
   ]
  },
  {
   "cell_type": "code",
   "execution_count": 11,
   "metadata": {},
   "outputs": [
    {
     "name": "stdout",
     "output_type": "stream",
     "text": [
      "[1, 3, 5, 7, 9, 15]\n"
     ]
    }
   ],
   "source": [
    "lista_vieja = [0, 1, 2, 3, 4, 5, 6, 7, 8, 9, 10, 15]\n",
    "lista = [i for i in lista_vieja if i % 2 != 0]\n",
    "print(lista)"
   ]
  },
  {
   "cell_type": "markdown",
   "metadata": {},
   "source": [
    "## Ejercicio 17\n",
    "\n",
    "Utilizando comprensión de listas, vuelve a resolver el ejercicio 4."
   ]
  },
  {
   "cell_type": "code",
   "execution_count": 13,
   "metadata": {},
   "outputs": [
    {
     "name": "stdout",
     "output_type": "stream",
     "text": [
      "[0, 2, 4, 6, 8, 10, 12, 14, 16, 18, 20, 30]\n"
     ]
    }
   ],
   "source": [
    "lista_vieja = [0, 1, 2, 3, 4, 5, 6, 7, 8, 9, 10, 15]\n",
    "lista = [i * 2 for i in lista_vieja]\n",
    "print(lista)"
   ]
  },
  {
   "cell_type": "markdown",
   "metadata": {},
   "source": [
    "## Ejercicio 18\n",
    "\n",
    "Utilizando comprensión de listas, vuelve a resolver el ejercicio 6."
   ]
  },
  {
   "cell_type": "code",
   "execution_count": 14,
   "metadata": {},
   "outputs": [
    {
     "name": "stdout",
     "output_type": "stream",
     "text": [
      "['febrero', 'agosto', 'septiembre', 'octubre', 'noviembre', 'diciembre']\n"
     ]
    }
   ],
   "source": [
    "lista = ['enero', 'febrero', 'marzo', 'abril', 'mayo', 'junio', 'julio', 'agosto', 'septiembre', 'octubre', 'noviembre', 'diciembre']\n",
    "lista_nueva = [i for i in lista if len(i) > 5]\n",
    "print(lista_nueva)"
   ]
  },
  {
   "cell_type": "markdown",
   "metadata": {},
   "source": [
    "## Ejercicio 19\n",
    "\n",
    "Crea una lista con los números que sean múltiplos de 3 o de 5 hasta el 100."
   ]
  },
  {
   "cell_type": "code",
   "execution_count": 16,
   "metadata": {},
   "outputs": [
    {
     "name": "stdout",
     "output_type": "stream",
     "text": [
      "[0, 3, 5, 6, 9, 10, 12, 15, 18, 20, 21, 24, 25, 27, 30, 33, 35, 36, 39, 40, 42, 45, 48, 50, 51, 54, 55, 57, 60, 63, 65, 66, 69, 70, 72, 75, 78, 80, 81, 84, 85, 87, 90, 93, 95, 96, 99, 100]\n"
     ]
    }
   ],
   "source": [
    "lista = [i for i in range(101) if i % 3 == 0 or i % 5 == 0]\n",
    "print(lista)"
   ]
  },
  {
   "cell_type": "markdown",
   "metadata": {},
   "source": [
    "## Ejercicio 20\n",
    "\n",
    "Crea una lista con los divisores de un número que se pasa por teclado."
   ]
  },
  {
   "cell_type": "code",
   "execution_count": 23,
   "metadata": {},
   "outputs": [
    {
     "name": "stdout",
     "output_type": "stream",
     "text": [
      "[6, 3, 2, 1]\n"
     ]
    }
   ],
   "source": [
    "numero = int(input(\"dime un numero\"))\n",
    "lista = [i for i in range(numero, 0, -1) if numero % i == 0]\n",
    "print(lista)"
   ]
  },
  {
   "cell_type": "markdown",
   "metadata": {},
   "source": [
    "## Ejercicio 21\n",
    "\n",
    "Crea una lista con los años que son bisiestos a partir de una lista de años.\n",
    "\n",
    "Por ejemplo, a partir de [1995, 2004, 2003, 1900, 2008] debe devolver [2004, 2008].\n",
    "\n",
    "Debes utilizar la función `es_bisiesto(anho)` creada en el tema anterior y comprensión de listas."
   ]
  },
  {
   "cell_type": "code",
   "execution_count": 32,
   "metadata": {},
   "outputs": [
    {
     "name": "stdout",
     "output_type": "stream",
     "text": [
      "[2004, 2008]\n"
     ]
    }
   ],
   "source": [
    "lista = [1995, 2004, 2003, 1900, 2008]\n",
    "lista_bisiestos = [year for year in lista if year % 100 != 0 and year % 4 == 0 or year % 400 == 0]\n",
    "print(lista_bisiestos)"
   ]
  },
  {
   "cell_type": "markdown",
   "metadata": {},
   "source": [
    "# Ejercicios sencillos listas bidimensionales\n",
    "\n",
    "## Ejercicio 22\n",
    "\n",
    "Crea una lista bidimensional de 6 filas y 7 columnas con valores aleatorios entre 0 y 9.\n",
    "\n",
    "Muéstrala por pantalla.\n",
    "\n",
    "Recórrela y almacena en una variable cuántos números pares hay en ella y almacena en otra cuántos impares.\n",
    "\n",
    "Muestra los resultados por pantalla.\n",
    "\n",
    "Vuelve a recorrerla para crear una lista unidimensional nueva con los números pares que aparecen en ella y otra con los impares."
   ]
  },
  {
   "cell_type": "code",
   "execution_count": 1,
   "metadata": {},
   "outputs": [
    {
     "name": "stdout",
     "output_type": "stream",
     "text": [
      "[[4, 3, 6, 4, 4, 0, 1], [4, 9, 3, 6, 1, 7, 2], [9, 5, 8, 0, 3, 4, 5], [4, 0, 6, 1, 5, 8, 7], [5, 4, 9, 9, 6, 3, 8], [1, 3, 2, 3, 0, 3, 6]]\n"
     ]
    },
    {
     "ename": "TypeError",
     "evalue": "list indices must be integers or slices, not list",
     "output_type": "error",
     "traceback": [
      "\u001b[1;31m---------------------------------------------------------------------------\u001b[0m",
      "\u001b[1;31mTypeError\u001b[0m                                 Traceback (most recent call last)",
      "Cell \u001b[1;32mIn[1], line 15\u001b[0m\n\u001b[0;32m     13\u001b[0m \u001b[38;5;28;01mfor\u001b[39;00m i \u001b[38;5;129;01min\u001b[39;00m lista:\n\u001b[0;32m     14\u001b[0m     \u001b[38;5;28;01mfor\u001b[39;00m j \u001b[38;5;129;01min\u001b[39;00m i:\n\u001b[1;32m---> 15\u001b[0m         \u001b[38;5;28;01mif\u001b[39;00m \u001b[43mlista\u001b[49m\u001b[43m[\u001b[49m\u001b[43mi\u001b[49m\u001b[43m]\u001b[49m[j] \u001b[38;5;241m%\u001b[39m \u001b[38;5;241m2\u001b[39m \u001b[38;5;241m==\u001b[39m \u001b[38;5;241m0\u001b[39m:\n\u001b[0;32m     16\u001b[0m             pares \u001b[38;5;241m+\u001b[39m\u001b[38;5;241m=\u001b[39m \u001b[38;5;241m1\u001b[39m\n\u001b[0;32m     17\u001b[0m         \u001b[38;5;28;01melse\u001b[39;00m:\n",
      "\u001b[1;31mTypeError\u001b[0m: list indices must be integers or slices, not list"
     ]
    }
   ],
   "source": [
    "import random\n",
    "\n",
    "lista = []\n",
    "for i in range(6):\n",
    "    i = []\n",
    "    for j in range(7):\n",
    "        i.append(random.randint(0,9))\n",
    "    lista.append(i)\n",
    "print(lista) \n",
    "\n",
    "pares = 0\n",
    "impares = 0\n",
    "for i in lista:\n",
    "    for j in i:\n",
    "        if lista[i][j] % 2 == 0:\n",
    "            pares += 1\n",
    "        else:\n",
    "            impares += 1\n",
    "print(\"hay\", pares, \"pares y hay\", impares, \"impares\")"
   ]
  },
  {
   "cell_type": "markdown",
   "metadata": {},
   "source": [
    "## Ejercicio 23\n",
    "\n",
    "Crea una lista bidimensional 3x3 que sirva para jugar al tres en raya, almacenará 3 posibles cadenas, una cadena vacía para indicar que no se ha puesto una ficha en esa posición, una 'o' para indicar que ha jugado el jugador 1 y una 'x' para el jugador 2.\n",
    "\n",
    "Crea una función que la recorra y que busque si se ha producido 3 en raya para el jugador 1 en alguna de las filas.\n",
    "\n",
    "Crea una función que la recorra y que busque si se ha producido 3 en raya para el jugador 1 en alguna de las columnas.\n",
    "\n",
    "**AVANZADO**: Crea una función que la recorra y que busque si se ha producido 3 en raya para el jugador 1 en alguna de las diagonales.\n",
    "\n",
    "**AVANZADO**: Crea una función que la recorra y que busque si se ha producido 3 en raya para algún jugador.\n",
    "\n",
    "**AVANZADO**: Completa el ejercicio para que dos jugadores puedan jugar al 3 en raya.\n"
   ]
  }
 ],
 "metadata": {
  "kernelspec": {
   "display_name": "Python 3",
   "language": "python",
   "name": "python3"
  },
  "language_info": {
   "codemirror_mode": {
    "name": "ipython",
    "version": 3
   },
   "file_extension": ".py",
   "mimetype": "text/x-python",
   "name": "python",
   "nbconvert_exporter": "python",
   "pygments_lexer": "ipython3",
   "version": "3.12.6"
  }
 },
 "nbformat": 4,
 "nbformat_minor": 2
}
