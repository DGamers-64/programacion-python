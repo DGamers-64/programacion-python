{
 "cells": [
  {
   "cell_type": "markdown",
   "metadata": {},
   "source": [
    "# Ejercicios\n",
    "\n",
    "# Ejercicio 1: \n",
    "Crea una clase llamada `Libro` que guarde la información de cada uno de los libros de una biblioteca. La clase debe guardar el título del libro, autor, número de ejemplares del libro y el número de ejemplares prestados. La clase contendrá los siguientes métodos:\n",
    "-\tConstructor.\n",
    "-\tMétodo `prestar()` que incremente el atributo correspondiente cada vez que se realice un préstamo del libro. No se podrán prestar libros de los que no queden ejemplares disponibles para prestar. Devolverá `True` si se pudo realizar la operación y `False` en caso contrario.\n",
    "-\tMétodo `devolver()` que decremente el atributo correspondiente cuando se produzca la devolución de un libro. No se podrán devolver libros que no se habían prestado. Devuelve `True` si se pudo realizar la operación y `False`, en caso contrario.\n",
    "\n",
    "Prueba el funcionamiento de la clase `Libro` desde el programa principal.\n",
    "\n",
    "# Ejercicio 2: \n",
    "Crea una clase llamada `Rectangulo` que: \n",
    "- Declare atributos para la base y la altura de un rectángulo.\n",
    "- Declare un constructor. Por defecto, el rectángulo tendrá una base de 0 y una altura de 0.\n",
    "- Declare los siguientes métodos: \n",
    "    - `area()`: devuelve el área del rectángulo.\n",
    "    - `__str__`: devuelve una cadena conteniendo su área y altura.\n",
    "    - `es_cuadrado()`: devuelve un booleano indicando si el rectángulo es cuadrado.\n",
    "    - \n",
    "Prueba el funcionamiento de la clase Rectangulo desde el programa principal.\n",
    "\n",
    "# Ejercicio 3:\n",
    "\n",
    "Implementa una clase llamada Luz que simule un semáforo. La clase tendrá un atributo llamado color y un método llamado cambia_color que cambie el color de la luz. El color de la luz se inicializa a rojo.\n",
    "\n",
    "# Ejercicio 4:\n",
    "Diseña una clase llamada `Alumnx` para gestionar el alumnado de una escuela. Contiene los atributos: nombre completo, DNI, edad y nombre de la escuela. \n",
    "\n",
    "Además del constructor y los métodos para controlar el acceso a cada atributo que lo necesite, tendrá los siguientes métodos:\n",
    "- Método que nos dice si es mayor de edad o no.\n",
    "- Métodos mágicos `__ge__`, `__gt__`, `__le__` y `__lt__` para comparar la edad de dos alumnos/as.\n",
    "- Método mágico que nos permita comparar si dos alumnos/as son iguales. Dos alumnos/as son iguales si tienen el mismo DNI.\n",
    "  \n",
    "Realiza a continuación un programa sencillo que use la clase definida.\n",
    "\n",
    "# Ejercicio 5:\n",
    "\n",
    "El Ayuntamiento de Vigo nos proponen la creación de un programa Java que permita gestionar la venta de entradas (no numeradas) en la Feria del motor de IFEVI. \n",
    "\n",
    "Se realizará en 3 zonas, la sala principal con 2000 entradas disponibles, la zona de compra-venta con 300 entradas disponibles y la zona vip con 20 entradas disponibles. \n",
    "\n",
    "El objetivo de este programa es controlar la venta de entradas, evitando que se puedan vender entradas que no existen o que se vendan más entradas de las disponibles.\n",
    "\n",
    "Hay que controlar que existen entradas antes de venderlas.\n",
    "\n",
    "Deberemos crear una clase llamada Feria que guarde la información básica de las entradas (precios y número de entradas restantes) y que tenga los métodos necesarios para controlar la venta de entradas."
   ]
  }
 ],
 "metadata": {
  "language_info": {
   "name": "python"
  }
 },
 "nbformat": 4,
 "nbformat_minor": 2
}
