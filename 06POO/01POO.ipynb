{
 "cells": [
  {
   "cell_type": "markdown",
   "metadata": {},
   "source": [
    "# Programación Orientada a Objetos\n",
    "\n",
    "## Definición de clase\n",
    "\n",
    "Para definir una clase se utiliza la palabra reservada `class` seguida del nombre de la clase y dos puntos.\n",
    "\n",
    "Por convención, los nombres de las clases deben comenzar con mayúscula."
   ]
  },
  {
   "cell_type": "code",
   "execution_count": null,
   "metadata": {},
   "outputs": [],
   "source": [
    "class Circulo:\n",
    "    pass # No está implementado aún"
   ]
  },
  {
   "cell_type": "markdown",
   "metadata": {},
   "source": [
    "## Palabra reservada `self`\n",
    "\n",
    "La palabra reservada `self` se utiliza para referirse al propio objeto con el que se está trabajando. Se utiliza para acceder a los atributos y métodos del objeto.\n",
    "\n",
    "## Atributos\n",
    "\n",
    "Los atributos son variables que pertenecen a un objeto y almacenan sus propiedades. En Python, no es necesario declararlos previamente, simplemente se crean al asignarles un valor. Habitualmente, se inicializan en el constructor.\n",
    "\n",
    "Es una buena práctica de programación (se genera un código más limpio) asignar valores a los atributos en el constructor, aunque no es obligatorio.\n",
    "\n",
    "## Constructor\n",
    "\n",
    "El constructor es un método especial que se ejecuta al crear un objeto de la clase. Habitualmente se utiliza para inicializar los atributos del objeto.\n",
    "\n",
    "Se define con el nombre `__init__` y recibe como primer parámetro el objeto que se está creando.\n"
   ]
  },
  {
   "cell_type": "code",
   "execution_count": 3,
   "metadata": {},
   "outputs": [
    {
     "name": "stdout",
     "output_type": "stream",
     "text": [
      "(0, 0)\n"
     ]
    }
   ],
   "source": [
    "class Circulo:\n",
    "    def __init__(self, radio, centro = (0, 0)):\n",
    "        self.radio = radio\n",
    "        self.centro = centro"
   ]
  },
  {
   "cell_type": "markdown",
   "metadata": {},
   "source": [
    "## Creación de objetos: instanciaciación\n",
    "\n",
    "Para crear un objeto de una clase se utiliza el nombre de la clase seguido de paréntesis. Si la clase tiene un constructor, se deben pasar los parámetros que recibe.\n",
    "\n",
    "Si queremos continuar utilizando el objeto debemos asignarlo a una variable."
   ]
  },
  {
   "cell_type": "code",
   "execution_count": null,
   "metadata": {},
   "outputs": [],
   "source": [
    "c = Circulo(5) # c es un objeto de tipo Circulo"
   ]
  },
  {
   "cell_type": "markdown",
   "metadata": {},
   "source": [
    "\n",
    "## Métodos\n",
    "\n",
    "En Python, el primer parámetro de los métodos de una clase debe ser el objeto sobre el que se está llamando. Por convención, se utiliza el nombre `self` para referirse a este parámetro.\n",
    "\n",
    "## Atributos de clase\n",
    "\n",
    "Los atributos de clase son variables que pertenecen a la clase y no a los objetos. Se definen fuera de los métodos.\n",
    "\n",
    "Su valor no es propio de cada objeto sino que es común a todos los objetos de la clase.\n",
    "\n",
    "En otros lenguajes de programación, se les conoce como atributos **estáticos**."
   ]
  }
 ],
 "metadata": {
  "kernelspec": {
   "display_name": "Python 3",
   "language": "python",
   "name": "python3"
  },
  "language_info": {
   "codemirror_mode": {
    "name": "ipython",
    "version": 3
   },
   "file_extension": ".py",
   "mimetype": "text/x-python",
   "name": "python",
   "nbconvert_exporter": "python",
   "pygments_lexer": "ipython3",
   "version": "3.11.0"
  }
 },
 "nbformat": 4,
 "nbformat_minor": 2
}
