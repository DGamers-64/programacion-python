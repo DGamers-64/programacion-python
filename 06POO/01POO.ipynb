{
 "cells": [
  {
   "cell_type": "markdown",
   "metadata": {},
   "source": [
    "# Programación Orientada a Objetos\n",
    "\n",
    "## Definición de clase\n",
    "\n",
    "Para definir una clase se utiliza la palabra reservada `class` seguida del nombre de la clase y dos puntos.\n",
    "\n",
    "Por convención, los nombres de las clases deben comenzar con mayúscula."
   ]
  },
  {
   "cell_type": "code",
   "execution_count": null,
   "metadata": {},
   "outputs": [],
   "source": [
    "class Circulo:\n",
    "    pass # No está implementado aún"
   ]
  },
  {
   "cell_type": "markdown",
   "metadata": {},
   "source": [
    "## Atributos\n",
    "\n",
    "Los atributos son variables que pertenecen a un objeto y almacenan sus propiedades. En Python, no es necesario declararlos previamente, simplemente se crean al asignarles un valor. Habitualmente, se inicializan en el constructor.\n",
    "\n",
    "Es una buena práctica de programación (se genera un código más limpio) asignar valores a los atributos en el constructor, aunque no es obligatorio.\n",
    "\n",
    "Para generar un código más limpio, declararemos los atributos al principio de la clase, e indicaremos su tipo utilizando *type hints*.\n"
   ]
  },
  {
   "cell_type": "code",
   "execution_count": null,
   "metadata": {},
   "outputs": [],
   "source": [
    "class Circulo:\n",
    "    radio: float\n",
    "    centro: tuple[float, float]"
   ]
  },
  {
   "cell_type": "markdown",
   "metadata": {},
   "source": [
    "## `self`\n",
    "\n",
    "Por convención, se utiliza `self` para referirse al propio objeto con el que se está trabajando. Se utiliza para acceder a los atributos y métodos del objeto."
   ]
  },
  {
   "cell_type": "markdown",
   "metadata": {},
   "source": [
    "\n",
    "## Constructor\n",
    "\n",
    "El constructor es un método especial que se ejecuta al crear un objeto de la clase. Habitualmente se utiliza para inicializar los atributos del objeto.\n",
    "\n",
    "Se define con el nombre `__init__` y recibe como primer parámetro el objeto que se está creando.\n",
    "\n",
    "A continuación, es habitual pasarle los valores de los atributos que se quieren inicializar.\n"
   ]
  },
  {
   "cell_type": "code",
   "execution_count": null,
   "metadata": {},
   "outputs": [],
   "source": [
    "class Circulo:\n",
    "    radio: float\n",
    "    centro: tuple[float, float]\n",
    "    \n",
    "    def __init__(self, radio, centro):\n",
    "        self.radio = radio\n",
    "        self.centro = centro"
   ]
  },
  {
   "cell_type": "markdown",
   "metadata": {},
   "source": [
    "Como en cualquier otro método, se pueden definir parámetros opcionales, que se inicializarán con un valor por defecto."
   ]
  },
  {
   "cell_type": "code",
   "execution_count": 2,
   "metadata": {},
   "outputs": [],
   "source": [
    "class Circulo:\n",
    "    radio: float\n",
    "    centro: tuple[float, float]\n",
    "    \n",
    "    def __init__(self, radio, centro = (0, 0)):\n",
    "        self.radio = radio\n",
    "        self.centro = centro"
   ]
  },
  {
   "cell_type": "markdown",
   "metadata": {},
   "source": [
    "## Creación de objetos: instanciaciación\n",
    "\n",
    "Para crear un objeto de una clase se utiliza el nombre de la clase seguido de paréntesis. Si la clase tiene un constructor, se deben pasar los parámetros que recibe.\n",
    "\n",
    "Si queremos continuar utilizando el objeto debemos asignarlo a una variable."
   ]
  },
  {
   "cell_type": "code",
   "execution_count": 3,
   "metadata": {},
   "outputs": [],
   "source": [
    "c = Circulo(5, (2, 3)) # c es un objeto de tipo Circulo"
   ]
  },
  {
   "cell_type": "markdown",
   "metadata": {},
   "source": [
    "## Operador `.` de acceso a atributos\n",
    "\n",
    "Para acceder a los atributos y métodos de un objeto se utiliza el operador `.` seguido del nombre del atributo o método."
   ]
  },
  {
   "cell_type": "code",
   "execution_count": 4,
   "metadata": {},
   "outputs": [
    {
     "name": "stdout",
     "output_type": "stream",
     "text": [
      "5\n"
     ]
    }
   ],
   "source": [
    "print(c.radio)"
   ]
  },
  {
   "cell_type": "markdown",
   "metadata": {},
   "source": [
    "También se pueden utilizar para modificar el valor de un atributo."
   ]
  },
  {
   "cell_type": "code",
   "execution_count": 8,
   "metadata": {},
   "outputs": [
    {
     "name": "stdout",
     "output_type": "stream",
     "text": [
      "7\n"
     ]
    }
   ],
   "source": [
    "c.radio = 7\n",
    "print(c.radio)"
   ]
  },
  {
   "cell_type": "markdown",
   "metadata": {},
   "source": [
    "\n",
    "## Métodos\n",
    "\n",
    "Los métodos de un objeto son funciones que pertenecen a la clase y se utilizan para realizar acciones sobre el objeto. Se definen de la misma forma que las funciones, pero dentro de la clase.\n",
    "\n",
    "En Python, el primer parámetro de los métodos de una clase debe ser el objeto sobre el que se está llamando. Podría utilizarse cualquier nombre de variable pero, por convención, se utiliza el nombre `self` para referirse a este parámetro.\n"
   ]
  },
  {
   "cell_type": "code",
   "execution_count": 6,
   "metadata": {},
   "outputs": [],
   "source": [
    "import math\n",
    "\n",
    "class Circulo:\n",
    "    radio: float\n",
    "    centro: tuple[float, float]\n",
    "    \n",
    "    def __init__(self, radio, centro = (0, 0)):\n",
    "        self.radio = radio\n",
    "        self.centro = centro\n",
    "        \n",
    "    def area(self):\n",
    "        return math.pi * self.radio ** 2"
   ]
  },
  {
   "cell_type": "markdown",
   "metadata": {},
   "source": [
    "Para hacer uso de los métodos de un objeto, se utiliza el operador `.` seguido del nombre del método y los paréntesis."
   ]
  },
  {
   "cell_type": "code",
   "execution_count": 7,
   "metadata": {},
   "outputs": [
    {
     "name": "stdout",
     "output_type": "stream",
     "text": [
      "78.53981633974483\n"
     ]
    }
   ],
   "source": [
    "c = Circulo(5, (2, 3))\n",
    "print(c.area())"
   ]
  },
  {
   "cell_type": "markdown",
   "metadata": {},
   "source": [
    "## Métodos mágicos\n",
    "\n",
    "Los métodos especiales son métodos que se utilizan para realizar acciones especiales sobre los objetos. Se definen con el nombre entre dos guiones bajos al principio y al final.\n",
    "\n",
    "### `__str__`\n",
    "\n",
    "El método `__str__` se utiliza para obtener una representación en forma de cadena de texto del objeto. Será el que se llamará automáticamente cuando:\n",
    "- Se imprima el objeto con la función `print`\n",
    "- Se utilice la función `str` para convertir el objeto a cadena de texto\n",
    "\n",
    "Si no se define, se utilizará la representación por defecto, que es el nombre de la clase y la dirección de memoria del objeto."
   ]
  },
  {
   "cell_type": "code",
   "execution_count": 10,
   "metadata": {},
   "outputs": [
    {
     "name": "stdout",
     "output_type": "stream",
     "text": [
      "<__main__.Circulo object at 0x0000021C9675DBD0>\n"
     ]
    }
   ],
   "source": [
    "import math\n",
    "\n",
    "class Circulo:\n",
    "    radio: float\n",
    "    centro: tuple[float, float]\n",
    "    \n",
    "    def __init__(self, radio, centro = (0, 0)):\n",
    "        self.radio = radio\n",
    "        self.centro = centro\n",
    "        \n",
    "    def area(self):\n",
    "        return math.pi * self.radio ** 2\n",
    "    \n",
    "c = Circulo(5, (2, 3))\n",
    "print(c)"
   ]
  },
  {
   "cell_type": "code",
   "execution_count": 11,
   "metadata": {},
   "outputs": [
    {
     "name": "stdout",
     "output_type": "stream",
     "text": [
      "Círculo de radio 5 y centro (2, 3)\n"
     ]
    }
   ],
   "source": [
    "import math\n",
    "\n",
    "class Circulo:\n",
    "    radio: float\n",
    "    centro: tuple[float, float]\n",
    "    \n",
    "    def __init__(self, radio, centro = (0, 0)):\n",
    "        self.radio = radio\n",
    "        self.centro = centro\n",
    "        \n",
    "    def area(self):\n",
    "        return math.pi * self.radio ** 2\n",
    "    \n",
    "    def __str__(self):\n",
    "        return f\"Círculo de radio {self.radio} y centro {self.centro}\"\n",
    "    \n",
    "c = Circulo(5, (2, 3))\n",
    "print(c)"
   ]
  },
  {
   "cell_type": "markdown",
   "metadata": {},
   "source": [
    "Otros métodos especiales son:\n",
    "- Los utilizados para indicar qué sucede cuando se aplican operaciones aritméticas sobre el objeto: `__add__`, `__sub__`, `__mul__`, `__truediv__`, `__floordiv__`, `__mod__`, `__pow__`.\n",
    "- Los utilizados para indicar qué sucede cuando se aplican operaciones de comparación sobre el objeto: `__eq__`, `__ne__`, `__lt__`, `__le__`, `__gt__`, `__ge__`.\n",
    "- `__len__`: utilizado para indicar la longitud del objeto. Se llama cuando se utiliza la función `len()` sobre el objeto."
   ]
  },
  {
   "cell_type": "code",
   "execution_count": 13,
   "metadata": {},
   "outputs": [
    {
     "name": "stdout",
     "output_type": "stream",
     "text": [
      "Círculo de radio 10 y centro (2, 3)\n"
     ]
    }
   ],
   "source": [
    "# Supongamos que al multiplicar un círculo por un número, se multiplica su radio\n",
    "# y se deja el centro igual\n",
    "\n",
    "import math\n",
    "\n",
    "class Circulo:\n",
    "    radio: float\n",
    "    centro: tuple[float, float]\n",
    "    \n",
    "    def __init__(self, radio, centro = (0, 0)):\n",
    "        self.radio = radio\n",
    "        self.centro = centro\n",
    "        \n",
    "    def area(self):\n",
    "        return math.pi * self.radio ** 2\n",
    "    \n",
    "    def __str__(self):\n",
    "        return f\"Círculo de radio {self.radio} y centro {self.centro}\"\n",
    "    \n",
    "    def __mul__(self, n):\n",
    "        return Circulo(self.radio * n, self.centro) # Devolvemos un nuevo círculo con el radio multiplicado y el mismo centro\n",
    "    \n",
    "c = Circulo(5, (2, 3))\n",
    "c2 = c * 2\n",
    "print(c2)\n"
   ]
  },
  {
   "cell_type": "markdown",
   "metadata": {},
   "source": [
    "\n",
    "## Atributos de clase\n",
    "\n",
    "Los atributos de clase son variables que pertenecen a la clase y no a los objetos. Se les asigna valor fuera de los métodos. Por convención, se declaran al principio de la clase.\n",
    "\n",
    "Su valor no es propio de cada objeto sino que es común a todos los objetos de la clase.\n",
    "\n",
    "Para acceder a ellos se utiliza el nombre de la clase seguido de un punto y el nombre del atributo.\n",
    "\n",
    "En otros lenguajes de programación, se les conoce como atributos **estáticos**.\n",
    "\n",
    "## Métodos de clase\n",
    "\n",
    "## Métodos estáticos"
   ]
  },
  {
   "cell_type": "markdown",
   "metadata": {},
   "source": [
    "## Encapsulación\n",
    "\n",
    "### Decorador `@property`\n",
    "\n",
    "### Decorador `@setter`\n",
    "\n",
    "### Dataclasses\n"
   ]
  }
 ],
 "metadata": {
  "kernelspec": {
   "display_name": "Python 3",
   "language": "python",
   "name": "python3"
  },
  "language_info": {
   "codemirror_mode": {
    "name": "ipython",
    "version": 3
   },
   "file_extension": ".py",
   "mimetype": "text/x-python",
   "name": "python",
   "nbconvert_exporter": "python",
   "pygments_lexer": "ipython3",
   "version": "3.11.0"
  }
 },
 "nbformat": 4,
 "nbformat_minor": 2
}
